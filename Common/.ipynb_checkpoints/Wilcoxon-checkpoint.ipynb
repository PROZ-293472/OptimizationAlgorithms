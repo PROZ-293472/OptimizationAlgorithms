{
 "cells": [
  {
   "cell_type": "code",
   "execution_count": 1,
   "metadata": {},
   "outputs": [],
   "source": [
    "import pandas as pd"
   ]
  },
  {
   "cell_type": "code",
   "execution_count": 105,
   "metadata": {},
   "outputs": [],
   "source": [
    "fname = 'fixed_iter'\n",
    "\n",
    "func_name = 'rastrigin'\n",
    "\n",
    "alg_df_dict = {}\n",
    "for alg_name in ['de','cmaes', 'des']:\n",
    "    df = None\n",
    "    for lang in ['py', 'r']:\n",
    "        new_df = pd.read_csv(f'{lang}_{fname}_{func_name}_{alg_name}.csv')\n",
    "        new_df = new_df.add_prefix(lang + '_')\n",
    "        if df is None:\n",
    "            df = new_df\n",
    "        else:\n",
    "            df = pd.concat([df, new_df], axis=1)\n",
    "    assert (df['r_dim'].values == df['py_dim'].values).all()\n",
    "    df = df.drop(['r_dim','py_Unnamed: 0'], axis=1)\n",
    "    df = df.rename(columns={'py_dim': 'dim'})\n",
    "    alg_df_dict[alg_name] = df"
   ]
  },
  {
   "cell_type": "code",
   "execution_count": 107,
   "metadata": {},
   "outputs": [
    {
     "data": {
      "text/plain": [
       "<Figure size 432x288 with 0 Axes>"
      ]
     },
     "metadata": {},
     "output_type": "display_data"
    }
   ],
   "source": [
    "\n",
    "dims = [3,10,50,70]\n",
    "langs = ['py', 'r']\n",
    "\n",
    "alg = 'cmaes'\n",
    "for alg in ['cmaes', 'de', 'des']:\n",
    "    df = alg_df_dict[alg]\n",
    "\n",
    "    for i, l in enumerate(langs):\n",
    "        sub_axes = []\n",
    "        lang = l + '_best_val'\n",
    "#         for j, dim in enumerate(dims):\n",
    "        sns_plot = sns.boxplot(x=\"dim\", y=lang, data=df)\n",
    "        sns_plot.set_title(f'{func_name.upper()}: {l.upper()}')\n",
    "        sns_plot.figure.savefig(f\"figs\\\\boxplot_{func_name}_{alg}_{l}.png\")\n",
    "        plt.clf()\n",
    "        "
   ]
  },
  {
   "cell_type": "code",
   "execution_count": 75,
   "metadata": {},
   "outputs": [
    {
     "ename": "TypeError",
     "evalue": "'AxesSubplot' object is not callable",
     "output_type": "error",
     "traceback": [
      "\u001b[1;31m---------------------------------------------------------------------------\u001b[0m",
      "\u001b[1;31mTypeError\u001b[0m                                 Traceback (most recent call last)",
      "\u001b[1;32m<ipython-input-75-a1b6d8a7279f>\u001b[0m in \u001b[0;36m<module>\u001b[1;34m\u001b[0m\n\u001b[1;32m----> 1\u001b[1;33m \u001b[0maxes_tuple\u001b[0m\u001b[1;33m[\u001b[0m\u001b[1;36m0\u001b[0m\u001b[1;33m]\u001b[0m\u001b[1;33m[\u001b[0m\u001b[1;36m0\u001b[0m\u001b[1;33m]\u001b[0m\u001b[1;33m.\u001b[0m\u001b[0maxes\u001b[0m\u001b[1;33m(\u001b[0m\u001b[1;33m)\u001b[0m\u001b[1;33m\u001b[0m\u001b[1;33m\u001b[0m\u001b[0m\n\u001b[0m",
      "\u001b[1;31mTypeError\u001b[0m: 'AxesSubplot' object is not callable"
     ]
    }
   ],
   "source": []
  },
  {
   "cell_type": "code",
   "execution_count": 74,
   "metadata": {},
   "outputs": [
    {
     "data": {
      "text/plain": [
       "<Figure size 432x288 with 0 Axes>"
      ]
     },
     "metadata": {},
     "output_type": "display_data"
    }
   ],
   "source": [
    "fig = plt.figure()\n",
    "fig.axes.append(axes_tuple[0][0].axes)\n",
    "# plt.show()"
   ]
  },
  {
   "cell_type": "code",
   "execution_count": 111,
   "metadata": {},
   "outputs": [
    {
     "name": "stdout",
     "output_type": "stream",
     "text": [
      "3 & $\\num{0.00e+00}$ & $\\num{0.00e+00}$ & $\\num{0.00e+00}$ & $\\num{0.00e+00}$ & $\\num{0.00e+00}$ & $\\num{0.00e+00}$ \\\\\n",
      "5 & $\\num{0.00e+00}$ & $\\num{0.00e+00}$ & $\\num{0.00e+00}$ & $\\num{0.00e+00}$ & $\\num{0.00e+00}$ & $\\num{0.00e+00}$ \\\\\n",
      "10 & $\\num{9.95e-01}$ & $\\num{0.00e+00}$ & $\\num{9.95e-01}$ & $\\num{9.95e-01}$ & $\\num{1.82e+01}$ & $\\num{1.24e-09}$ \\\\\n",
      "20 & $\\num{6.42e+00}$ & $\\num{5.97e+00}$ & $\\num{3.98e+00}$ & $\\num{4.98e+00}$ & $\\num{7.68e+01}$ & $\\num{3.52e-04}$ \\\\\n",
      "50 & $\\num{5.40e+01}$ & $\\num{1.89e+01}$ & $\\num{1.33e+01}$ & $\\num{nan}$ & $\\num{2.46e+02}$ & $\\num{nan}$ \\\\\n",
      "70 & $\\num{1.69e+02}$ & $\\num{2.69e+01}$ & $\\num{2.19e+01}$ & $\\num{1.90e+02}$ & $\\num{4.30e+02}$ & $\\num{4.95e+01}$ \\\\\n"
     ]
    }
   ],
   "source": [
    "py = 'py_best_val'\n",
    "r = 'r_best_val'\n",
    "\n",
    "\n",
    "for dim in [3,5,10,20,50,70]:\n",
    "    out_str = f'{dim} '\n",
    "    for switch in [py, r]:\n",
    "        for alg in ['de', 'cmaes', 'des']:\n",
    "#             if alg == 'cmaes':\n",
    "#                 out_str += '& $\\\\num{}$ '\n",
    "#                 continue\n",
    "            res = alg_df_dict[alg].loc[alg_df_dict[alg].dim==dim].sort_values(by=switch)[switch].iloc[0]\n",
    "            res_str = '{:0.2e}'.format(res)\n",
    "            out_str += f'& $\\\\num{{{res_str}}}$ '\n",
    "    out_str += '\\\\\\\\'\n",
    "    print(out_str)\n"
   ]
  },
  {
   "cell_type": "code",
   "execution_count": 112,
   "metadata": {},
   "outputs": [
    {
     "name": "stdout",
     "output_type": "stream",
     "text": [
      "\\multirow{3} & DE & $\\num{1.92e-01}$ \\\\\n",
      "& CMAES & $\\num{1.31e-04}$ \\\\\n",
      "& DES & $\\num{1.09e-01}$ \\\\\n",
      "\n",
      "\\hline\n",
      "\\multirow{10} & DE & $\\num{4.12e-01}$ \\\\\n",
      "& CMAES & $\\num{1.23e-05}$ \\\\\n",
      "& DES & $\\num{5.13e-05}$ \\\\\n",
      "\n",
      "\\hline\n",
      "\\multirow{70} & DE & $\\num{9.80e-04}$ \\\\\n",
      "& CMAES & $\\num{1.39e-05}$ \\\\\n",
      "& DES & $\\num{1.23e-05}$ \\\\\n",
      "\n",
      "\\hline\n"
     ]
    }
   ],
   "source": [
    "from scipy.stats import wilcoxon\n",
    "\n",
    "py = 'py_best_val'\n",
    "r = 'r_best_val'\n",
    "\n",
    "\n",
    "for dim in [3,10,70]:\n",
    "    out_str = f'\\\\multirow{{{dim}}} '\n",
    "    for alg in ['de', 'cmaes', 'des']:\n",
    "#         if alg == 'cmaes':\n",
    "#             res_str = '1'\n",
    "#         else:\n",
    "        dim_df = alg_df_dict[alg].loc[alg_df_dict[alg].dim==dim]\n",
    "#         if alg == 'cmaes':\n",
    "#             print(dim_df)\n",
    "        x =  dim_df[py]\n",
    "        y = dim_df[r]\n",
    "        w, p = wilcoxon(x,y)\n",
    "        res_str = '{:0.2e}'.format(p)\n",
    "        \n",
    "        out_str += f'& {alg.upper()} & $\\\\num{{{res_str}}}$ '\n",
    "        out_str += '\\\\\\\\\\n'\n",
    "    print(out_str)\n",
    "    print('\\\\hline')"
   ]
  },
  {
   "cell_type": "code",
   "execution_count": 61,
   "metadata": {},
   "outputs": [
    {
     "data": {
      "text/plain": [
       "'2.324e+25'"
      ]
     },
     "execution_count": 61,
     "metadata": {},
     "output_type": "execute_result"
    }
   ],
   "source": [
    "'{:0.3e}'.format(2.32432432423e25)"
   ]
  },
  {
   "cell_type": "code",
   "execution_count": 91,
   "metadata": {},
   "outputs": [
    {
     "data": {
      "text/html": [
       "<div>\n",
       "<style scoped>\n",
       "    .dataframe tbody tr th:only-of-type {\n",
       "        vertical-align: middle;\n",
       "    }\n",
       "\n",
       "    .dataframe tbody tr th {\n",
       "        vertical-align: top;\n",
       "    }\n",
       "\n",
       "    .dataframe thead th {\n",
       "        text-align: right;\n",
       "    }\n",
       "</style>\n",
       "<table border=\"1\" class=\"dataframe\">\n",
       "  <thead>\n",
       "    <tr style=\"text-align: right;\">\n",
       "      <th></th>\n",
       "      <th>dim</th>\n",
       "      <th>py_best_val</th>\n",
       "      <th>r_best_val</th>\n",
       "    </tr>\n",
       "  </thead>\n",
       "  <tbody>\n",
       "    <tr>\n",
       "      <th>0</th>\n",
       "      <td>3</td>\n",
       "      <td>5.891959e-135</td>\n",
       "      <td>1.873860e-144</td>\n",
       "    </tr>\n",
       "    <tr>\n",
       "      <th>1</th>\n",
       "      <td>3</td>\n",
       "      <td>3.975009e-135</td>\n",
       "      <td>7.714573e-141</td>\n",
       "    </tr>\n",
       "    <tr>\n",
       "      <th>2</th>\n",
       "      <td>3</td>\n",
       "      <td>2.112282e-134</td>\n",
       "      <td>1.218745e-142</td>\n",
       "    </tr>\n",
       "    <tr>\n",
       "      <th>3</th>\n",
       "      <td>3</td>\n",
       "      <td>2.328212e-136</td>\n",
       "      <td>2.276767e-142</td>\n",
       "    </tr>\n",
       "    <tr>\n",
       "      <th>4</th>\n",
       "      <td>3</td>\n",
       "      <td>5.910205e-135</td>\n",
       "      <td>6.626681e-144</td>\n",
       "    </tr>\n",
       "    <tr>\n",
       "      <th>...</th>\n",
       "      <td>...</td>\n",
       "      <td>...</td>\n",
       "      <td>...</td>\n",
       "    </tr>\n",
       "    <tr>\n",
       "      <th>145</th>\n",
       "      <td>70</td>\n",
       "      <td>3.517434e-07</td>\n",
       "      <td>2.352649e+06</td>\n",
       "    </tr>\n",
       "    <tr>\n",
       "      <th>146</th>\n",
       "      <td>70</td>\n",
       "      <td>3.344623e-07</td>\n",
       "      <td>2.330828e+06</td>\n",
       "    </tr>\n",
       "    <tr>\n",
       "      <th>147</th>\n",
       "      <td>70</td>\n",
       "      <td>8.162789e-07</td>\n",
       "      <td>1.460054e+06</td>\n",
       "    </tr>\n",
       "    <tr>\n",
       "      <th>148</th>\n",
       "      <td>70</td>\n",
       "      <td>2.827269e-07</td>\n",
       "      <td>3.035524e+06</td>\n",
       "    </tr>\n",
       "    <tr>\n",
       "      <th>149</th>\n",
       "      <td>70</td>\n",
       "      <td>6.700409e-07</td>\n",
       "      <td>3.406601e+06</td>\n",
       "    </tr>\n",
       "  </tbody>\n",
       "</table>\n",
       "<p>150 rows × 3 columns</p>\n",
       "</div>"
      ],
      "text/plain": [
       "     dim    py_best_val     r_best_val\n",
       "0      3  5.891959e-135  1.873860e-144\n",
       "1      3  3.975009e-135  7.714573e-141\n",
       "2      3  2.112282e-134  1.218745e-142\n",
       "3      3  2.328212e-136  2.276767e-142\n",
       "4      3  5.910205e-135  6.626681e-144\n",
       "..   ...            ...            ...\n",
       "145   70   3.517434e-07   2.352649e+06\n",
       "146   70   3.344623e-07   2.330828e+06\n",
       "147   70   8.162789e-07   1.460054e+06\n",
       "148   70   2.827269e-07   3.035524e+06\n",
       "149   70   6.700409e-07   3.406601e+06\n",
       "\n",
       "[150 rows x 3 columns]"
      ]
     },
     "execution_count": 91,
     "metadata": {},
     "output_type": "execute_result"
    }
   ],
   "source": [
    "alg_df_dict['cmaes']"
   ]
  },
  {
   "cell_type": "code",
   "execution_count": null,
   "metadata": {},
   "outputs": [],
   "source": []
  }
 ],
 "metadata": {
  "kernelspec": {
   "display_name": "Python 3",
   "language": "python",
   "name": "python3"
  },
  "language_info": {
   "codemirror_mode": {
    "name": "ipython",
    "version": 3
   },
   "file_extension": ".py",
   "mimetype": "text/x-python",
   "name": "python",
   "nbconvert_exporter": "python",
   "pygments_lexer": "ipython3",
   "version": "3.7.2"
  }
 },
 "nbformat": 4,
 "nbformat_minor": 4
}
