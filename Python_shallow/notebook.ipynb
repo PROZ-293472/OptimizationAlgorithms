{
 "cells": [
  {
   "cell_type": "code",
   "execution_count": 7,
   "metadata": {},
   "outputs": [
    {
     "data": {
      "text/plain": [
       "ArithmeticError"
      ]
     },
     "execution_count": 7,
     "metadata": {},
     "output_type": "execute_result"
    }
   ],
   "source": []
  },
  {
   "cell_type": "code",
   "execution_count": 1,
   "metadata": {},
   "outputs": [],
   "source": [
    "import numpy as np\n",
    "import numpy.matlib as matlib\n",
    "import math\n",
    "import scipy as sp\n",
    "from Point import Point\n",
    "import TargetFunctions as tf\n",
    "from ObjectveFunction import ObjectiveFunction\n"
   ]
  },
  {
   "cell_type": "code",
   "execution_count": 2,
   "metadata": {},
   "outputs": [],
   "source": [
    "objective_fun = ObjectiveFunction(fun=TargetFunctions.sum_of_squares, bounds=None)"
   ]
  },
  {
   "cell_type": "code",
   "execution_count": 3,
   "metadata": {},
   "outputs": [],
   "source": [
    "population = np.genfromtxt('temp.csv', delimiter=',')"
   ]
  },
  {
   "cell_type": "code",
   "execution_count": 4,
   "metadata": {},
   "outputs": [
    {
     "data": {
      "text/plain": [
       "array([[19.39373056, 14.96149086],\n",
       "       [10.29780034, 11.96076647],\n",
       "       [18.99306488, 10.36477986],\n",
       "       [11.6056448 , 13.17459942],\n",
       "       [11.8601143 , 11.88986946],\n",
       "       [16.68553166, 18.7478698 ],\n",
       "       [10.05651735, 16.99723376],\n",
       "       [17.53650804, 19.05555081],\n",
       "       [18.77951017, 18.71337614],\n",
       "       [14.27300631, 16.55033747],\n",
       "       [19.37662417, 17.2752235 ],\n",
       "       [15.81615297, 17.93510205],\n",
       "       [17.50372101, 12.68348095],\n",
       "       [14.40245244, 10.98281379],\n",
       "       [11.07065429, 18.23345358],\n",
       "       [14.78677426, 17.33757039],\n",
       "       [14.37804023, 17.32342269],\n",
       "       [17.53936576, 13.38721638],\n",
       "       [14.03572126, 13.54812382],\n",
       "       [12.70830623, 19.58573533],\n",
       "       [18.56115717, 13.77646943],\n",
       "       [13.57265328, 16.10858023],\n",
       "       [15.25682678, 10.81641685],\n",
       "       [16.70470905, 14.422743  ],\n",
       "       [17.64233524, 17.76641895],\n",
       "       [15.08652902, 16.47169621],\n",
       "       [18.14659095, 19.11161413],\n",
       "       [13.86375196, 18.89441965],\n",
       "       [17.41705432, 15.59260841],\n",
       "       [13.08746601, 18.86607942]])"
      ]
     },
     "execution_count": 4,
     "metadata": {},
     "output_type": "execute_result"
    }
   ],
   "source": [
    "population"
   ]
  },
  {
   "cell_type": "code",
   "execution_count": 5,
   "metadata": {},
   "outputs": [],
   "source": [
    "point_dim = 2\n",
    "counteval = 200\n",
    "sigma = 0.3\n",
    "m = np.random.rand(point_dim)\n",
    "lbd = 4 + math.floor(3*math.log(point_dim))\n",
    "mu = lbd/2\n",
    "mu = math.floor(mu)\n",
    "weights = math.log(mu + 0.5) - np.array([math.log(i) for i in range(1, mu)])\n",
    "weights = weights/np.sum(weights)\n",
    "mueff = np.sum(weights)**2/np.sum(weights**2)\n",
    "cc = (4 + mueff/point_dim) / (point_dim + 4 + 2*mueff/point_dim)\n",
    "cs = (mueff + 2) / (point_dim + mueff+5)\n",
    "c1 = 2 / ((point_dim + 1.3)**2 + mueff)\n",
    "cmu = min(1-c1, 2 * (mueff-2 + 1/mueff) / ((point_dim + 2)**2 + mueff))\n",
    "damps = 1 + 2 * max(0, math.sqrt((mueff - 1)/(point_dim + 1)) - 1) + cs\n",
    "chiN = point_dim**0.5*(1-1/(4*point_dim)+1/(21*point_dim**2))"
   ]
  },
  {
   "cell_type": "code",
   "execution_count": 6,
   "metadata": {},
   "outputs": [],
   "source": [
    "C = np.eye(point_dim)\n",
    "invsqrtC = np.eye(point_dim)\n",
    "pc = np.zeros(point_dim)\n",
    "ps = np.zeros(point_dim)"
   ]
  },
  {
   "cell_type": "code",
   "execution_count": 7,
   "metadata": {},
   "outputs": [
    {
     "data": {
      "text/plain": [
       "array([[0.99229951, 0.39568687],\n",
       "       [0.81144227, 0.85673862],\n",
       "       [0.60280706, 0.67227931],\n",
       "       [0.70103438, 0.00485372],\n",
       "       [0.22673072, 0.81293349],\n",
       "       [0.33877905, 0.35741382]])"
      ]
     },
     "execution_count": 7,
     "metadata": {},
     "output_type": "execute_result"
    }
   ],
   "source": [
    "generated_pop = m + sigma * np.random.multivariate_normal(np.zeros(point_dim), C, lbd)\n",
    "generated_pop"
   ]
  },
  {
   "cell_type": "code",
   "execution_count": 8,
   "metadata": {},
   "outputs": [],
   "source": [
    "points = np.array([Point(coordinates=i, objective_fun=objective_fun) for i in generated_pop])"
   ]
  },
  {
   "cell_type": "code",
   "execution_count": 9,
   "metadata": {},
   "outputs": [
    {
     "data": {
      "text/plain": [
       "array([1.14122642, 1.39243962, 0.81533583, 0.49147276, 0.71226768,\n",
       "       0.24251588])"
      ]
     },
     "execution_count": 9,
     "metadata": {},
     "output_type": "execute_result"
    }
   ],
   "source": [
    "fitnesses = np.array([p.value for p in points])\n",
    "fitnesses"
   ]
  },
  {
   "cell_type": "code",
   "execution_count": 26,
   "metadata": {},
   "outputs": [
    {
     "data": {
      "text/plain": [
       "array([5, 3, 4, 2, 0, 1], dtype=int32)"
      ]
     },
     "execution_count": 26,
     "metadata": {},
     "output_type": "execute_result"
    }
   ],
   "source": [
    "index_order = fitnesses.argsort()\n",
    "index_order"
   ]
  },
  {
   "cell_type": "code",
   "execution_count": 28,
   "metadata": {},
   "outputs": [
    {
     "data": {
      "text/plain": [
       "array([0.24251588, 0.49147276, 0.71226768, 0.81533583, 1.14122642,\n",
       "       1.39243962])"
      ]
     },
     "execution_count": 28,
     "metadata": {},
     "output_type": "execute_result"
    }
   ],
   "source": [
    "fitnesses[index_order[::1]]"
   ]
  },
  {
   "cell_type": "code",
   "execution_count": 33,
   "metadata": {},
   "outputs": [
    {
     "data": {
      "text/plain": [
       "array([[0.99229951, 0.39568687],\n",
       "       [0.81144227, 0.85673862],\n",
       "       [0.60280706, 0.67227931],\n",
       "       [0.70103438, 0.00485372],\n",
       "       [0.22673072, 0.81293349],\n",
       "       [0.33877905, 0.35741382]])"
      ]
     },
     "execution_count": 33,
     "metadata": {},
     "output_type": "execute_result"
    }
   ],
   "source": [
    "np.array([p.coordinates for p in points])"
   ]
  },
  {
   "cell_type": "code",
   "execution_count": 30,
   "metadata": {},
   "outputs": [
    {
     "data": {
      "text/plain": [
       "array([[0.33877905, 0.35741382],\n",
       "       [0.70103438, 0.00485372],\n",
       "       [0.22673072, 0.81293349],\n",
       "       [0.60280706, 0.67227931],\n",
       "       [0.99229951, 0.39568687],\n",
       "       [0.81144227, 0.85673862]])"
      ]
     },
     "execution_count": 30,
     "metadata": {},
     "output_type": "execute_result"
    }
   ],
   "source": [
    "\n",
    "generated_pop_sorted = generated_pop[index_order[::1]]\n",
    "generated_pop_sorted"
   ]
  },
  {
   "cell_type": "code",
   "execution_count": 29,
   "metadata": {},
   "outputs": [
    {
     "data": {
      "text/plain": [
       "array([0.45063415, 0.24855236])"
      ]
     },
     "execution_count": 29,
     "metadata": {},
     "output_type": "execute_result"
    }
   ],
   "source": [
    "new_m = generated_pop_sorted.T[:,0:mu-1] @ weights\n",
    "new_m"
   ]
  },
  {
   "cell_type": "code",
   "execution_count": 12,
   "metadata": {},
   "outputs": [
    {
     "data": {
      "text/plain": [
       "array([ 0.39893428, -1.29164417])"
      ]
     },
     "execution_count": 12,
     "metadata": {},
     "output_type": "execute_result"
    }
   ],
   "source": [
    "ps = (1-cs)*ps + math.sqrt(cs*(2-cs)*mueff) * invsqrtC @(new_m-m) / sigma\n",
    "ps"
   ]
  },
  {
   "cell_type": "code",
   "execution_count": 13,
   "metadata": {},
   "outputs": [],
   "source": [
    "hsig = np.linalg.norm(ps)/math.sqrt(1-(1-cs)**(2*counteval/lbd))/chiN < 1.4 + 2/(point_dim+1)"
   ]
  },
  {
   "cell_type": "code",
   "execution_count": 14,
   "metadata": {},
   "outputs": [
    {
     "data": {
      "text/plain": [
       "array([ 0.45157951, -1.46209555])"
      ]
     },
     "execution_count": 14,
     "metadata": {},
     "output_type": "execute_result"
    }
   ],
   "source": [
    "pc = (1-cc)*pc + hsig * math.sqrt(cc*(2-cc)*mueff) * (new_m-m) / sigma\n",
    "pc"
   ]
  },
  {
   "cell_type": "code",
   "execution_count": 15,
   "metadata": {},
   "outputs": [
    {
     "data": {
      "text/plain": [
       "array([[-0.00472452,  1.20279325],\n",
       "       [-0.82902288, -2.00422323]])"
      ]
     },
     "execution_count": 15,
     "metadata": {},
     "output_type": "execute_result"
    }
   ],
   "source": [
    "artmp = (1/sigma) * (generated_pop_sorted.T[:,0:mu-1] - matlib.repmat(m,mu-1,1).T)\n",
    "artmp"
   ]
  },
  {
   "cell_type": "code",
   "execution_count": 16,
   "metadata": {},
   "outputs": [
    {
     "data": {
      "text/plain": [
       "array([[1.19254787, 0.34409119],\n",
       "       [0.34409119, 1.23800791]])"
      ]
     },
     "execution_count": 16,
     "metadata": {},
     "output_type": "execute_result"
    }
   ],
   "source": [
    "C = (1-c1-cmu) * C + c1*(pc @ pc.T + (1-hsig)*cc*(2-cc)*C) + cmu * artmp @ np.diag(weights) @ artmp.T\n",
    "C"
   ]
  },
  {
   "cell_type": "code",
   "execution_count": 17,
   "metadata": {},
   "outputs": [
    {
     "data": {
      "text/plain": [
       "0.30707984717060627"
      ]
     },
     "execution_count": 17,
     "metadata": {},
     "output_type": "execute_result"
    }
   ],
   "source": [
    "sigma = sigma * math.exp((cs/damps)*(np.linalg.norm(ps)/chiN - 1))\n",
    "sigma"
   ]
  },
  {
   "cell_type": "code",
   "execution_count": 18,
   "metadata": {},
   "outputs": [
    {
     "data": {
      "text/plain": [
       "array([[1.19254787, 0.34409119],\n",
       "       [0.34409119, 1.23800791]])"
      ]
     },
     "execution_count": 18,
     "metadata": {},
     "output_type": "execute_result"
    }
   ],
   "source": [
    "C = np.triu(C) + np.triu(C,1).T\n",
    "C"
   ]
  },
  {
   "cell_type": "code",
   "execution_count": 19,
   "metadata": {},
   "outputs": [
    {
     "data": {
      "text/plain": [
       "array([1.07184352, 0.80061023])"
      ]
     },
     "execution_count": 19,
     "metadata": {},
     "output_type": "execute_result"
    }
   ],
   "source": [
    "D,B = np.linalg.eig(C)\n",
    "D = np.array([math.sqrt(d)**(-1) for d in D])\n",
    "D"
   ]
  },
  {
   "cell_type": "code",
   "execution_count": 20,
   "metadata": {},
   "outputs": [],
   "source": [
    "invsqrtC = B @ np.diag(D) @ B.T"
   ]
  },
  {
   "cell_type": "code",
   "execution_count": 21,
   "metadata": {},
   "outputs": [],
   "source": [
    "m = new_m"
   ]
  },
  {
   "cell_type": "code",
   "execution_count": null,
   "metadata": {},
   "outputs": [],
   "source": [
    "0**(-1)"
   ]
  },
  {
   "cell_type": "code",
   "execution_count": 24,
   "metadata": {},
   "outputs": [
    {
     "data": {
      "text/plain": [
       "ZeroDivisionError"
      ]
     },
     "execution_count": 24,
     "metadata": {},
     "output_type": "execute_result"
    }
   ],
   "source": [
    "ZeroDivisionError"
   ]
  },
  {
   "cell_type": "code",
   "execution_count": null,
   "metadata": {},
   "outputs": [],
   "source": []
  }
 ],
 "metadata": {
  "kernelspec": {
   "display_name": "Python 3",
   "language": "python",
   "name": "python3"
  },
  "language_info": {
   "codemirror_mode": {
    "name": "ipython",
    "version": 3
   },
   "file_extension": ".py",
   "mimetype": "text/x-python",
   "name": "python",
   "nbconvert_exporter": "python",
   "pygments_lexer": "ipython3",
   "version": "3.8.5"
  }
 },
 "nbformat": 4,
 "nbformat_minor": 4
}
