{
 "cells": [
  {
   "cell_type": "code",
   "execution_count": 2,
   "metadata": {},
   "outputs": [],
   "source": [
    "from Main import optimize\n",
    "import TargetFunctions as tf\n",
    "import pandas as pd"
   ]
  },
  {
   "cell_type": "code",
   "execution_count": 3,
   "metadata": {},
   "outputs": [],
   "source": [
    "eval_num = 25\n",
    "constr_bounds = (-1e3,1e3)\n",
    "constr_handle = 'projection'\n",
    "funs = {\n",
    "    'sphere': tf.sphere,\n",
    "    'rastrigin': tf.rastrigin,\n",
    "    'rosenbrock': tf.rosenbrock\n",
    "}"
   ]
  },
  {
   "cell_type": "code",
   "execution_count": 4,
   "metadata": {},
   "outputs": [
    {
     "name": "stdout",
     "output_type": "stream",
     "text": [
      "==================== SPHERE ====================\n",
      "-------------------- fixed iter --------------------\n",
      "de\n",
      "3\n",
      "0\n",
      "4.928995241807527e-40\n",
      "1\n",
      "3.930141298669147e-41\n",
      "2\n",
      "4.5638771320249557e-41\n",
      "3\n",
      "1.662214785636757e-41\n",
      "4\n",
      "2.1902801201561475e-40\n",
      "5\n",
      "1.0793672381370186e-40\n",
      "6\n",
      "7.562015601034298e-41\n",
      "7\n",
      "9.205226141768592e-41\n",
      "8\n",
      "1.8074707204212055e-41\n",
      "9\n",
      "8.109828655158032e-40\n",
      "10\n",
      "1.816649569000479e-39\n",
      "11\n",
      "5.953384498953852e-42\n",
      "12\n",
      "4.876156660645269e-41\n",
      "13\n"
     ]
    },
    {
     "ename": "KeyboardInterrupt",
     "evalue": "",
     "output_type": "error",
     "traceback": [
      "\u001b[1;31m---------------------------------------------------------------------------\u001b[0m",
      "\u001b[1;31mKeyboardInterrupt\u001b[0m                         Traceback (most recent call last)",
      "\u001b[1;32m<ipython-input-4-f2dbf13c6dd6>\u001b[0m in \u001b[0;36m<module>\u001b[1;34m\u001b[0m\n\u001b[0;32m     20\u001b[0m                                \u001b[0mmax_iter\u001b[0m\u001b[1;33m=\u001b[0m\u001b[1;36m400\u001b[0m\u001b[1;33m,\u001b[0m\u001b[1;33m\u001b[0m\u001b[1;33m\u001b[0m\u001b[0m\n\u001b[0;32m     21\u001b[0m                                \u001b[0mconstraints\u001b[0m\u001b[1;33m=\u001b[0m\u001b[0mconstraints\u001b[0m\u001b[1;33m,\u001b[0m\u001b[1;33m\u001b[0m\u001b[1;33m\u001b[0m\u001b[0m\n\u001b[1;32m---> 22\u001b[1;33m                                constraint_handle=constr_handle)\n\u001b[0m\u001b[0;32m     23\u001b[0m                 \u001b[0mprint\u001b[0m\u001b[1;33m(\u001b[0m\u001b[0mres\u001b[0m\u001b[1;33m.\u001b[0m\u001b[0mbest_point\u001b[0m\u001b[1;33m.\u001b[0m\u001b[0mvalue\u001b[0m\u001b[1;33m)\u001b[0m\u001b[1;33m\u001b[0m\u001b[1;33m\u001b[0m\u001b[0m\n\u001b[0;32m     24\u001b[0m                 res_list.append({'dim': dim,\n",
      "\u001b[1;32m~\\Desktop\\Studia\\INZYNIERKA\\OptimizationAlgorithms\\Python_shallow\\Main.py\u001b[0m in \u001b[0;36moptimize\u001b[1;34m(objective_function, problem_dimension, constraints, algorithm, constraint_handle, parameter_dict, plot_data, time_eval, max_iter, tolerance)\u001b[0m\n\u001b[0;32m     31\u001b[0m     \u001b[1;32mif\u001b[0m \u001b[0mtolerance\u001b[0m\u001b[1;33m:\u001b[0m\u001b[1;33m\u001b[0m\u001b[1;33m\u001b[0m\u001b[0m\n\u001b[0;32m     32\u001b[0m         \u001b[0malg\u001b[0m\u001b[1;33m.\u001b[0m\u001b[0mtolerance\u001b[0m \u001b[1;33m=\u001b[0m \u001b[0mtolerance\u001b[0m\u001b[1;33m\u001b[0m\u001b[1;33m\u001b[0m\u001b[0m\n\u001b[1;32m---> 33\u001b[1;33m     \u001b[0mres\u001b[0m \u001b[1;33m=\u001b[0m \u001b[0malg\u001b[0m\u001b[1;33m.\u001b[0m\u001b[0mrun\u001b[0m\u001b[1;33m(\u001b[0m\u001b[1;33m)\u001b[0m\u001b[1;33m\u001b[0m\u001b[1;33m\u001b[0m\u001b[0m\n\u001b[0m\u001b[0;32m     34\u001b[0m     \u001b[1;32mreturn\u001b[0m \u001b[0mres\u001b[0m\u001b[1;33m\u001b[0m\u001b[1;33m\u001b[0m\u001b[0m\n\u001b[0;32m     35\u001b[0m \u001b[1;33m\u001b[0m\u001b[0m\n",
      "\u001b[1;32m~\\Desktop\\Studia\\INZYNIERKA\\OptimizationAlgorithms\\Python_shallow\\DifferentialEvolution.py\u001b[0m in \u001b[0;36mrun\u001b[1;34m(self)\u001b[0m\n\u001b[0;32m     93\u001b[0m                 \u001b[0mmean_time\u001b[0m \u001b[1;33m+=\u001b[0m \u001b[0mpayload\u001b[0m\u001b[1;33m[\u001b[0m\u001b[1;34m'time'\u001b[0m\u001b[1;33m]\u001b[0m\u001b[1;33m\u001b[0m\u001b[1;33m\u001b[0m\u001b[0m\n\u001b[0;32m     94\u001b[0m             \u001b[1;32melse\u001b[0m\u001b[1;33m:\u001b[0m\u001b[1;33m\u001b[0m\u001b[1;33m\u001b[0m\u001b[0m\n\u001b[1;32m---> 95\u001b[1;33m                 \u001b[0mprev_best\u001b[0m \u001b[1;33m=\u001b[0m \u001b[0mself\u001b[0m\u001b[1;33m.\u001b[0m\u001b[0msingle_iteration\u001b[0m\u001b[1;33m(\u001b[0m\u001b[1;33m)\u001b[0m\u001b[1;33m\u001b[0m\u001b[1;33m\u001b[0m\u001b[0m\n\u001b[0m\u001b[0;32m     96\u001b[0m \u001b[1;33m\u001b[0m\u001b[0m\n\u001b[0;32m     97\u001b[0m         \u001b[1;32mif\u001b[0m \u001b[0mmean_time\u001b[0m \u001b[1;32mis\u001b[0m \u001b[1;32mnot\u001b[0m \u001b[1;32mNone\u001b[0m\u001b[1;33m:\u001b[0m\u001b[1;33m\u001b[0m\u001b[1;33m\u001b[0m\u001b[0m\n",
      "\u001b[1;32m~\\Desktop\\Studia\\INZYNIERKA\\OptimizationAlgorithms\\Python_shallow\\DifferentialEvolution.py\u001b[0m in \u001b[0;36msingle_iteration\u001b[1;34m(self)\u001b[0m\n\u001b[0;32m     55\u001b[0m             \u001b[1;31m# SELECTION - generates a random distinct 3 indexes from <0,mi> and picks corresponding points\u001b[0m\u001b[1;33m\u001b[0m\u001b[1;33m\u001b[0m\u001b[1;33m\u001b[0m\u001b[0m\n\u001b[0;32m     56\u001b[0m             indexes = np.random.choice(\n\u001b[1;32m---> 57\u001b[1;33m                 np.arange(self.population.shape[0]), 3, replace=False)\n\u001b[0m\u001b[0;32m     58\u001b[0m             \u001b[0mr\u001b[0m \u001b[1;33m=\u001b[0m \u001b[0mself\u001b[0m\u001b[1;33m.\u001b[0m\u001b[0mpopulation\u001b[0m\u001b[1;33m[\u001b[0m\u001b[0mindexes\u001b[0m\u001b[1;33m[\u001b[0m\u001b[1;36m0\u001b[0m\u001b[1;33m]\u001b[0m\u001b[1;33m]\u001b[0m\u001b[1;33m\u001b[0m\u001b[1;33m\u001b[0m\u001b[0m\n\u001b[0;32m     59\u001b[0m             d_e = np.array([self.population[indexes[1]],\n",
      "\u001b[1;31mKeyboardInterrupt\u001b[0m: "
     ]
    }
   ],
   "source": [
    "for fun_name, fun in funs.items():\n",
    "    if fun_name != 'sphere':\n",
    "        continue\n",
    "    print('='*20,fun_name.upper(),'='*20)\n",
    "    \n",
    "    # fixed iterations\n",
    "    print('-'*20,'fixed iter','-'*20)\n",
    "    out_dict = {}\n",
    "    for alg in ['de']:\n",
    "        print(alg)\n",
    "        res_list = []\n",
    "        for dim in [3,5,10,20,50]:\n",
    "            print(dim)\n",
    "            constraints = [constr_bounds]*dim\n",
    "            for _ in range(eval_num):\n",
    "                print(_)\n",
    "                res = optimize(objective_function=fun,\n",
    "                               problem_dimension=dim, \n",
    "                               algorithm=alg,\n",
    "                               max_iter=400, \n",
    "                               constraints=constraints, \n",
    "                               constraint_handle=constr_handle)\n",
    "                print(res.best_point.value)\n",
    "                res_list.append({'dim': dim,\n",
    "                                 'best_val':res.best_point.value})\n",
    "        out_dict[alg] = res_list\n",
    "    for algorithm, r_list in out_dict.items():\n",
    "        df = pd.DataFrame(r_list)\n",
    "        fname = f'py_fixed_iter_{fun_name}_{algorithm}_test_de.csv'\n",
    "        df.to_csv(f'C:\\\\Users\\\\Lenovo\\\\Desktop\\\\Studia\\\\INZYNIERKA\\\\OptimizationAlgorithms\\\\Common\\\\{fname}')\n",
    "        \n",
    "#     # fixed tolerance\n",
    "#     print('-'*20,'fixed tol','-'*20)\n",
    "#     out_dict = {}\n",
    "#     for alg in ['cmaes', 'de', 'des']:\n",
    "#         print(alg)\n",
    "#         res_list = []\n",
    "#         for dim in [3,5,10,20,50,70]:\n",
    "#             print(dim)\n",
    "#             constraints = [constr_bounds]*dim\n",
    "#             for _ in range(eval_num):\n",
    "#                 res = optimize(objective_function=fun,\n",
    "#                                problem_dimension=dim, \n",
    "#                                algorithm=alg,\n",
    "#                                max_iter=1e5,\n",
    "#                                tolerance=1e-6,\n",
    "#                                constraints=constraints, \n",
    "#                                constraint_handle=constr_handle)\n",
    "#                 res_list.append({'dim': dim,\n",
    "#                                  'iter_num':res.iteration_num})\n",
    "#         out_dict[alg] = res_list\n",
    "#     for algorithm, r_list in out_dict.items():\n",
    "#         df = pd.DataFrame(r_list)\n",
    "#         fname = f'py_fixed_tol_{fun_name}_{algorithm}.csv'\n",
    "#         df.to_csv(f'C:\\\\Users\\\\Lenovo\\\\Desktop\\\\Studia\\\\INZYNIERKA\\\\OptimizationAlgorithms\\\\Common\\\\{fname}')"
   ]
  },
  {
   "cell_type": "code",
   "execution_count": null,
   "metadata": {},
   "outputs": [],
   "source": []
  }
 ],
 "metadata": {
  "kernelspec": {
   "display_name": "Python 3",
   "language": "python",
   "name": "python3"
  },
  "language_info": {
   "codemirror_mode": {
    "name": "ipython",
    "version": 3
   },
   "file_extension": ".py",
   "mimetype": "text/x-python",
   "name": "python",
   "nbconvert_exporter": "python",
   "pygments_lexer": "ipython3",
   "version": "3.7.2"
  }
 },
 "nbformat": 4,
 "nbformat_minor": 4
}
