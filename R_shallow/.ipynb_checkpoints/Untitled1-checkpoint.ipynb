{
 "cells": [
  {
   "cell_type": "markdown",
   "metadata": {},
   "source": [
    "# SETUP"
   ]
  },
  {
   "cell_type": "code",
   "execution_count": 13,
   "metadata": {},
   "outputs": [],
   "source": [
    "source('Classes.R')"
   ]
  },
  {
   "cell_type": "code",
   "execution_count": 14,
   "metadata": {},
   "outputs": [],
   "source": [
    "sum_of_squares<-function(point){\n",
    "   sum <- 0.0        \n",
    "   for(p in point)\n",
    "   {\n",
    "     sum <- sum + p^2\n",
    "   }\n",
    "   return(sum)\n",
    "}\n",
    "\n",
    "gen_random_population <- function(size=lambda, scaler=1){\n",
    "    coordinates <- scaler * replicate(size, runif(n = point_dim, min = -1, max = 1))\n",
    "    fitness <- c()\n",
    "    for(i in 1:dim(coordinates)[2]){\n",
    "        fitness[i]<-objective_fun$evaluate(coordinates[,i])\n",
    "    }\n",
    "    population <- data.frame(t(coordinates), fitness)\n",
    "    return(population)\n",
    "}"
   ]
  },
  {
   "cell_type": "code",
   "execution_count": 15,
   "metadata": {},
   "outputs": [],
   "source": [
    "# ARGUMENTS\n",
    "point_dim <- 3\n",
    "lambda <- 50\n",
    "fun <- sum_of_squares "
   ]
  },
  {
   "cell_type": "code",
   "execution_count": 16,
   "metadata": {},
   "outputs": [],
   "source": [
    "objective_fun <- ObjectiveFunction$new(fun=fun, dim=point_dim)"
   ]
  },
  {
   "cell_type": "markdown",
   "metadata": {},
   "source": [
    "# DES"
   ]
  },
  {
   "cell_type": "code",
   "execution_count": 17,
   "metadata": {},
   "outputs": [],
   "source": [
    "library(\"ringbuffer\")\n",
    "N <- point_dim"
   ]
  },
  {
   "cell_type": "code",
   "execution_count": 18,
   "metadata": {},
   "outputs": [],
   "source": [
    "# PARAMETER INIT\n",
    "Ft          <- 1                                ## Scaling factor of difference vectors (a variable!)                   ## Fitness value after which the convergence is reached\n",
    "## Strategy parameter setting:                                          ## Population size\n",
    "mu          <- floor(lambda/2)   \n",
    "\n",
    "weights     <- log(mu+1) - log(1:mu)       \n",
    "weights     <- weights/sum(weights)                                 ##    \\-> weights are normalized by the sum\n",
    "weightsSumS <- sum(weights^2)\n",
    "weightsPop      <- log(lambda+1) - log(1:lambda)\n",
    "weightsPop      <- weightsPop/sum(weightsPop)\n",
    "\n",
    "# parameters that can be set manually\n",
    "mueff       <- sum(weights)^2/sum(weights^2) ## Variance effectiveness factor\n",
    "cc          <- mu/(mu+2)                      ## Evolution Path decay factor\n",
    "pathLength  <- 6                       ## Size of evolution path\n",
    "cp          <- 1/sqrt(N)                        ## Evolution Path decay factor      ## Maximum number of iterations after which algorithm stops\n",
    "c_Ft        <- 0\n",
    "pathRatio   <- sqrt(pathLength)           ## Path Length Control reference value\n",
    "histSize    <- ceiling(6+ceiling(3*sqrt(N)))## Size of the window of history - the step length history\n",
    "Ft_scale    <- ((mueff+2)/(N+mueff+3))/(1 + 2*max(0, sqrt((mueff-1)/(N+1))-1) + (mueff+2)/(N+mueff+3))\n",
    "tol         <- 10^-20\n",
    "counteval   <- 0                                                    ## Number of function evaluations\n",
    "sqrt_N      <- sqrt(N)\n",
    "\n",
    "# best.fit        <- Inf                  ## The best fitness found so far\n",
    "# best.par        <- NULL                 ## The best solution found so far\n",
    "# worst.fit       <- NULL                 ## The worst solution found so far:\n",
    "# last.restart    <-0\n",
    "# restart.length  <-0\n",
    "# restart.number  <-0\n",
    "\n",
    "# dynamic parameter init\n",
    "steps       <- ringbuffer(size = pathLength*N)                      ## Cyclical buffer containing last 'pathLength' steps of algorithm\n",
    "dMean       <- array(0, dim=c(N,histSize))\n",
    "FtHistory   <- array(0, histSize)                                   ## Array buffer containing 'histSize' last values of 'Ft'\n",
    "pc       <- array(0, dim=c(N,histSize))\n",
    "\n",
    "# history init\n",
    "histHead    <- 0                                                      ## Pointer to the history buffer head\n",
    "iter        <- 0L                                                     ## Number of iterations\n",
    "history     <- list() "
   ]
  },
  {
   "cell_type": "code",
   "execution_count": 19,
   "metadata": {},
   "outputs": [],
   "source": [
    "population_2_matrix <- function(df){\n",
    "    return(t(data.matrix(df[,!(names(df)=='fitness')])))\n",
    "}\n",
    "\n",
    "matrix_2_population <- function(mat){\n",
    "    fitness <- c()\n",
    "    for(i in 1:dim(mat)[2]){\n",
    "        fitness[i]<-objective_fun$evaluate(mat[,i])\n",
    "    }\n",
    "    return(data.frame(t(mat), fitness))\n",
    "}\n",
    "\n",
    "selection <- function(df, offspring_num){\n",
    "    df_sorted <- df[order(df['fitness'], decreasing=FALSE),]\n",
    "    selected_points <- df_sorted[1:offspring_num,]\n",
    "    return(selected_points)\n",
    "}\n",
    "\n",
    "sampleFromHistory <- function(history,historySample,lambda){\n",
    "  ret <- c()\n",
    "  for(i in 1:lambda)\n",
    "    ret <- c(ret,sample(1:ncol(history[[historySample[i]]]), 1))\n",
    "  return(ret)\n",
    "}"
   ]
  },
  {
   "cell_type": "code",
   "execution_count": 20,
   "metadata": {},
   "outputs": [],
   "source": [
    "population_df <- gen_random_population()\n",
    "population_mat <- population_2_matrix(population_df)\n",
    "\n",
    "# cumMean=(upper+lower)/2\n",
    "# populationRepaired <- apply(population,2,bounceBackBoundary2)\n",
    "\n",
    "# if(Lamarckism==TRUE){\n",
    "#   population <- populationRepaired\n",
    "# }\n",
    "\n",
    "# selection       <- rep(0, mu)\n",
    "# selectedPoints  <- matrix(0, nrow=N, ncol=mu)\n",
    "# fitness         <- fn_l(population)\n",
    "oldMean         <- numeric(N)\n",
    "newMean         <- c(10,10,10)\n",
    "# limit           <- 0\n",
    "worst.fit       <- max(population_df$fitness)\n",
    "\n",
    "# Store population and selection means\n",
    "popMean         <- drop(population_mat %*% weightsPop)\n",
    "muMean          <- newMean\n",
    "\n",
    "## Matrices for creating diffs\n",
    "diffs     <- matrix(0, N, lambda)\n",
    "x1sample  <- numeric(lambda)\n",
    "x2sample  <- numeric(lambda)\n",
    "\n",
    "chiN      <- (sqrt(2)*gamma((N+1)/2)/gamma(N/2))\n",
    "histNorm  <- 1/sqrt(2)\n",
    "counterRepaired <- 0\n",
    "\n",
    "stoptol=F"
   ]
  },
  {
   "cell_type": "code",
   "execution_count": 12,
   "metadata": {},
   "outputs": [],
   "source": [
    "for(it in 1:1){\n",
    "iter      <- iter + 1L\n",
    "histHead  <- (histHead %% histSize) + 1\n",
    "\n",
    "selectedPoints_df <- selection(population_df, offspring_num=mu)\n",
    "selectedPoints_mat <- population_2_matrix(selectedPoints_df)\n",
    "\n",
    "# Save selected population in the history buffer\n",
    "history[[histHead]] <- array(0,dim=c(N,mu))\n",
    "history[[histHead]] <- selectedPoints_mat * histNorm/Ft\n",
    "\n",
    "## Calculate weighted mean of selected points\n",
    "oldMean <- newMean\n",
    "newMean <- drop(selectedPoints_mat %*% weights)\n",
    "\n",
    "## Write to buffers\n",
    "muMean <- newMean\n",
    "dMean[,histHead] <- (muMean - popMean) / Ft\n",
    "\n",
    "step <- (newMean - oldMean) / Ft\n",
    "\n",
    "## Update Ft\n",
    "FtHistory[histHead] = Ft\n",
    "oldFt <- Ft\n",
    "\n",
    "if(histHead==1){\n",
    "pc[,histHead] = (1 - cp)* rep(0.0, N)/sqrt(N) + sqrt(mu * cp * (2-cp))* step\n",
    "}else{\n",
    "pc[,histHead] = (1 - cp)* pc[,histHead-1] + sqrt(mu * cp * (2-cp))* step\n",
    "}\n",
    "## Sample from history with uniform distribution\n",
    "limit <- ifelse(iter < histSize, histHead, histSize)\n",
    "historySample <- sample(1:limit,lambda, T)\n",
    "historySample2 <- sample(1:limit,lambda, T)\n",
    "\n",
    "x1sample <- sampleFromHistory(history,historySample,lambda)\n",
    "x2sample <- sampleFromHistory(history,historySample,lambda)\n",
    "\n",
    "## Make diffs\n",
    "for (i in 1:lambda) {\n",
    "x1 <- history[[historySample[i]]][,x1sample[i]]\n",
    "x2 <- history[[historySample[i]]][,x2sample[i]]\n",
    "\n",
    "diffs[,i] <- sqrt(cc)*( (x1 - x2) + rnorm(1)*dMean[,historySample[i]] ) + sqrt(1-cc) * rnorm(1)*pc[,historySample2[i]]\n",
    "\n",
    "}\n",
    "\n",
    "## New population\n",
    "population_mat <- newMean + Ft * diffs + tol*rnorm(diffs)/chiN\n",
    "# population_mat <- deleteInfsNaNs(population_mat)\n",
    "\n",
    "population_df <- matrix_2_population(population_mat)\n",
    "\n",
    "# Check constraints violations\n",
    "# Repair the individual if necessary\n",
    "# populationTemp <- population\n",
    "# # populationRepaired <- apply(population,2,bounceBackBoundary2)\n",
    "\n",
    "# counterRepaired=0\n",
    "# for(tt in 1:ncol(populationTemp)){\n",
    "# if(any(populationTemp[,tt] != populationRepaired[,tt]))\n",
    "#   counterRepaired = counterRepaired + 1\n",
    "# }\n",
    "\n",
    "# if(Lamarckism==TRUE){\n",
    "# population <- populationRepaired\n",
    "# }\n",
    "\n",
    "popMean <- drop(population_mat %*% weightsPop)\n",
    "\n",
    "## Evaluation\n",
    "# fitness <- fn_l(population)\n",
    "# if(Lamarckism==FALSE){\n",
    "# fitnessNonLamarcian <- fn_d(population, populationRepaired, fitness)\n",
    "# }\n",
    "\n",
    "## Break if fit :\n",
    "# wb <- which.min(fitness)\n",
    "# if (fitness[wb] < best.fit) {\n",
    "# best.fit <- fitness[wb]\n",
    "# if(Lamarckism==TRUE)\n",
    "#   best.par <- population[,wb]\n",
    "# else\n",
    "#   best.par <- populationRepaired[,wb]\n",
    "# }\n",
    "\n",
    "## Check worst fit:\n",
    "# ww <- which.max(fitness)\n",
    "# if (fitness[ww] > worst.fit){\n",
    "# worst.fit <- fitness[ww]\n",
    "# }\n",
    "\n",
    "## Fitness with penalty for nonLamarcian approach\n",
    "# if(Lamarckism==FALSE){\n",
    "# fitness <- fitnessNonLamarcian\n",
    "# }\n",
    "\n",
    "\n",
    "## Check if the middle point is the best found so far\n",
    "# cumMean <- 0.8*cumMean+0.2*newMean\n",
    "# cumMeanRepaired <-bounceBackBoundary2(cumMean)\n",
    "\n",
    "# fn_cum  <- fn_l(cumMeanRepaired)\n",
    "# if (fn_cum < best.fit) {\n",
    "# best.fit <- drop(fn_cum)\n",
    "# best.par <- cumMeanRepaired\n",
    "# }\n",
    "\n",
    "## Escape from flat-land:\n",
    "#if (min(fitness) == sort(fitness,partial=min(1+floor(lambda/2), 2+ceiling(lambda/4)))[min(1+floor(lambda/2), 2+ceiling(lambda/4))]) {\n",
    "#  Ft <- Ft * exp(0.2*Ft_scale);\n",
    "#}\n",
    "\n",
    "if (population_df$fitness[1] <= 10e-30) {\n",
    "msg <- \"Stop fitness reached.\"\n",
    "break\n",
    "}\n",
    "\n",
    "# if(abs(range(fitness)[2] - range(fitness)[1]) < tol)\n",
    "# {\n",
    "# if (counteval < 0.8*budget)\n",
    "#   stoptol=T\n",
    "# }\n",
    "}"
   ]
  },
  {
   "cell_type": "code",
   "execution_count": 13,
   "metadata": {},
   "outputs": [
    {
     "data": {
      "text/html": [
       "2.495123834572e-25"
      ],
      "text/latex": [
       "2.495123834572e-25"
      ],
      "text/markdown": [
       "2.495123834572e-25"
      ],
      "text/plain": [
       "[1] 2.495124e-25"
      ]
     },
     "metadata": {},
     "output_type": "display_data"
    }
   ],
   "source": [
    "population_df[order(population_df$fitness),]$fitness[1]"
   ]
  },
  {
   "cell_type": "code",
   "execution_count": 21,
   "metadata": {},
   "outputs": [
    {
     "data": {
      "text/html": [
       "<table>\n",
       "<caption>A matrix: 3 × 50 of type dbl</caption>\n",
       "<tbody>\n",
       "\t<tr><td>0</td><td>0</td><td>0</td><td>0</td><td>0</td><td>0</td><td>0</td><td>0</td><td>0</td><td>0</td><td>...</td><td>0</td><td>0</td><td>0</td><td>0</td><td>0</td><td>0</td><td>0</td><td>0</td><td>0</td><td>0</td></tr>\n",
       "\t<tr><td>0</td><td>0</td><td>0</td><td>0</td><td>0</td><td>0</td><td>0</td><td>0</td><td>0</td><td>0</td><td>...</td><td>0</td><td>0</td><td>0</td><td>0</td><td>0</td><td>0</td><td>0</td><td>0</td><td>0</td><td>0</td></tr>\n",
       "\t<tr><td>0</td><td>0</td><td>0</td><td>0</td><td>0</td><td>0</td><td>0</td><td>0</td><td>0</td><td>0</td><td>...</td><td>0</td><td>0</td><td>0</td><td>0</td><td>0</td><td>0</td><td>0</td><td>0</td><td>0</td><td>0</td></tr>\n",
       "</tbody>\n",
       "</table>\n"
      ],
      "text/latex": [
       "A matrix: 3 × 50 of type dbl\n",
       "\\begin{tabular}{lllllllllllllllllllll}\n",
       "\t 0 & 0 & 0 & 0 & 0 & 0 & 0 & 0 & 0 & 0 & ... & 0 & 0 & 0 & 0 & 0 & 0 & 0 & 0 & 0 & 0\\\\\n",
       "\t 0 & 0 & 0 & 0 & 0 & 0 & 0 & 0 & 0 & 0 & ... & 0 & 0 & 0 & 0 & 0 & 0 & 0 & 0 & 0 & 0\\\\\n",
       "\t 0 & 0 & 0 & 0 & 0 & 0 & 0 & 0 & 0 & 0 & ... & 0 & 0 & 0 & 0 & 0 & 0 & 0 & 0 & 0 & 0\\\\\n",
       "\\end{tabular}\n"
      ],
      "text/markdown": [
       "\n",
       "A matrix: 3 × 50 of type dbl\n",
       "\n",
       "| 0 | 0 | 0 | 0 | 0 | 0 | 0 | 0 | 0 | 0 | ... | 0 | 0 | 0 | 0 | 0 | 0 | 0 | 0 | 0 | 0 |\n",
       "| 0 | 0 | 0 | 0 | 0 | 0 | 0 | 0 | 0 | 0 | ... | 0 | 0 | 0 | 0 | 0 | 0 | 0 | 0 | 0 | 0 |\n",
       "| 0 | 0 | 0 | 0 | 0 | 0 | 0 | 0 | 0 | 0 | ... | 0 | 0 | 0 | 0 | 0 | 0 | 0 | 0 | 0 | 0 |\n",
       "\n"
      ],
      "text/plain": [
       "     [,1] [,2] [,3] [,4] [,5] [,6] [,7] [,8] [,9] [,10] [,11] [,12] [,13] [,14]\n",
       "[1,] 0    0    0    0    0    0    0    0    0    0     ...   0     0     0    \n",
       "[2,] 0    0    0    0    0    0    0    0    0    0     ...   0     0     0    \n",
       "[3,] 0    0    0    0    0    0    0    0    0    0     ...   0     0     0    \n",
       "     [,15] [,16] [,17] [,18] [,19] [,20] [,21]\n",
       "[1,] 0     0     0     0     0     0     0    \n",
       "[2,] 0     0     0     0     0     0     0    \n",
       "[3,] 0     0     0     0     0     0     0    "
      ]
     },
     "metadata": {},
     "output_type": "display_data"
    }
   ],
   "source": [
    "diffs"
   ]
  },
  {
   "cell_type": "code",
   "execution_count": 13,
   "metadata": {},
   "outputs": [
    {
     "data": {
      "text/html": [
       "3"
      ],
      "text/latex": [
       "3"
      ],
      "text/markdown": [
       "3"
      ],
      "text/plain": [
       "[1] 3"
      ]
     },
     "metadata": {},
     "output_type": "display_data"
    }
   ],
   "source": [
    "N"
   ]
  },
  {
   "cell_type": "code",
   "execution_count": null,
   "metadata": {},
   "outputs": [],
   "source": []
  }
 ],
 "metadata": {
  "kernelspec": {
   "display_name": "R",
   "language": "R",
   "name": "ir"
  },
  "language_info": {
   "codemirror_mode": "r",
   "file_extension": ".r",
   "mimetype": "text/x-r-source",
   "name": "R",
   "pygments_lexer": "r",
   "version": "3.6.3"
  }
 },
 "nbformat": 4,
 "nbformat_minor": 4
}
