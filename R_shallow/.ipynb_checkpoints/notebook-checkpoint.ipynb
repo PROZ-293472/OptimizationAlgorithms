{
 "cells": [
  {
   "cell_type": "code",
   "execution_count": 4,
   "metadata": {},
   "outputs": [],
   "source": [
    "setClass(\n",
    "    \"ObjectiveFunction\",\n",
    "    slots = list(\n",
    "    fun = \"function\",\n",
    "    dim = \"numeric\",\n",
    "    bounds= \"numeric\"\n",
    "  )\n",
    ")\n",
    "\n",
    "setClass(\n",
    "  \"Point\",\n",
    "  slots = list(\n",
    "    coordinates = \"numeric\",\n",
    "    objective_fun = \"ObjectiveFunction\"\n",
    "  )\n",
    ")"
   ]
  },
  {
   "cell_type": "code",
   "execution_count": 10,
   "metadata": {},
   "outputs": [
    {
     "data": {
      "text/html": [
       "'function'"
      ],
      "text/latex": [
       "'function'"
      ],
      "text/markdown": [
       "'function'"
      ],
      "text/plain": [
       "[1] \"function\""
      ]
     },
     "metadata": {},
     "output_type": "display_data"
    }
   ],
   "source": [
    "f <- function(x){\n",
    "    return(x+2);\n",
    "}\n",
    "class(f)"
   ]
  },
  {
   "cell_type": "code",
   "execution_count": 9,
   "metadata": {},
   "outputs": [],
   "source": [
    "library(pracma)"
   ]
  },
  {
   "cell_type": "code",
   "execution_count": 65,
   "metadata": {},
   "outputs": [],
   "source": [
    "P <- read.csv(\".\\\\temp.csv\", header = FALSE)\n",
    "population <- as.matrix(P)"
   ]
  },
  {
   "cell_type": "code",
   "execution_count": 66,
   "metadata": {},
   "outputs": [
    {
     "data": {
      "text/html": [
       "<table>\n",
       "<caption>A matrix: 30 × 2 of type dbl</caption>\n",
       "<thead>\n",
       "\t<tr><th scope=col>V1</th><th scope=col>V2</th></tr>\n",
       "</thead>\n",
       "<tbody>\n",
       "\t<tr><td>16.74117</td><td>19.28437</td></tr>\n",
       "\t<tr><td>17.66120</td><td>16.05978</td></tr>\n",
       "\t<tr><td>15.70451</td><td>15.32761</td></tr>\n",
       "\t<tr><td>18.41005</td><td>19.12274</td></tr>\n",
       "\t<tr><td>18.05333</td><td>19.31244</td></tr>\n",
       "\t<tr><td>12.40951</td><td>13.06823</td></tr>\n",
       "\t<tr><td>16.46795</td><td>18.14886</td></tr>\n",
       "\t<tr><td>16.83206</td><td>13.76698</td></tr>\n",
       "\t<tr><td>18.88690</td><td>12.46731</td></tr>\n",
       "\t<tr><td>10.97053</td><td>18.65538</td></tr>\n",
       "\t<tr><td>16.99187</td><td>11.27374</td></tr>\n",
       "\t<tr><td>15.31774</td><td>18.39721</td></tr>\n",
       "\t<tr><td>10.38226</td><td>16.26408</td></tr>\n",
       "\t<tr><td>12.60116</td><td>10.42019</td></tr>\n",
       "\t<tr><td>13.90036</td><td>16.65032</td></tr>\n",
       "\t<tr><td>14.30634</td><td>10.67683</td></tr>\n",
       "\t<tr><td>15.52752</td><td>10.86050</td></tr>\n",
       "\t<tr><td>18.94324</td><td>14.28282</td></tr>\n",
       "\t<tr><td>17.56710</td><td>15.43751</td></tr>\n",
       "\t<tr><td>19.58884</td><td>19.64468</td></tr>\n",
       "\t<tr><td>17.08949</td><td>16.66438</td></tr>\n",
       "\t<tr><td>19.29642</td><td>18.02649</td></tr>\n",
       "\t<tr><td>11.76265</td><td>16.20580</td></tr>\n",
       "\t<tr><td>12.47063</td><td>10.59631</td></tr>\n",
       "\t<tr><td>11.19161</td><td>13.73618</td></tr>\n",
       "\t<tr><td>12.53881</td><td>16.87463</td></tr>\n",
       "\t<tr><td>13.40243</td><td>10.78128</td></tr>\n",
       "\t<tr><td>15.09085</td><td>16.03043</td></tr>\n",
       "\t<tr><td>10.28356</td><td>19.77144</td></tr>\n",
       "\t<tr><td>19.55944</td><td>16.10194</td></tr>\n",
       "</tbody>\n",
       "</table>\n"
      ],
      "text/latex": [
       "A matrix: 30 × 2 of type dbl\n",
       "\\begin{tabular}{ll}\n",
       " V1 & V2\\\\\n",
       "\\hline\n",
       "\t 16.74117 & 19.28437\\\\\n",
       "\t 17.66120 & 16.05978\\\\\n",
       "\t 15.70451 & 15.32761\\\\\n",
       "\t 18.41005 & 19.12274\\\\\n",
       "\t 18.05333 & 19.31244\\\\\n",
       "\t 12.40951 & 13.06823\\\\\n",
       "\t 16.46795 & 18.14886\\\\\n",
       "\t 16.83206 & 13.76698\\\\\n",
       "\t 18.88690 & 12.46731\\\\\n",
       "\t 10.97053 & 18.65538\\\\\n",
       "\t 16.99187 & 11.27374\\\\\n",
       "\t 15.31774 & 18.39721\\\\\n",
       "\t 10.38226 & 16.26408\\\\\n",
       "\t 12.60116 & 10.42019\\\\\n",
       "\t 13.90036 & 16.65032\\\\\n",
       "\t 14.30634 & 10.67683\\\\\n",
       "\t 15.52752 & 10.86050\\\\\n",
       "\t 18.94324 & 14.28282\\\\\n",
       "\t 17.56710 & 15.43751\\\\\n",
       "\t 19.58884 & 19.64468\\\\\n",
       "\t 17.08949 & 16.66438\\\\\n",
       "\t 19.29642 & 18.02649\\\\\n",
       "\t 11.76265 & 16.20580\\\\\n",
       "\t 12.47063 & 10.59631\\\\\n",
       "\t 11.19161 & 13.73618\\\\\n",
       "\t 12.53881 & 16.87463\\\\\n",
       "\t 13.40243 & 10.78128\\\\\n",
       "\t 15.09085 & 16.03043\\\\\n",
       "\t 10.28356 & 19.77144\\\\\n",
       "\t 19.55944 & 16.10194\\\\\n",
       "\\end{tabular}\n"
      ],
      "text/markdown": [
       "\n",
       "A matrix: 30 × 2 of type dbl\n",
       "\n",
       "| V1 | V2 |\n",
       "|---|---|\n",
       "| 16.74117 | 19.28437 |\n",
       "| 17.66120 | 16.05978 |\n",
       "| 15.70451 | 15.32761 |\n",
       "| 18.41005 | 19.12274 |\n",
       "| 18.05333 | 19.31244 |\n",
       "| 12.40951 | 13.06823 |\n",
       "| 16.46795 | 18.14886 |\n",
       "| 16.83206 | 13.76698 |\n",
       "| 18.88690 | 12.46731 |\n",
       "| 10.97053 | 18.65538 |\n",
       "| 16.99187 | 11.27374 |\n",
       "| 15.31774 | 18.39721 |\n",
       "| 10.38226 | 16.26408 |\n",
       "| 12.60116 | 10.42019 |\n",
       "| 13.90036 | 16.65032 |\n",
       "| 14.30634 | 10.67683 |\n",
       "| 15.52752 | 10.86050 |\n",
       "| 18.94324 | 14.28282 |\n",
       "| 17.56710 | 15.43751 |\n",
       "| 19.58884 | 19.64468 |\n",
       "| 17.08949 | 16.66438 |\n",
       "| 19.29642 | 18.02649 |\n",
       "| 11.76265 | 16.20580 |\n",
       "| 12.47063 | 10.59631 |\n",
       "| 11.19161 | 13.73618 |\n",
       "| 12.53881 | 16.87463 |\n",
       "| 13.40243 | 10.78128 |\n",
       "| 15.09085 | 16.03043 |\n",
       "| 10.28356 | 19.77144 |\n",
       "| 19.55944 | 16.10194 |\n",
       "\n"
      ],
      "text/plain": [
       "      V1       V2      \n",
       " [1,] 16.74117 19.28437\n",
       " [2,] 17.66120 16.05978\n",
       " [3,] 15.70451 15.32761\n",
       " [4,] 18.41005 19.12274\n",
       " [5,] 18.05333 19.31244\n",
       " [6,] 12.40951 13.06823\n",
       " [7,] 16.46795 18.14886\n",
       " [8,] 16.83206 13.76698\n",
       " [9,] 18.88690 12.46731\n",
       "[10,] 10.97053 18.65538\n",
       "[11,] 16.99187 11.27374\n",
       "[12,] 15.31774 18.39721\n",
       "[13,] 10.38226 16.26408\n",
       "[14,] 12.60116 10.42019\n",
       "[15,] 13.90036 16.65032\n",
       "[16,] 14.30634 10.67683\n",
       "[17,] 15.52752 10.86050\n",
       "[18,] 18.94324 14.28282\n",
       "[19,] 17.56710 15.43751\n",
       "[20,] 19.58884 19.64468\n",
       "[21,] 17.08949 16.66438\n",
       "[22,] 19.29642 18.02649\n",
       "[23,] 11.76265 16.20580\n",
       "[24,] 12.47063 10.59631\n",
       "[25,] 11.19161 13.73618\n",
       "[26,] 12.53881 16.87463\n",
       "[27,] 13.40243 10.78128\n",
       "[28,] 15.09085 16.03043\n",
       "[29,] 10.28356 19.77144\n",
       "[30,] 19.55944 16.10194"
      ]
     },
     "metadata": {},
     "output_type": "display_data"
    }
   ],
   "source": [
    "population"
   ]
  },
  {
   "cell_type": "code",
   "execution_count": 67,
   "metadata": {},
   "outputs": [],
   "source": [
    "sum_of_squares<-function(point){\n",
    "  sum <- 0.0\n",
    "  for(p in point)\n",
    "  {\n",
    "    sum <- sum + p^2\n",
    "  }\n",
    "  return(sum)\n",
    "}"
   ]
  },
  {
   "cell_type": "code",
   "execution_count": 68,
   "metadata": {},
   "outputs": [],
   "source": [
    "# static parameters init\n",
    "counteval <- 200\n",
    "population_size <- dim(population)[1]\n",
    "point_dim <- dim(population)[2]\n",
    "m <- runif(point_dim)\n",
    "sigma <- 0.3 \n",
    "lambda <- 4 + floor(3*log(point_dim))\n",
    "mu <- lambda/2\n",
    "weights <- log(mu+1/2)-log(1:mu)\n",
    "mu <- floor(mu)\n",
    "weights <- weights/sum(weights)\n",
    "mueff <- sum(weights)^2/sum(weights^2)\n",
    "cc <-  (4+mueff/point_dim) / (point_dim+4 + 2*mueff/point_dim)\n",
    "cs <-  (mueff+2) / (point_dim+mueff+5)\n",
    "c1 <- 2 / ((point_dim+1.3)^2+mueff)\n",
    "cmu <- min(1-c1, 2 * (mueff-2+1/mueff) / ((point_dim+2)^2+mueff))\n",
    "damps <- 1 + 2*max(0, sqrt((mueff-1)/(point_dim+1))-1) + cs"
   ]
  },
  {
   "cell_type": "code",
   "execution_count": 69,
   "metadata": {},
   "outputs": [],
   "source": [
    "# dynamic parameters init\n",
    "pc <- numeric(point_dim)\n",
    "ps <- numeric(point_dim)\n",
    "B <- eye(point_dim)                       \n",
    "D <- ones(point_dim , 1 ) \n",
    "# C <- B %*% diag(D^2) %*% t(B)           \n",
    "# invsqrtC <- B %*% diag(D^(-1)) %*% t(B)   \n",
    "C <- eye(point_dim)\n",
    "invsqrtC <- eye(point_dim)\n",
    "\n",
    "eigeneval <- 0                    \n",
    "chiN <- point_dim^0.5*(1-1/(4*point_dim)+1/(21*point_dim^2))"
   ]
  },
  {
   "cell_type": "code",
   "execution_count": 70,
   "metadata": {},
   "outputs": [],
   "source": [
    "generated_pop = m + sigma * MASS::mvrnorm(population_size, mu = numeric(point_dim), Sigma = C)"
   ]
  },
  {
   "cell_type": "code",
   "execution_count": 71,
   "metadata": {},
   "outputs": [
    {
     "data": {
      "text/html": [
       "<style>\n",
       ".list-inline {list-style: none; margin:0; padding: 0}\n",
       ".list-inline>li {display: inline-block}\n",
       ".list-inline>li:not(:last-child)::after {content: \"\\00b7\"; padding: 0 .5ex}\n",
       "</style>\n",
       "<ol class=list-inline><li>0.170046975559273</li><li>0.361720933028382</li><li>1.34152137721977</li><li>1.12234593260816</li><li>0.00378527744277553</li><li>0.587592913149011</li><li>0.116753692721895</li><li>0.736305228204515</li><li>0.156392726281406</li><li>1.48644853313119</li><li>0.849854635558575</li><li>1.09521276146823</li><li>0.0613567589010768</li><li>0.241386256252902</li><li>0.00340340833358785</li><li>1.32330169455571</li><li>0.0891696864009925</li><li>0.507423058068584</li><li>0.46422167636989</li><li>1.14120831333648</li><li>0.276779772730099</li><li>0.301425425209792</li><li>0.139050340803729</li><li>0.885060125787071</li><li>0.157764937403776</li><li>0.913040794188351</li><li>0.0988580364213432</li><li>1.48356935182544</li><li>0.353863055409453</li><li>0.560799939230642</li></ol>\n"
      ],
      "text/latex": [
       "\\begin{enumerate*}\n",
       "\\item 0.170046975559273\n",
       "\\item 0.361720933028382\n",
       "\\item 1.34152137721977\n",
       "\\item 1.12234593260816\n",
       "\\item 0.00378527744277553\n",
       "\\item 0.587592913149011\n",
       "\\item 0.116753692721895\n",
       "\\item 0.736305228204515\n",
       "\\item 0.156392726281406\n",
       "\\item 1.48644853313119\n",
       "\\item 0.849854635558575\n",
       "\\item 1.09521276146823\n",
       "\\item 0.0613567589010768\n",
       "\\item 0.241386256252902\n",
       "\\item 0.00340340833358785\n",
       "\\item 1.32330169455571\n",
       "\\item 0.0891696864009925\n",
       "\\item 0.507423058068584\n",
       "\\item 0.46422167636989\n",
       "\\item 1.14120831333648\n",
       "\\item 0.276779772730099\n",
       "\\item 0.301425425209792\n",
       "\\item 0.139050340803729\n",
       "\\item 0.885060125787071\n",
       "\\item 0.157764937403776\n",
       "\\item 0.913040794188351\n",
       "\\item 0.0988580364213432\n",
       "\\item 1.48356935182544\n",
       "\\item 0.353863055409453\n",
       "\\item 0.560799939230642\n",
       "\\end{enumerate*}\n"
      ],
      "text/markdown": [
       "1. 0.170046975559273\n",
       "2. 0.361720933028382\n",
       "3. 1.34152137721977\n",
       "4. 1.12234593260816\n",
       "5. 0.00378527744277553\n",
       "6. 0.587592913149011\n",
       "7. 0.116753692721895\n",
       "8. 0.736305228204515\n",
       "9. 0.156392726281406\n",
       "10. 1.48644853313119\n",
       "11. 0.849854635558575\n",
       "12. 1.09521276146823\n",
       "13. 0.0613567589010768\n",
       "14. 0.241386256252902\n",
       "15. 0.00340340833358785\n",
       "16. 1.32330169455571\n",
       "17. 0.0891696864009925\n",
       "18. 0.507423058068584\n",
       "19. 0.46422167636989\n",
       "20. 1.14120831333648\n",
       "21. 0.276779772730099\n",
       "22. 0.301425425209792\n",
       "23. 0.139050340803729\n",
       "24. 0.885060125787071\n",
       "25. 0.157764937403776\n",
       "26. 0.913040794188351\n",
       "27. 0.0988580364213432\n",
       "28. 1.48356935182544\n",
       "29. 0.353863055409453\n",
       "30. 0.560799939230642\n",
       "\n",
       "\n"
      ],
      "text/plain": [
       " [1] 0.170046976 0.361720933 1.341521377 1.122345933 0.003785277 0.587592913\n",
       " [7] 0.116753693 0.736305228 0.156392726 1.486448533 0.849854636 1.095212761\n",
       "[13] 0.061356759 0.241386256 0.003403408 1.323301695 0.089169686 0.507423058\n",
       "[19] 0.464221676 1.141208313 0.276779773 0.301425425 0.139050341 0.885060126\n",
       "[25] 0.157764937 0.913040794 0.098858036 1.483569352 0.353863055 0.560799939"
      ]
     },
     "metadata": {},
     "output_type": "display_data"
    }
   ],
   "source": [
    "fitnesses = c()\n",
    "for (i in 1:dim(generated_pop)[1]){\n",
    "    point <- generated_pop[i,]\n",
    "    fitness <- sum_of_squares(point)\n",
    "    fitnesses <- append(fitnesses, fitness)\n",
    "}\n",
    "fitnesses"
   ]
  },
  {
   "cell_type": "code",
   "execution_count": 72,
   "metadata": {},
   "outputs": [],
   "source": [
    "generated_pop_sorted <- generated_pop[order(fitnesses, decreasing=FALSE),]"
   ]
  },
  {
   "cell_type": "code",
   "execution_count": 73,
   "metadata": {},
   "outputs": [
    {
     "data": {
      "text/html": [
       "<table>\n",
       "<caption>A matrix: 2 × 3 of type dbl</caption>\n",
       "<tbody>\n",
       "\t<tr><td>-0.02215647</td><td>0.05552704</td><td> 0.24064310</td></tr>\n",
       "\t<tr><td>-0.05396757</td><td>0.02649575</td><td>-0.05871676</td></tr>\n",
       "</tbody>\n",
       "</table>\n"
      ],
      "text/latex": [
       "A matrix: 2 × 3 of type dbl\n",
       "\\begin{tabular}{lll}\n",
       "\t -0.02215647 & 0.05552704 &  0.24064310\\\\\n",
       "\t -0.05396757 & 0.02649575 & -0.05871676\\\\\n",
       "\\end{tabular}\n"
      ],
      "text/markdown": [
       "\n",
       "A matrix: 2 × 3 of type dbl\n",
       "\n",
       "| -0.02215647 | 0.05552704 |  0.24064310 |\n",
       "| -0.05396757 | 0.02649575 | -0.05871676 |\n",
       "\n"
      ],
      "text/plain": [
       "     [,1]        [,2]       [,3]       \n",
       "[1,] -0.02215647 0.05552704  0.24064310\n",
       "[2,] -0.05396757 0.02649575 -0.05871676"
      ]
     },
     "metadata": {},
     "output_type": "display_data"
    }
   ],
   "source": [
    "t(generated_pop_sorted)[,1:mu]"
   ]
  },
  {
   "cell_type": "code",
   "execution_count": 74,
   "metadata": {},
   "outputs": [
    {
     "data": {
      "text/html": [
       "<table>\n",
       "<caption>A matrix: 2 × 1 of type dbl</caption>\n",
       "<tbody>\n",
       "\t<tr><td> 0.02055006</td></tr>\n",
       "\t<tr><td>-0.03144238</td></tr>\n",
       "</tbody>\n",
       "</table>\n"
      ],
      "text/latex": [
       "A matrix: 2 × 1 of type dbl\n",
       "\\begin{tabular}{l}\n",
       "\t  0.02055006\\\\\n",
       "\t -0.03144238\\\\\n",
       "\\end{tabular}\n"
      ],
      "text/markdown": [
       "\n",
       "A matrix: 2 × 1 of type dbl\n",
       "\n",
       "|  0.02055006 |\n",
       "| -0.03144238 |\n",
       "\n"
      ],
      "text/plain": [
       "     [,1]       \n",
       "[1,]  0.02055006\n",
       "[2,] -0.03144238"
      ]
     },
     "metadata": {},
     "output_type": "display_data"
    }
   ],
   "source": [
    "new_m <- t(generated_pop_sorted)[,1:mu] %*% weights\n",
    "new_m"
   ]
  },
  {
   "cell_type": "code",
   "execution_count": 75,
   "metadata": {},
   "outputs": [],
   "source": [
    "ps <- (1-cs)*ps + sqrt(cs*(2-cs)*mueff) * invsqrtC %*% (new_m-m) / sigma;"
   ]
  },
  {
   "cell_type": "code",
   "execution_count": 76,
   "metadata": {},
   "outputs": [
    {
     "data": {
      "text/html": [
       "<table>\n",
       "<caption>A matrix: 2 × 1 of type dbl</caption>\n",
       "<tbody>\n",
       "\t<tr><td>-0.8807763</td></tr>\n",
       "\t<tr><td>-2.5411862</td></tr>\n",
       "</tbody>\n",
       "</table>\n"
      ],
      "text/latex": [
       "A matrix: 2 × 1 of type dbl\n",
       "\\begin{tabular}{l}\n",
       "\t -0.8807763\\\\\n",
       "\t -2.5411862\\\\\n",
       "\\end{tabular}\n"
      ],
      "text/markdown": [
       "\n",
       "A matrix: 2 × 1 of type dbl\n",
       "\n",
       "| -0.8807763 |\n",
       "| -2.5411862 |\n",
       "\n"
      ],
      "text/plain": [
       "     [,1]      \n",
       "[1,] -0.8807763\n",
       "[2,] -2.5411862"
      ]
     },
     "metadata": {},
     "output_type": "display_data"
    }
   ],
   "source": [
    "ps"
   ]
  },
  {
   "cell_type": "code",
   "execution_count": 77,
   "metadata": {},
   "outputs": [],
   "source": [
    "hsig = norm(ps)/sqrt(1-(1-cs)^(2*counteval/lambda))/chiN < 1.4 + 2/(point_dim+1)"
   ]
  },
  {
   "cell_type": "code",
   "execution_count": 78,
   "metadata": {},
   "outputs": [],
   "source": [
    "pc <- (1-cc)*pc + hsig * sqrt(cc*(2-cc)*mueff) * (new_m-m) / sigma"
   ]
  },
  {
   "cell_type": "code",
   "execution_count": 79,
   "metadata": {},
   "outputs": [
    {
     "data": {
      "text/html": [
       "<table>\n",
       "<caption>A matrix: 2 × 1 of type dbl</caption>\n",
       "<tbody>\n",
       "\t<tr><td>0</td></tr>\n",
       "\t<tr><td>0</td></tr>\n",
       "</tbody>\n",
       "</table>\n"
      ],
      "text/latex": [
       "A matrix: 2 × 1 of type dbl\n",
       "\\begin{tabular}{l}\n",
       "\t 0\\\\\n",
       "\t 0\\\\\n",
       "\\end{tabular}\n"
      ],
      "text/markdown": [
       "\n",
       "A matrix: 2 × 1 of type dbl\n",
       "\n",
       "| 0 |\n",
       "| 0 |\n",
       "\n"
      ],
      "text/plain": [
       "     [,1]\n",
       "[1,] 0   \n",
       "[2,] 0   "
      ]
     },
     "metadata": {},
     "output_type": "display_data"
    }
   ],
   "source": [
    "pc"
   ]
  },
  {
   "cell_type": "code",
   "execution_count": 81,
   "metadata": {},
   "outputs": [],
   "source": [
    "artmp <- (1/sigma) * (t(generated_pop_sorted)[,1:mu] - matrix(rep(m,mu), point_dim, mu))"
   ]
  },
  {
   "cell_type": "code",
   "execution_count": 87,
   "metadata": {},
   "outputs": [
    {
     "data": {
      "text/html": [
       "<table>\n",
       "<caption>A matrix: 2 × 3 of type dbl</caption>\n",
       "<tbody>\n",
       "\t<tr><td>-0.02215647</td><td>0.05552704</td><td> 0.24064310</td></tr>\n",
       "\t<tr><td>-0.05396757</td><td>0.02649575</td><td>-0.05871676</td></tr>\n",
       "</tbody>\n",
       "</table>\n"
      ],
      "text/latex": [
       "A matrix: 2 × 3 of type dbl\n",
       "\\begin{tabular}{lll}\n",
       "\t -0.02215647 & 0.05552704 &  0.24064310\\\\\n",
       "\t -0.05396757 & 0.02649575 & -0.05871676\\\\\n",
       "\\end{tabular}\n"
      ],
      "text/markdown": [
       "\n",
       "A matrix: 2 × 3 of type dbl\n",
       "\n",
       "| -0.02215647 | 0.05552704 |  0.24064310 |\n",
       "| -0.05396757 | 0.02649575 | -0.05871676 |\n",
       "\n"
      ],
      "text/plain": [
       "     [,1]        [,2]       [,3]       \n",
       "[1,] -0.02215647 0.05552704  0.24064310\n",
       "[2,] -0.05396757 0.02649575 -0.05871676"
      ]
     },
     "metadata": {},
     "output_type": "display_data"
    },
    {
     "data": {
      "text/html": [
       "<table>\n",
       "<caption>A matrix: 2 × 30 of type dbl</caption>\n",
       "<tbody>\n",
       "\t<tr><td>-0.02215647</td><td>0.05552704</td><td> 0.24064310</td><td>0.0919708</td><td>0.3117240</td><td>0.2708393</td><td>0.02293589</td><td> 0.3645684</td><td> 0.2898516</td><td>0.40635471</td><td>...</td><td>-0.5323960</td><td>0.4207894</td><td>0.8108636</td><td>0.6642374</td><td>0.9201887</td><td>0.8425667</td><td>0.8358435</td><td>0.1280729</td><td>0.7284329</td><td>0.8645903</td></tr>\n",
       "\t<tr><td>-0.05396757</td><td>0.02649575</td><td>-0.05871676</td><td>0.2840969</td><td>0.0410628</td><td>0.2083261</td><td>0.37218851</td><td>-0.1532404</td><td>-0.2715714</td><td>0.07016288</td><td>...</td><td> 0.7526016</td><td>0.8414252</td><td>0.5055106</td><td>0.8087036</td><td>0.5249749</td><td>0.6567264</td><td>0.7903590</td><td>1.1511380</td><td>0.9761941</td><td>0.8596116</td></tr>\n",
       "</tbody>\n",
       "</table>\n"
      ],
      "text/latex": [
       "A matrix: 2 × 30 of type dbl\n",
       "\\begin{tabular}{lllllllllllllllllllll}\n",
       "\t -0.02215647 & 0.05552704 &  0.24064310 & 0.0919708 & 0.3117240 & 0.2708393 & 0.02293589 &  0.3645684 &  0.2898516 & 0.40635471 & ... & -0.5323960 & 0.4207894 & 0.8108636 & 0.6642374 & 0.9201887 & 0.8425667 & 0.8358435 & 0.1280729 & 0.7284329 & 0.8645903\\\\\n",
       "\t -0.05396757 & 0.02649575 & -0.05871676 & 0.2840969 & 0.0410628 & 0.2083261 & 0.37218851 & -0.1532404 & -0.2715714 & 0.07016288 & ... &  0.7526016 & 0.8414252 & 0.5055106 & 0.8087036 & 0.5249749 & 0.6567264 & 0.7903590 & 1.1511380 & 0.9761941 & 0.8596116\\\\\n",
       "\\end{tabular}\n"
      ],
      "text/markdown": [
       "\n",
       "A matrix: 2 × 30 of type dbl\n",
       "\n",
       "| -0.02215647 | 0.05552704 |  0.24064310 | 0.0919708 | 0.3117240 | 0.2708393 | 0.02293589 |  0.3645684 |  0.2898516 | 0.40635471 | ... | -0.5323960 | 0.4207894 | 0.8108636 | 0.6642374 | 0.9201887 | 0.8425667 | 0.8358435 | 0.1280729 | 0.7284329 | 0.8645903 |\n",
       "| -0.05396757 | 0.02649575 | -0.05871676 | 0.2840969 | 0.0410628 | 0.2083261 | 0.37218851 | -0.1532404 | -0.2715714 | 0.07016288 | ... |  0.7526016 | 0.8414252 | 0.5055106 | 0.8087036 | 0.5249749 | 0.6567264 | 0.7903590 | 1.1511380 | 0.9761941 | 0.8596116 |\n",
       "\n"
      ],
      "text/plain": [
       "     [,1]        [,2]       [,3]        [,4]      [,5]      [,6]     \n",
       "[1,] -0.02215647 0.05552704  0.24064310 0.0919708 0.3117240 0.2708393\n",
       "[2,] -0.05396757 0.02649575 -0.05871676 0.2840969 0.0410628 0.2083261\n",
       "     [,7]       [,8]       [,9]       [,10]      [,11] [,12]      [,13]    \n",
       "[1,] 0.02293589  0.3645684  0.2898516 0.40635471 ...   -0.5323960 0.4207894\n",
       "[2,] 0.37218851 -0.1532404 -0.2715714 0.07016288 ...    0.7526016 0.8414252\n",
       "     [,14]     [,15]     [,16]     [,17]     [,18]     [,19]     [,20]    \n",
       "[1,] 0.8108636 0.6642374 0.9201887 0.8425667 0.8358435 0.1280729 0.7284329\n",
       "[2,] 0.5055106 0.8087036 0.5249749 0.6567264 0.7903590 1.1511380 0.9761941\n",
       "     [,21]    \n",
       "[1,] 0.8645903\n",
       "[2,] 0.8596116"
      ]
     },
     "metadata": {},
     "output_type": "display_data"
    },
    {
     "data": {
      "text/html": [
       "<table>\n",
       "<caption>A matrix: 2 × 3 of type dbl</caption>\n",
       "<tbody>\n",
       "\t<tr><td>0.2433543</td><td>0.2433543</td><td>0.2433543</td></tr>\n",
       "\t<tr><td>0.6113848</td><td>0.6113848</td><td>0.6113848</td></tr>\n",
       "</tbody>\n",
       "</table>\n"
      ],
      "text/latex": [
       "A matrix: 2 × 3 of type dbl\n",
       "\\begin{tabular}{lll}\n",
       "\t 0.2433543 & 0.2433543 & 0.2433543\\\\\n",
       "\t 0.6113848 & 0.6113848 & 0.6113848\\\\\n",
       "\\end{tabular}\n"
      ],
      "text/markdown": [
       "\n",
       "A matrix: 2 × 3 of type dbl\n",
       "\n",
       "| 0.2433543 | 0.2433543 | 0.2433543 |\n",
       "| 0.6113848 | 0.6113848 | 0.6113848 |\n",
       "\n"
      ],
      "text/plain": [
       "     [,1]      [,2]      [,3]     \n",
       "[1,] 0.2433543 0.2433543 0.2433543\n",
       "[2,] 0.6113848 0.6113848 0.6113848"
      ]
     },
     "metadata": {},
     "output_type": "display_data"
    },
    {
     "data": {
      "text/html": [
       "<style>\n",
       ".list-inline {list-style: none; margin:0; padding: 0}\n",
       ".list-inline>li {display: inline-block}\n",
       ".list-inline>li:not(:last-child)::after {content: \"\\00b7\"; padding: 0 .5ex}\n",
       "</style>\n",
       "<ol class=list-inline><li>0.243354257661849</li><li>0.611384795280173</li></ol>\n"
      ],
      "text/latex": [
       "\\begin{enumerate*}\n",
       "\\item 0.243354257661849\n",
       "\\item 0.611384795280173\n",
       "\\end{enumerate*}\n"
      ],
      "text/markdown": [
       "1. 0.243354257661849\n",
       "2. 0.611384795280173\n",
       "\n",
       "\n"
      ],
      "text/plain": [
       "[1] 0.2433543 0.6113848"
      ]
     },
     "metadata": {},
     "output_type": "display_data"
    }
   ],
   "source": [
    "t(generated_pop_sorted)[,1:mu]\n",
    "t(generated_pop_sorted)\n",
    "matrix(rep(m,mu), point_dim, mu)\n",
    "m"
   ]
  },
  {
   "cell_type": "code",
   "execution_count": 82,
   "metadata": {},
   "outputs": [
    {
     "data": {
      "text/html": [
       "<table>\n",
       "<caption>A matrix: 2 × 3 of type dbl</caption>\n",
       "<tbody>\n",
       "\t<tr><td>-0.8850358</td><td>-0.6260907</td><td>-0.009037199</td></tr>\n",
       "\t<tr><td>-2.2178412</td><td>-1.9496301</td><td>-2.233671864</td></tr>\n",
       "</tbody>\n",
       "</table>\n"
      ],
      "text/latex": [
       "A matrix: 2 × 3 of type dbl\n",
       "\\begin{tabular}{lll}\n",
       "\t -0.8850358 & -0.6260907 & -0.009037199\\\\\n",
       "\t -2.2178412 & -1.9496301 & -2.233671864\\\\\n",
       "\\end{tabular}\n"
      ],
      "text/markdown": [
       "\n",
       "A matrix: 2 × 3 of type dbl\n",
       "\n",
       "| -0.8850358 | -0.6260907 | -0.009037199 |\n",
       "| -2.2178412 | -1.9496301 | -2.233671864 |\n",
       "\n"
      ],
      "text/plain": [
       "     [,1]       [,2]       [,3]        \n",
       "[1,] -0.8850358 -0.6260907 -0.009037199\n",
       "[2,] -2.2178412 -1.9496301 -2.233671864"
      ]
     },
     "metadata": {},
     "output_type": "display_data"
    }
   ],
   "source": [
    "artmp"
   ]
  },
  {
   "cell_type": "code",
   "execution_count": 88,
   "metadata": {},
   "outputs": [],
   "source": [
    "C <- (1-c1-cmu) * C + c1*(pc%*%t(pc) + (1-hsig)*cc*(2-cc)*C) + cmu * artmp %*% diag(weights) %*% t(artmp)"
   ]
  },
  {
   "cell_type": "code",
   "execution_count": 89,
   "metadata": {},
   "outputs": [
    {
     "data": {
      "text/html": [
       "<table>\n",
       "<caption>A matrix: 2 × 2 of type dbl</caption>\n",
       "<tbody>\n",
       "\t<tr><td>0.95564370</td><td>0.09253824</td></tr>\n",
       "\t<tr><td>0.09253824</td><td>1.18683234</td></tr>\n",
       "</tbody>\n",
       "</table>\n"
      ],
      "text/latex": [
       "A matrix: 2 × 2 of type dbl\n",
       "\\begin{tabular}{ll}\n",
       "\t 0.95564370 & 0.09253824\\\\\n",
       "\t 0.09253824 & 1.18683234\\\\\n",
       "\\end{tabular}\n"
      ],
      "text/markdown": [
       "\n",
       "A matrix: 2 × 2 of type dbl\n",
       "\n",
       "| 0.95564370 | 0.09253824 |\n",
       "| 0.09253824 | 1.18683234 |\n",
       "\n"
      ],
      "text/plain": [
       "     [,1]       [,2]      \n",
       "[1,] 0.95564370 0.09253824\n",
       "[2,] 0.09253824 1.18683234"
      ]
     },
     "metadata": {},
     "output_type": "display_data"
    }
   ],
   "source": [
    "C"
   ]
  },
  {
   "cell_type": "code",
   "execution_count": 28,
   "metadata": {},
   "outputs": [
    {
     "data": {
      "text/html": [
       "0.422141172299358"
      ],
      "text/latex": [
       "0.422141172299358"
      ],
      "text/markdown": [
       "0.422141172299358"
      ],
      "text/plain": [
       "[1] 0.4221412"
      ]
     },
     "metadata": {},
     "output_type": "display_data"
    }
   ],
   "source": [
    "sigma <- sigma * exp((cs/damps)*(norm(ps)/chiN - 1))\n",
    "sigma"
   ]
  },
  {
   "cell_type": "markdown",
   "metadata": {},
   "source": [
    "# ----------------"
   ]
  },
  {
   "cell_type": "code",
   "execution_count": 55,
   "metadata": {},
   "outputs": [
    {
     "name": "stdout",
     "output_type": "stream",
     "text": [
      "[1] 0.04878\n",
      "[1] 0.1982859\n",
      "[1] 0.1690439\n",
      "[1] 0.2516478\n",
      "[1] 0.03250462\n",
      "[1] 0.1913589\n",
      "[1] 0.07449304\n",
      "[1] 0.05550102\n",
      "[1] 0.005311501\n",
      "[1] 0.0293127\n",
      "[1] 0.01245349\n",
      "[1] 0.003542674\n",
      "[1] 0.001924882\n",
      "[1] 0.0002697387\n",
      "[1] 0.001163518\n",
      "[1] 0.00100622\n",
      "[1] 0.0003071322\n",
      "[1] 0.000169734\n",
      "[1] 0.0001107777\n",
      "[1] 0.0001345023\n",
      "[1] 0.0001265208\n",
      "[1] 1.224117e-05\n",
      "[1] 1.4234e-05\n",
      "[1] 8.558894e-06\n",
      "[1] 8.957593e-06\n",
      "[1] 1.250779e-06\n",
      "[1] 5.499186e-06\n",
      "[1] 1.284582e-06\n",
      "[1] 3.956841e-07\n",
      "[1] 3.566075e-07\n",
      "[1] 2.367838e-07\n",
      "[1] 2.749106e-07\n",
      "[1] 9.54554e-08\n",
      "[1] 1.907025e-07\n",
      "[1] 5.347541e-08\n",
      "[1] 1.488871e-08\n",
      "[1] 2.234067e-09\n",
      "[1] 2.307653e-08\n",
      "[1] 4.996297e-09\n",
      "[1] 6.102071e-09\n",
      "[1] 2.708391e-09\n",
      "[1] 1.01069e-08\n",
      "[1] 4.279934e-09\n",
      "[1] 4.828399e-10\n",
      "[1] 1.204365e-10\n",
      "[1] 6.399081e-10\n",
      "[1] 2.490797e-10\n",
      "[1] 2.074458e-10\n",
      "[1] 1.368509e-10\n",
      "[1] 1.393294e-10\n",
      "[1] 9.884728e-11\n",
      "[1] 1.647412e-11\n",
      "[1] 6.455718e-12\n",
      "[1] 1.084101e-12\n",
      "[1] 1.615331e-11\n",
      "[1] 2.139649e-12\n",
      "[1] 6.836964e-13\n",
      "[1] 6.170649e-13\n",
      "[1] 1.037128e-12\n",
      "[1] 1.00576e-12\n",
      "[1] 6.583939e-13\n",
      "[1] 1.665266e-13\n",
      "[1] 2.071708e-13\n",
      "[1] 3.794962e-13\n",
      "[1] 2.187857e-13\n",
      "[1] 3.794244e-14\n",
      "[1] 1.267681e-13\n",
      "[1] 9.890906e-14\n",
      "[1] 1.846181e-14\n",
      "[1] 2.542217e-14\n",
      "[1] 2.968889e-15\n",
      "[1] 3.216391e-15\n",
      "[1] 3.159484e-15\n",
      "[1] 4.209857e-15\n",
      "[1] 5.325606e-16\n",
      "[1] 1.61245e-16\n",
      "[1] 7.534273e-16\n",
      "[1] 6.958322e-16\n",
      "[1] 7.345783e-16\n",
      "[1] 2.98631e-16\n",
      "[1] 3.874584e-16\n",
      "[1] 3.105249e-16\n",
      "[1] 6.008816e-17\n",
      "[1] 1.463482e-17\n",
      "[1] 1.536199e-17\n",
      "[1] 7.700348e-18\n",
      "[1] 1.479317e-17\n",
      "[1] 5.824809e-18\n",
      "[1] 2.377738e-18\n",
      "[1] 1.011431e-17\n",
      "[1] 4.108525e-18\n",
      "[1] 4.233923e-19\n",
      "[1] 4.648686e-19\n",
      "[1] 1.549073e-18\n",
      "[1] 1.029956e-18\n",
      "[1] 4.033142e-19\n",
      "[1] 1.474809e-19\n",
      "[1] 1.470732e-20\n",
      "[1] 1.482299e-19\n",
      "[1] 1.17348e-20\n",
      "[1] 1.160263e-20\n",
      "[1] 2.918907e-20\n",
      "[1] 2.56452e-20\n",
      "[1] 1.783898e-20\n",
      "[1] 3.341508e-21\n",
      "[1] 3.546805e-21\n",
      "[1] 9.927522e-22\n",
      "[1] 7.649352e-22\n",
      "[1] 4.094704e-22\n",
      "[1] 1.584462e-22\n",
      "[1] 8.2352e-23\n",
      "[1] 1.571193e-23\n",
      "[1] 9.214775e-23\n",
      "[1] 9.137249e-23\n",
      "[1] 1.933642e-23\n",
      "[1] 2.226804e-23\n",
      "[1] 4.649698e-23\n",
      "[1] 3.046411e-24\n",
      "[1] 9.450657e-24\n",
      "[1] 5.844092e-24\n",
      "[1] 4.436849e-24\n",
      "[1] 1.667648e-24\n",
      "[1] 9.379476e-25\n",
      "[1] 5.416229e-25\n",
      "[1] 5.942921e-25\n",
      "[1] 1.348029e-25\n",
      "[1] 2.283589e-25\n",
      "[1] 1.438353e-25\n",
      "[1] 1.3462e-25\n",
      "[1] 4.531727e-26\n",
      "[1] 1.155943e-26\n",
      "[1] 2.172554e-26\n",
      "[1] 2.565585e-26\n",
      "[1] 9.939246e-27\n",
      "[1] 4.274089e-27\n",
      "[1] 6.153822e-27\n",
      "[1] 3.612447e-27\n",
      "[1] 3.181053e-27\n",
      "[1] 8.069212e-28\n",
      "[1] 9.593543e-28\n",
      "[1] 2.475399e-28\n",
      "[1] 1.134716e-28\n",
      "[1] 1.416985e-28\n",
      "[1] 2.378005e-29\n",
      "[1] 1.546646e-29\n",
      "[1] 1.262004e-28\n",
      "[1] 4.990803e-29\n",
      "[1] 1.466846e-29\n",
      "[1] 1.384884e-29\n",
      "[1] 1.244233e-29\n",
      "[1] 7.20482e-30\n",
      "[1] 4.021805e-30\n",
      "[1] 2.483849e-30\n",
      "[1] 1.510522e-31\n",
      "[1] 2.596939e-30\n",
      "[1] 8.356765e-31\n",
      "[1] 1.141389e-30\n",
      "[1] 5.247649e-31\n",
      "[1] 6.534767e-32\n",
      "[1] 8.458617e-32\n",
      "[1] 9.706713e-32\n",
      "[1] 6.802563e-32\n",
      "[1] 2.229687e-32\n",
      "[1] 5.261412e-33\n",
      "[1] 2.609584e-33\n",
      "[1] 6.876703e-33\n",
      "[1] 3.238478e-33\n",
      "[1] 8.691505e-34\n",
      "[1] 1.25488e-33\n",
      "[1] 9.98436e-34\n",
      "[1] 1.129874e-34\n",
      "[1] 8.675657e-35\n",
      "[1] 5.352148e-35\n",
      "[1] 1.164015e-34\n",
      "[1] 3.031099e-35\n",
      "[1] 4.119942e-36\n",
      "[1] 8.72768e-36\n",
      "[1] 7.57466e-36\n",
      "[1] 2.182997e-36\n",
      "[1] 1.755024e-36\n",
      "[1] 3.951433e-36\n",
      "[1] 3.103276e-37\n",
      "[1] 1.068763e-36\n",
      "[1] 3.894722e-37\n",
      "[1] 3.104229e-37\n",
      "[1] 1.431266e-37\n",
      "[1] 1.58571e-37\n",
      "[1] 2.000881e-37\n",
      "[1] 7.750361e-38\n",
      "[1] 9.335659e-38\n",
      "[1] 3.12025e-38\n",
      "[1] 3.99177e-38\n",
      "[1] 1.049489e-38\n",
      "[1] 1.125379e-38\n",
      "[1] 3.135678e-39\n",
      "[1] 1.063882e-40\n",
      "[1] 1.858336e-39\n",
      "[1] 1.743839e-39\n",
      "[1] 6.944506e-40\n",
      "[1] 6.554616e-40\n"
     ]
    }
   ],
   "source": [
    "library(pracma)\n",
    "\n",
    "P <- read.csv(\"C:\\\\Users\\\\Tata\\\\Desktop\\\\OptimizationAlgorithms\\\\R_shallow\\\\data.csv\", header = FALSE)\n",
    "population <- as.matrix(P)\n",
    "\n",
    "sum_of_squares<-function(point){\n",
    "  sum <- 0.0\n",
    "  for(p in point)\n",
    "  {\n",
    "    sum <- sum + p^2\n",
    "  }\n",
    "  return(sum)\n",
    "}\n",
    "\n",
    "# static parameters init\n",
    "counteval <- 200\n",
    "population_size <- dim(population)[1]\n",
    "point_dim <- dim(population)[2]\n",
    "m <- runif(point_dim)\n",
    "sigma <- 0.3 \n",
    "lambda <- 4 + floor(3*log(point_dim))\n",
    "mu <- lambda/2\n",
    "weights <- log(mu+1/2)-log(1:mu)\n",
    "mu <- floor(mu)\n",
    "weights <- weights/sum(weights)\n",
    "mueff <- sum(weights)^2/sum(weights^2)\n",
    "cc <-  (4+mueff/point_dim) / (point_dim+4 + 2*mueff/point_dim)\n",
    "cs <-  (mueff+2) / (point_dim+mueff+5)\n",
    "c1 <- 2 / ((point_dim+1.3)^2+mueff)\n",
    "cmu <- min(1-c1, 2 * (mueff-2+1/mueff) / ((point_dim+2)^2+mueff))\n",
    "damps <- 1 + 2*max(0, sqrt((mueff-1)/(point_dim+1))-1) + cs\n",
    "\n",
    "# dynamic parameters init\n",
    "pc <- numeric(point_dim)\n",
    "ps <- numeric(point_dim)\n",
    "B <- eye(point_dim)                       \n",
    "D <- ones(point_dim , 1 ) \n",
    "# C <- B %*% diag(D^2) %*% t(B)           \n",
    "# invsqrtC <- B %*% diag(D^(-1)) %*% t(B)   \n",
    "C <- eye(point_dim)\n",
    "invsqrtC <- eye(point_dim)\n",
    "\n",
    "eigeneval <- 0                    \n",
    "chiN <- point_dim^0.5*(1-1/(4*point_dim)+1/(21*point_dim^2))\n",
    "\n",
    "t <- 0\n",
    "while(t < 200){\n",
    "  t <- t+1\n",
    "  generated_pop <- m + sigma * MASS::mvrnorm(population_size, mu = numeric(point_dim), Sigma = C)\n",
    "\n",
    "  fitnesses <- c()\n",
    "  for (i in 1:dim(generated_pop)[1]){\n",
    "      point <- generated_pop[i,]\n",
    "      fitness <- sum_of_squares(point)\n",
    "      fitnesses <- append(fitnesses, fitness)\n",
    "  }\n",
    "\n",
    "  generated_pop_sorted <- generated_pop[order(fitnesses, decreasing=FALSE),]\n",
    "  new_m <- t(generated_pop_sorted)[,1:mu] %*% weights\n",
    "  ps <- (1-cs)*ps + sqrt(cs*(2-cs)*mueff) * invsqrtC %*% (new_m-m) / sigma\n",
    "  hsig <- norm(ps)/sqrt(1-(1-cs)^(2*counteval/lambda))/chiN < 1.4 + 2/(point_dim+1)\n",
    "  pc <- (1-cc)*pc + hsig * sqrt(cc*(2-cc)*mueff) * (new_m-m) / sigma\n",
    "  artmp <- (1/sigma) * (t(generated_pop_sorted)[,1:mu] - matrix(rep(m,mu), point_dim, mu))\n",
    "  C <- (1-c1-cmu) * C + c1*(pc%*%t(pc) + (1-hsig)*cc*(2-cc)*C) + cmu * artmp %*% diag(weights) * t(artmp)\n",
    "  sigma <- sigma * exp((cs/damps)*(norm(ps)/chiN - 1))\n",
    " \n",
    "  print(sum_of_squares(generated_pop_sorted[1,]))\n",
    "    \n",
    "C_upper <- C\n",
    "C_upper_diag <- C\n",
    "u <- lower.tri(C, diag = TRUE)\n",
    "u_d <-  lower.tri(C, diag = FALSE)\n",
    "C_upper[u] <- 0\n",
    "C_upper_diag[u_d] <- 0\n",
    "C <- C_upper_diag + t(C_upper)\n",
    "    eig <- eigen(C)\n",
    "D <- eig$values\n",
    "B <- eig$vectors\n",
    "    D <- sqrt(D)\n",
    "    invsqrtC <- B %*% diag(D^-1) %*% t(B)\n",
    "     m <- c(new_m)\n",
    "}"
   ]
  },
  {
   "cell_type": "code",
   "execution_count": 31,
   "metadata": {},
   "outputs": [
    {
     "data": {
      "text/html": [
       "<style>\n",
       ".list-inline {list-style: none; margin:0; padding: 0}\n",
       ".list-inline>li {display: inline-block}\n",
       ".list-inline>li:not(:last-child)::after {content: \"\\00b7\"; padding: 0 .5ex}\n",
       "</style>\n",
       "<ol class=list-inline><li>0.049761023620588</li><li>-0.0132528224672454</li><li>-0.00465404164027878</li></ol>\n"
      ],
      "text/latex": [
       "\\begin{enumerate*}\n",
       "\\item 0.049761023620588\n",
       "\\item -0.0132528224672454\n",
       "\\item -0.00465404164027878\n",
       "\\end{enumerate*}\n"
      ],
      "text/markdown": [
       "1. 0.049761023620588\n",
       "2. -0.0132528224672454\n",
       "3. -0.00465404164027878\n",
       "\n",
       "\n"
      ],
      "text/plain": [
       "[1]  0.049761024 -0.013252822 -0.004654042"
      ]
     },
     "metadata": {},
     "output_type": "display_data"
    }
   ],
   "source": [
    "C[lower.tri(C)]"
   ]
  },
  {
   "cell_type": "code",
   "execution_count": 30,
   "metadata": {},
   "outputs": [
    {
     "data": {
      "text/html": [
       "<table>\n",
       "<caption>A matrix: 3 × 3 of type dbl</caption>\n",
       "<tbody>\n",
       "\t<tr><td> 0.93263193</td><td> 0.024880512</td><td>-0.002750209</td></tr>\n",
       "\t<tr><td> 0.04976102</td><td> 1.036226731</td><td>-0.001931602</td></tr>\n",
       "\t<tr><td>-0.01325282</td><td>-0.004654042</td><td> 0.931625558</td></tr>\n",
       "</tbody>\n",
       "</table>\n"
      ],
      "text/latex": [
       "A matrix: 3 × 3 of type dbl\n",
       "\\begin{tabular}{lll}\n",
       "\t  0.93263193 &  0.024880512 & -0.002750209\\\\\n",
       "\t  0.04976102 &  1.036226731 & -0.001931602\\\\\n",
       "\t -0.01325282 & -0.004654042 &  0.931625558\\\\\n",
       "\\end{tabular}\n"
      ],
      "text/markdown": [
       "\n",
       "A matrix: 3 × 3 of type dbl\n",
       "\n",
       "|  0.93263193 |  0.024880512 | -0.002750209 |\n",
       "|  0.04976102 |  1.036226731 | -0.001931602 |\n",
       "| -0.01325282 | -0.004654042 |  0.931625558 |\n",
       "\n"
      ],
      "text/plain": [
       "     [,1]        [,2]         [,3]        \n",
       "[1,]  0.93263193  0.024880512 -0.002750209\n",
       "[2,]  0.04976102  1.036226731 -0.001931602\n",
       "[3,] -0.01325282 -0.004654042  0.931625558"
      ]
     },
     "metadata": {},
     "output_type": "display_data"
    }
   ],
   "source": [
    "C"
   ]
  },
  {
   "cell_type": "code",
   "execution_count": 34,
   "metadata": {},
   "outputs": [
    {
     "data": {
      "text/html": [
       "<table>\n",
       "<caption>A matrix: 3 × 3 of type dbl</caption>\n",
       "<tbody>\n",
       "\t<tr><td>0</td><td>0.02488051</td><td>-0.002750209</td></tr>\n",
       "\t<tr><td>0</td><td>0.00000000</td><td>-0.001931602</td></tr>\n",
       "\t<tr><td>0</td><td>0.00000000</td><td> 0.000000000</td></tr>\n",
       "</tbody>\n",
       "</table>\n"
      ],
      "text/latex": [
       "A matrix: 3 × 3 of type dbl\n",
       "\\begin{tabular}{lll}\n",
       "\t 0 & 0.02488051 & -0.002750209\\\\\n",
       "\t 0 & 0.00000000 & -0.001931602\\\\\n",
       "\t 0 & 0.00000000 &  0.000000000\\\\\n",
       "\\end{tabular}\n"
      ],
      "text/markdown": [
       "\n",
       "A matrix: 3 × 3 of type dbl\n",
       "\n",
       "| 0 | 0.02488051 | -0.002750209 |\n",
       "| 0 | 0.00000000 | -0.001931602 |\n",
       "| 0 | 0.00000000 |  0.000000000 |\n",
       "\n"
      ],
      "text/plain": [
       "     [,1] [,2]       [,3]        \n",
       "[1,] 0    0.02488051 -0.002750209\n",
       "[2,] 0    0.00000000 -0.001931602\n",
       "[3,] 0    0.00000000  0.000000000"
      ]
     },
     "metadata": {},
     "output_type": "display_data"
    },
    {
     "data": {
      "text/html": [
       "<table>\n",
       "<caption>A matrix: 3 × 3 of type dbl</caption>\n",
       "<tbody>\n",
       "\t<tr><td>0.9326319</td><td>0.02488051</td><td>-0.002750209</td></tr>\n",
       "\t<tr><td>0.0000000</td><td>1.03622673</td><td>-0.001931602</td></tr>\n",
       "\t<tr><td>0.0000000</td><td>0.00000000</td><td> 0.931625558</td></tr>\n",
       "</tbody>\n",
       "</table>\n"
      ],
      "text/latex": [
       "A matrix: 3 × 3 of type dbl\n",
       "\\begin{tabular}{lll}\n",
       "\t 0.9326319 & 0.02488051 & -0.002750209\\\\\n",
       "\t 0.0000000 & 1.03622673 & -0.001931602\\\\\n",
       "\t 0.0000000 & 0.00000000 &  0.931625558\\\\\n",
       "\\end{tabular}\n"
      ],
      "text/markdown": [
       "\n",
       "A matrix: 3 × 3 of type dbl\n",
       "\n",
       "| 0.9326319 | 0.02488051 | -0.002750209 |\n",
       "| 0.0000000 | 1.03622673 | -0.001931602 |\n",
       "| 0.0000000 | 0.00000000 |  0.931625558 |\n",
       "\n"
      ],
      "text/plain": [
       "     [,1]      [,2]       [,3]        \n",
       "[1,] 0.9326319 0.02488051 -0.002750209\n",
       "[2,] 0.0000000 1.03622673 -0.001931602\n",
       "[3,] 0.0000000 0.00000000  0.931625558"
      ]
     },
     "metadata": {},
     "output_type": "display_data"
    }
   ],
   "source": [
    "C_upper <- C\n",
    "C_upper_diag <- C\n",
    "u <- lower.tri(C, diag = TRUE)\n",
    "u_d <-  lower.tri(C, diag = FALSE)\n",
    "C_upper[u] <- 0\n",
    "C_upper_diag[u_d] <- 0\n",
    "C_upper\n",
    "C_upper_diag"
   ]
  },
  {
   "cell_type": "code",
   "execution_count": 37,
   "metadata": {},
   "outputs": [],
   "source": [
    "new_C <- C_upper_diag + t(C_upper)"
   ]
  },
  {
   "cell_type": "code",
   "execution_count": 38,
   "metadata": {},
   "outputs": [
    {
     "data": {
      "text/plain": [
       "eigen() decomposition\n",
       "$values\n",
       "[1] 1.0419489 0.9324878 0.9260476\n",
       "\n",
       "$vectors\n",
       "            [,1]       [,2]       [,3]\n",
       "[1,] -0.22240839 -0.3635553  0.9046337\n",
       "[2,] -0.97469139  0.1044306 -0.1976637\n",
       "[3,]  0.02260978  0.9257007  0.3775804\n"
      ]
     },
     "metadata": {},
     "output_type": "display_data"
    }
   ],
   "source": [
    "eigen(new_C)"
   ]
  },
  {
   "cell_type": "code",
   "execution_count": 44,
   "metadata": {},
   "outputs": [],
   "source": [
    "eig <- eigen(new_C)\n",
    "D <- eig$values\n",
    "B <- eig$vectors"
   ]
  },
  {
   "cell_type": "code",
   "execution_count": 46,
   "metadata": {},
   "outputs": [
    {
     "data": {
      "text/html": [
       "<style>\n",
       ".list-inline {list-style: none; margin:0; padding: 0}\n",
       ".list-inline>li {display: inline-block}\n",
       ".list-inline>li:not(:last-child)::after {content: \"\\00b7\"; padding: 0 .5ex}\n",
       "</style>\n",
       "<ol class=list-inline><li>1.02075896166848</li><li>0.96565405434205</li><li>0.962313674864064</li></ol>\n"
      ],
      "text/latex": [
       "\\begin{enumerate*}\n",
       "\\item 1.02075896166848\n",
       "\\item 0.96565405434205\n",
       "\\item 0.962313674864064\n",
       "\\end{enumerate*}\n"
      ],
      "text/markdown": [
       "1. 1.02075896166848\n",
       "2. 0.96565405434205\n",
       "3. 0.962313674864064\n",
       "\n",
       "\n"
      ],
      "text/plain": [
       "[1] 1.0207590 0.9656541 0.9623137"
      ]
     },
     "metadata": {},
     "output_type": "display_data"
    }
   ],
   "source": [
    "D <- sqrt(D)"
   ]
  },
  {
   "cell_type": "code",
   "execution_count": 51,
   "metadata": {},
   "outputs": [],
   "source": [
    "invsqrtC <- B %*% diag(D^-1) %*% t(B)"
   ]
  },
  {
   "cell_type": "code",
   "execution_count": 64,
   "metadata": {},
   "outputs": [
    {
     "data": {
      "text/html": [
       "<table>\n",
       "<caption>A matrix: 3 × 3 of type dbl</caption>\n",
       "<tbody>\n",
       "\t<tr><td>-2.738318e-21</td><td> 5.250223e-21</td><td>5.455235e-22</td></tr>\n",
       "\t<tr><td>-2.047070e-20</td><td> 2.803018e-20</td><td>3.110853e-20</td></tr>\n",
       "\t<tr><td>-9.982478e-22</td><td>-4.684752e-21</td><td>1.609794e-20</td></tr>\n",
       "</tbody>\n",
       "</table>\n"
      ],
      "text/latex": [
       "A matrix: 3 × 3 of type dbl\n",
       "\\begin{tabular}{lll}\n",
       "\t -2.738318e-21 &  5.250223e-21 & 5.455235e-22\\\\\n",
       "\t -2.047070e-20 &  2.803018e-20 & 3.110853e-20\\\\\n",
       "\t -9.982478e-22 & -4.684752e-21 & 1.609794e-20\\\\\n",
       "\\end{tabular}\n"
      ],
      "text/markdown": [
       "\n",
       "A matrix: 3 × 3 of type dbl\n",
       "\n",
       "| -2.738318e-21 |  5.250223e-21 | 5.455235e-22 |\n",
       "| -2.047070e-20 |  2.803018e-20 | 3.110853e-20 |\n",
       "| -9.982478e-22 | -4.684752e-21 | 1.609794e-20 |\n",
       "\n"
      ],
      "text/plain": [
       "     [,1]          [,2]          [,3]        \n",
       "[1,] -2.738318e-21  5.250223e-21 5.455235e-22\n",
       "[2,] -2.047070e-20  2.803018e-20 3.110853e-20\n",
       "[3,] -9.982478e-22 -4.684752e-21 1.609794e-20"
      ]
     },
     "metadata": {},
     "output_type": "display_data"
    }
   ],
   "source": [
    "t(generated_pop_sorted)[,1:mu] - matrix(rep(m,mu), point_dim, mu)"
   ]
  },
  {
   "cell_type": "code",
   "execution_count": null,
   "metadata": {},
   "outputs": [],
   "source": []
  }
 ],
 "metadata": {
  "kernelspec": {
   "display_name": "R",
   "language": "R",
   "name": "ir"
  },
  "language_info": {
   "codemirror_mode": "r",
   "file_extension": ".r",
   "mimetype": "text/x-r-source",
   "name": "R",
   "pygments_lexer": "r",
   "version": "4.0.2"
  }
 },
 "nbformat": 4,
 "nbformat_minor": 4
}
