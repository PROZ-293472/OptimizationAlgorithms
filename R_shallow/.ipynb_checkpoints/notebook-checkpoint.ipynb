{
 "cells": [
  {
   "cell_type": "code",
   "execution_count": 66,
   "metadata": {},
   "outputs": [],
   "source": [
    "# A = eye(3)\n",
    "# b = numeric(point_dim)\n",
    "# A %*% b"
   ]
  },
  {
   "cell_type": "code",
   "execution_count": 67,
   "metadata": {},
   "outputs": [],
   "source": [
    "library(pracma)"
   ]
  },
  {
   "cell_type": "code",
   "execution_count": 68,
   "metadata": {},
   "outputs": [],
   "source": [
    "P <- read.csv(\"C:\\\\Users\\\\Lenovo\\\\Desktop\\\\Studia\\\\INZYNIERKA\\\\OptimizationAlgorithms\\\\R_shallow\\\\data.csv\", header = FALSE)\n",
    "population <- as.matrix(P)"
   ]
  },
  {
   "cell_type": "code",
   "execution_count": 69,
   "metadata": {},
   "outputs": [
    {
     "data": {
      "text/html": [
       "<table>\n",
       "<caption>A matrix: 30 × 3 of type dbl</caption>\n",
       "<thead>\n",
       "\t<tr><th scope=col>V1</th><th scope=col>V2</th><th scope=col>V3</th></tr>\n",
       "</thead>\n",
       "<tbody>\n",
       "\t<tr><td>11.84558</td><td>15.93763</td><td>13.95643</td></tr>\n",
       "\t<tr><td>19.31929</td><td>12.41807</td><td>18.41813</td></tr>\n",
       "\t<tr><td>15.12984</td><td>11.42258</td><td>11.12381</td></tr>\n",
       "\t<tr><td>10.71753</td><td>18.08079</td><td>13.45799</td></tr>\n",
       "\t<tr><td>12.78296</td><td>15.79992</td><td>11.71177</td></tr>\n",
       "\t<tr><td>18.60394</td><td>17.29965</td><td>13.44883</td></tr>\n",
       "\t<tr><td>15.97770</td><td>11.08401</td><td>16.64559</td></tr>\n",
       "\t<tr><td>19.05631</td><td>16.61076</td><td>16.88290</td></tr>\n",
       "\t<tr><td>19.75906</td><td>12.21566</td><td>19.10830</td></tr>\n",
       "\t<tr><td>18.95662</td><td>15.13592</td><td>18.34516</td></tr>\n",
       "\t<tr><td>13.62194</td><td>10.87727</td><td>11.98402</td></tr>\n",
       "\t<tr><td>16.62601</td><td>15.47772</td><td>17.90082</td></tr>\n",
       "\t<tr><td>16.53055</td><td>15.40731</td><td>15.28959</td></tr>\n",
       "\t<tr><td>13.22715</td><td>13.53943</td><td>11.56274</td></tr>\n",
       "\t<tr><td>16.61757</td><td>17.67971</td><td>19.88796</td></tr>\n",
       "\t<tr><td>17.18330</td><td>13.79820</td><td>19.05251</td></tr>\n",
       "\t<tr><td>18.86469</td><td>18.18773</td><td>18.20889</td></tr>\n",
       "\t<tr><td>10.75337</td><td>15.69567</td><td>10.70423</td></tr>\n",
       "\t<tr><td>11.66667</td><td>13.97612</td><td>17.35434</td></tr>\n",
       "\t<tr><td>17.55522</td><td>18.54421</td><td>14.13115</td></tr>\n",
       "\t<tr><td>12.11959</td><td>10.85167</td><td>18.79310</td></tr>\n",
       "\t<tr><td>19.48980</td><td>11.90515</td><td>16.59618</td></tr>\n",
       "\t<tr><td>10.11655</td><td>17.05422</td><td>10.11529</td></tr>\n",
       "\t<tr><td>17.30477</td><td>11.23203</td><td>12.91339</td></tr>\n",
       "\t<tr><td>19.85376</td><td>19.68734</td><td>11.81598</td></tr>\n",
       "\t<tr><td>10.33539</td><td>18.78021</td><td>15.57045</td></tr>\n",
       "\t<tr><td>17.61934</td><td>15.21648</td><td>16.72450</td></tr>\n",
       "\t<tr><td>15.34001</td><td>19.77108</td><td>16.69633</td></tr>\n",
       "\t<tr><td>15.31395</td><td>19.44839</td><td>16.35029</td></tr>\n",
       "\t<tr><td>17.03813</td><td>19.31930</td><td>10.68938</td></tr>\n",
       "</tbody>\n",
       "</table>\n"
      ],
      "text/latex": [
       "A matrix: 30 × 3 of type dbl\n",
       "\\begin{tabular}{lll}\n",
       " V1 & V2 & V3\\\\\n",
       "\\hline\n",
       "\t 11.84558 & 15.93763 & 13.95643\\\\\n",
       "\t 19.31929 & 12.41807 & 18.41813\\\\\n",
       "\t 15.12984 & 11.42258 & 11.12381\\\\\n",
       "\t 10.71753 & 18.08079 & 13.45799\\\\\n",
       "\t 12.78296 & 15.79992 & 11.71177\\\\\n",
       "\t 18.60394 & 17.29965 & 13.44883\\\\\n",
       "\t 15.97770 & 11.08401 & 16.64559\\\\\n",
       "\t 19.05631 & 16.61076 & 16.88290\\\\\n",
       "\t 19.75906 & 12.21566 & 19.10830\\\\\n",
       "\t 18.95662 & 15.13592 & 18.34516\\\\\n",
       "\t 13.62194 & 10.87727 & 11.98402\\\\\n",
       "\t 16.62601 & 15.47772 & 17.90082\\\\\n",
       "\t 16.53055 & 15.40731 & 15.28959\\\\\n",
       "\t 13.22715 & 13.53943 & 11.56274\\\\\n",
       "\t 16.61757 & 17.67971 & 19.88796\\\\\n",
       "\t 17.18330 & 13.79820 & 19.05251\\\\\n",
       "\t 18.86469 & 18.18773 & 18.20889\\\\\n",
       "\t 10.75337 & 15.69567 & 10.70423\\\\\n",
       "\t 11.66667 & 13.97612 & 17.35434\\\\\n",
       "\t 17.55522 & 18.54421 & 14.13115\\\\\n",
       "\t 12.11959 & 10.85167 & 18.79310\\\\\n",
       "\t 19.48980 & 11.90515 & 16.59618\\\\\n",
       "\t 10.11655 & 17.05422 & 10.11529\\\\\n",
       "\t 17.30477 & 11.23203 & 12.91339\\\\\n",
       "\t 19.85376 & 19.68734 & 11.81598\\\\\n",
       "\t 10.33539 & 18.78021 & 15.57045\\\\\n",
       "\t 17.61934 & 15.21648 & 16.72450\\\\\n",
       "\t 15.34001 & 19.77108 & 16.69633\\\\\n",
       "\t 15.31395 & 19.44839 & 16.35029\\\\\n",
       "\t 17.03813 & 19.31930 & 10.68938\\\\\n",
       "\\end{tabular}\n"
      ],
      "text/markdown": [
       "\n",
       "A matrix: 30 × 3 of type dbl\n",
       "\n",
       "| V1 | V2 | V3 |\n",
       "|---|---|---|\n",
       "| 11.84558 | 15.93763 | 13.95643 |\n",
       "| 19.31929 | 12.41807 | 18.41813 |\n",
       "| 15.12984 | 11.42258 | 11.12381 |\n",
       "| 10.71753 | 18.08079 | 13.45799 |\n",
       "| 12.78296 | 15.79992 | 11.71177 |\n",
       "| 18.60394 | 17.29965 | 13.44883 |\n",
       "| 15.97770 | 11.08401 | 16.64559 |\n",
       "| 19.05631 | 16.61076 | 16.88290 |\n",
       "| 19.75906 | 12.21566 | 19.10830 |\n",
       "| 18.95662 | 15.13592 | 18.34516 |\n",
       "| 13.62194 | 10.87727 | 11.98402 |\n",
       "| 16.62601 | 15.47772 | 17.90082 |\n",
       "| 16.53055 | 15.40731 | 15.28959 |\n",
       "| 13.22715 | 13.53943 | 11.56274 |\n",
       "| 16.61757 | 17.67971 | 19.88796 |\n",
       "| 17.18330 | 13.79820 | 19.05251 |\n",
       "| 18.86469 | 18.18773 | 18.20889 |\n",
       "| 10.75337 | 15.69567 | 10.70423 |\n",
       "| 11.66667 | 13.97612 | 17.35434 |\n",
       "| 17.55522 | 18.54421 | 14.13115 |\n",
       "| 12.11959 | 10.85167 | 18.79310 |\n",
       "| 19.48980 | 11.90515 | 16.59618 |\n",
       "| 10.11655 | 17.05422 | 10.11529 |\n",
       "| 17.30477 | 11.23203 | 12.91339 |\n",
       "| 19.85376 | 19.68734 | 11.81598 |\n",
       "| 10.33539 | 18.78021 | 15.57045 |\n",
       "| 17.61934 | 15.21648 | 16.72450 |\n",
       "| 15.34001 | 19.77108 | 16.69633 |\n",
       "| 15.31395 | 19.44839 | 16.35029 |\n",
       "| 17.03813 | 19.31930 | 10.68938 |\n",
       "\n"
      ],
      "text/plain": [
       "      V1       V2       V3      \n",
       " [1,] 11.84558 15.93763 13.95643\n",
       " [2,] 19.31929 12.41807 18.41813\n",
       " [3,] 15.12984 11.42258 11.12381\n",
       " [4,] 10.71753 18.08079 13.45799\n",
       " [5,] 12.78296 15.79992 11.71177\n",
       " [6,] 18.60394 17.29965 13.44883\n",
       " [7,] 15.97770 11.08401 16.64559\n",
       " [8,] 19.05631 16.61076 16.88290\n",
       " [9,] 19.75906 12.21566 19.10830\n",
       "[10,] 18.95662 15.13592 18.34516\n",
       "[11,] 13.62194 10.87727 11.98402\n",
       "[12,] 16.62601 15.47772 17.90082\n",
       "[13,] 16.53055 15.40731 15.28959\n",
       "[14,] 13.22715 13.53943 11.56274\n",
       "[15,] 16.61757 17.67971 19.88796\n",
       "[16,] 17.18330 13.79820 19.05251\n",
       "[17,] 18.86469 18.18773 18.20889\n",
       "[18,] 10.75337 15.69567 10.70423\n",
       "[19,] 11.66667 13.97612 17.35434\n",
       "[20,] 17.55522 18.54421 14.13115\n",
       "[21,] 12.11959 10.85167 18.79310\n",
       "[22,] 19.48980 11.90515 16.59618\n",
       "[23,] 10.11655 17.05422 10.11529\n",
       "[24,] 17.30477 11.23203 12.91339\n",
       "[25,] 19.85376 19.68734 11.81598\n",
       "[26,] 10.33539 18.78021 15.57045\n",
       "[27,] 17.61934 15.21648 16.72450\n",
       "[28,] 15.34001 19.77108 16.69633\n",
       "[29,] 15.31395 19.44839 16.35029\n",
       "[30,] 17.03813 19.31930 10.68938"
      ]
     },
     "metadata": {},
     "output_type": "display_data"
    }
   ],
   "source": [
    "population"
   ]
  },
  {
   "cell_type": "code",
   "execution_count": 70,
   "metadata": {},
   "outputs": [],
   "source": [
    "sum_of_squares<-function(point){\n",
    "  sum <- 0.0\n",
    "  for(p in point)\n",
    "  {\n",
    "    sum <- sum + p^2\n",
    "  }\n",
    "  return(sum)\n",
    "}"
   ]
  },
  {
   "cell_type": "code",
   "execution_count": 71,
   "metadata": {},
   "outputs": [],
   "source": [
    "# static parameters init\n",
    "counteval <- 200\n",
    "population_size <- dim(population)[1]\n",
    "point_dim <- dim(population)[2]\n",
    "m <- e(runif(point_dim))\n",
    "sigma <- 0.3 \n",
    "lambda <- 4 + floor(3*log(point_dim))\n",
    "mu <- lambda/2\n",
    "weights <- log(mu+1/2)-log(1:mu)\n",
    "mu <- floor(mu)\n",
    "weights <- weights/sum(weights)\n",
    "mueff <- sum(weights)^2/sum(weights^2)\n",
    "cc <-  (4+mueff/point_dim) / (point_dim+4 + 2*mueff/point_dim)\n",
    "cs <-  (mueff+2) / (point_dim+mueff+5)\n",
    "c1 <- 2 / ((point_dim+1.3)^2+mueff)\n",
    "cmu <- min(1-c1, 2 * (mueff-2+1/mueff) / ((point_dim+2)^2+mueff))\n",
    "damps <- 1 + 2*max(0, sqrt((mueff-1)/(point_dim+1))-1) + cs"
   ]
  },
  {
   "cell_type": "code",
   "execution_count": 72,
   "metadata": {},
   "outputs": [],
   "source": [
    "# dynamic parameters init\n",
    "pc <- numeric(point_dim)\n",
    "ps <- numeric(point_dim)\n",
    "B <- eye(point_dim)                       \n",
    "D <- ones(point_dim , 1 ) \n",
    "# C <- B %*% diag(D^2) %*% t(B)           \n",
    "# invsqrtC <- B %*% diag(D^(-1)) %*% t(B)   \n",
    "C <- eye(point_dim)\n",
    "invsqrtC <- eye(point_dim)\n",
    "\n",
    "eigeneval <- 0                    \n",
    "chiN <- point_dim^0.5*(1-1/(4*point_dim)+1/(21*point_dim^2))"
   ]
  },
  {
   "cell_type": "code",
   "execution_count": 73,
   "metadata": {},
   "outputs": [],
   "source": [
    "generated_pop = m + sigma * MASS::mvrnorm(population_size, mu = numeric(point_dim), Sigma = C)"
   ]
  },
  {
   "cell_type": "code",
   "execution_count": 74,
   "metadata": {},
   "outputs": [
    {
     "data": {
      "text/html": [
       "<style>\n",
       ".list-inline {list-style: none; margin:0; padding: 0}\n",
       ".list-inline>li {display: inline-block}\n",
       ".list-inline>li:not(:last-child)::after {content: \"\\00b7\"; padding: 0 .5ex}\n",
       "</style>\n",
       "<ol class=list-inline><li>0.887016066906892</li><li>0.684995766255578</li><li>2.68814440827442</li><li>0.0470842696728428</li><li>0.223536552214285</li><li>2.07520719808389</li><li>0.775069650127384</li><li>0.58063105504071</li><li>2.03684263502378</li><li>0.497771840829424</li><li>0.404524360337325</li><li>2.41365653723835</li><li>1.12747472531738</li><li>1.03987187093928</li><li>5.2375757478402</li><li>0.720691581141437</li><li>0.394933412130525</li><li>2.05302380529031</li><li>0.434617653526735</li><li>0.164888681443643</li><li>1.70643309055875</li><li>0.118493492232215</li><li>0.287762605146737</li><li>4.62667546597733</li><li>0.250694520072544</li><li>0.270207825602525</li><li>1.8213068394577</li><li>0.10254091022599</li><li>0.337413473157154</li><li>3.70405275732967</li></ol>\n"
      ],
      "text/latex": [
       "\\begin{enumerate*}\n",
       "\\item 0.887016066906892\n",
       "\\item 0.684995766255578\n",
       "\\item 2.68814440827442\n",
       "\\item 0.0470842696728428\n",
       "\\item 0.223536552214285\n",
       "\\item 2.07520719808389\n",
       "\\item 0.775069650127384\n",
       "\\item 0.58063105504071\n",
       "\\item 2.03684263502378\n",
       "\\item 0.497771840829424\n",
       "\\item 0.404524360337325\n",
       "\\item 2.41365653723835\n",
       "\\item 1.12747472531738\n",
       "\\item 1.03987187093928\n",
       "\\item 5.2375757478402\n",
       "\\item 0.720691581141437\n",
       "\\item 0.394933412130525\n",
       "\\item 2.05302380529031\n",
       "\\item 0.434617653526735\n",
       "\\item 0.164888681443643\n",
       "\\item 1.70643309055875\n",
       "\\item 0.118493492232215\n",
       "\\item 0.287762605146737\n",
       "\\item 4.62667546597733\n",
       "\\item 0.250694520072544\n",
       "\\item 0.270207825602525\n",
       "\\item 1.8213068394577\n",
       "\\item 0.10254091022599\n",
       "\\item 0.337413473157154\n",
       "\\item 3.70405275732967\n",
       "\\end{enumerate*}\n"
      ],
      "text/markdown": [
       "1. 0.887016066906892\n",
       "2. 0.684995766255578\n",
       "3. 2.68814440827442\n",
       "4. 0.0470842696728428\n",
       "5. 0.223536552214285\n",
       "6. 2.07520719808389\n",
       "7. 0.775069650127384\n",
       "8. 0.58063105504071\n",
       "9. 2.03684263502378\n",
       "10. 0.497771840829424\n",
       "11. 0.404524360337325\n",
       "12. 2.41365653723835\n",
       "13. 1.12747472531738\n",
       "14. 1.03987187093928\n",
       "15. 5.2375757478402\n",
       "16. 0.720691581141437\n",
       "17. 0.394933412130525\n",
       "18. 2.05302380529031\n",
       "19. 0.434617653526735\n",
       "20. 0.164888681443643\n",
       "21. 1.70643309055875\n",
       "22. 0.118493492232215\n",
       "23. 0.287762605146737\n",
       "24. 4.62667546597733\n",
       "25. 0.250694520072544\n",
       "26. 0.270207825602525\n",
       "27. 1.8213068394577\n",
       "28. 0.10254091022599\n",
       "29. 0.337413473157154\n",
       "30. 3.70405275732967\n",
       "\n",
       "\n"
      ],
      "text/plain": [
       " [1] 0.88701607 0.68499577 2.68814441 0.04708427 0.22353655 2.07520720\n",
       " [7] 0.77506965 0.58063106 2.03684264 0.49777184 0.40452436 2.41365654\n",
       "[13] 1.12747473 1.03987187 5.23757575 0.72069158 0.39493341 2.05302381\n",
       "[19] 0.43461765 0.16488868 1.70643309 0.11849349 0.28776261 4.62667547\n",
       "[25] 0.25069452 0.27020783 1.82130684 0.10254091 0.33741347 3.70405276"
      ]
     },
     "metadata": {},
     "output_type": "display_data"
    }
   ],
   "source": [
    "fitnesses = c()\n",
    "for (i in 1:dim(generated_pop)[1]){\n",
    "    point <- generated_pop[i,]\n",
    "    fitness <- sum_of_squares(point)\n",
    "    fitnesses <- append(fitnesses, fitness)\n",
    "}\n",
    "fitnesses"
   ]
  },
  {
   "cell_type": "code",
   "execution_count": 75,
   "metadata": {},
   "outputs": [],
   "source": [
    "generated_pop_sorted <- generated_pop[order(fitnesses, decreasing=FALSE),]"
   ]
  },
  {
   "cell_type": "code",
   "execution_count": 76,
   "metadata": {},
   "outputs": [
    {
     "data": {
      "text/html": [
       "<table>\n",
       "<caption>A matrix: 3 × 1 of type dbl</caption>\n",
       "<tbody>\n",
       "\t<tr><td>0.20632702</td></tr>\n",
       "\t<tr><td>0.05491283</td></tr>\n",
       "\t<tr><td>0.08428581</td></tr>\n",
       "</tbody>\n",
       "</table>\n"
      ],
      "text/latex": [
       "A matrix: 3 × 1 of type dbl\n",
       "\\begin{tabular}{l}\n",
       "\t 0.20632702\\\\\n",
       "\t 0.05491283\\\\\n",
       "\t 0.08428581\\\\\n",
       "\\end{tabular}\n"
      ],
      "text/markdown": [
       "\n",
       "A matrix: 3 × 1 of type dbl\n",
       "\n",
       "| 0.20632702 |\n",
       "| 0.05491283 |\n",
       "| 0.08428581 |\n",
       "\n"
      ],
      "text/plain": [
       "     [,1]      \n",
       "[1,] 0.20632702\n",
       "[2,] 0.05491283\n",
       "[3,] 0.08428581"
      ]
     },
     "metadata": {},
     "output_type": "display_data"
    }
   ],
   "source": [
    "new_m <- t(generated_pop_sorted)[,1:mu] %*% weights\n",
    "new_m"
   ]
  },
  {
   "cell_type": "code",
   "execution_count": 77,
   "metadata": {},
   "outputs": [],
   "source": [
    "ps <- (1-cs)*ps + sqrt(cs*(2-cs)*mueff) * invsqrtC %*% (new_m-m) / sigma;"
   ]
  },
  {
   "cell_type": "code",
   "execution_count": 78,
   "metadata": {},
   "outputs": [
    {
     "data": {
      "text/html": [
       "<table>\n",
       "<caption>A matrix: 3 × 1 of type dbl</caption>\n",
       "<tbody>\n",
       "\t<tr><td>-0.2493261</td></tr>\n",
       "\t<tr><td>-0.8672017</td></tr>\n",
       "\t<tr><td>-3.1720083</td></tr>\n",
       "</tbody>\n",
       "</table>\n"
      ],
      "text/latex": [
       "A matrix: 3 × 1 of type dbl\n",
       "\\begin{tabular}{l}\n",
       "\t -0.2493261\\\\\n",
       "\t -0.8672017\\\\\n",
       "\t -3.1720083\\\\\n",
       "\\end{tabular}\n"
      ],
      "text/markdown": [
       "\n",
       "A matrix: 3 × 1 of type dbl\n",
       "\n",
       "| -0.2493261 |\n",
       "| -0.8672017 |\n",
       "| -3.1720083 |\n",
       "\n"
      ],
      "text/plain": [
       "     [,1]      \n",
       "[1,] -0.2493261\n",
       "[2,] -0.8672017\n",
       "[3,] -3.1720083"
      ]
     },
     "metadata": {},
     "output_type": "display_data"
    }
   ],
   "source": [
    "ps"
   ]
  },
  {
   "cell_type": "code",
   "execution_count": 79,
   "metadata": {},
   "outputs": [],
   "source": [
    "hsig = norm(ps)/sqrt(1-(1-cs)^(2*counteval/lambda))/chiN < 1.4 + 2/(point_dim+1)"
   ]
  },
  {
   "cell_type": "code",
   "execution_count": 80,
   "metadata": {},
   "outputs": [],
   "source": [
    "pc <- (1-cc)*pc + hsig * sqrt(cc*(2-cc)*mueff) * (new_m-m) / sigma"
   ]
  },
  {
   "cell_type": "code",
   "execution_count": 81,
   "metadata": {},
   "outputs": [
    {
     "data": {
      "text/html": [
       "<table>\n",
       "<caption>A matrix: 3 × 1 of type dbl</caption>\n",
       "<tbody>\n",
       "\t<tr><td>0</td></tr>\n",
       "\t<tr><td>0</td></tr>\n",
       "\t<tr><td>0</td></tr>\n",
       "</tbody>\n",
       "</table>\n"
      ],
      "text/latex": [
       "A matrix: 3 × 1 of type dbl\n",
       "\\begin{tabular}{l}\n",
       "\t 0\\\\\n",
       "\t 0\\\\\n",
       "\t 0\\\\\n",
       "\\end{tabular}\n"
      ],
      "text/markdown": [
       "\n",
       "A matrix: 3 × 1 of type dbl\n",
       "\n",
       "| 0 |\n",
       "| 0 |\n",
       "| 0 |\n",
       "\n"
      ],
      "text/plain": [
       "     [,1]\n",
       "[1,] 0   \n",
       "[2,] 0   \n",
       "[3,] 0   "
      ]
     },
     "metadata": {},
     "output_type": "display_data"
    }
   ],
   "source": [
    "pc"
   ]
  },
  {
   "cell_type": "code",
   "execution_count": 111,
   "metadata": {},
   "outputs": [],
   "source": [
    "artmp <- (1/sigma) * (t(generated_pop_sorted)[,1:mu] - matrix(rep(m,mu), point_dim, mu))"
   ]
  },
  {
   "cell_type": "code",
   "execution_count": 113,
   "metadata": {},
   "outputs": [
    {
     "data": {
      "text/html": [
       "<table>\n",
       "<caption>A matrix: 3 × 3 of type dbl</caption>\n",
       "<tbody>\n",
       "\t<tr><td>-1.0371227</td><td>-0.432835210</td><td>-0.5784080</td></tr>\n",
       "\t<tr><td>-1.6782201</td><td>-1.931786701</td><td>-2.7031373</td></tr>\n",
       "\t<tr><td> 0.3900424</td><td> 0.003307942</td><td> 0.2383302</td></tr>\n",
       "</tbody>\n",
       "</table>\n"
      ],
      "text/latex": [
       "A matrix: 3 × 3 of type dbl\n",
       "\\begin{tabular}{lll}\n",
       "\t -1.0371227 & -0.432835210 & -0.5784080\\\\\n",
       "\t -1.6782201 & -1.931786701 & -2.7031373\\\\\n",
       "\t  0.3900424 &  0.003307942 &  0.2383302\\\\\n",
       "\\end{tabular}\n"
      ],
      "text/markdown": [
       "\n",
       "A matrix: 3 × 3 of type dbl\n",
       "\n",
       "| -1.0371227 | -0.432835210 | -0.5784080 |\n",
       "| -1.6782201 | -1.931786701 | -2.7031373 |\n",
       "|  0.3900424 |  0.003307942 |  0.2383302 |\n",
       "\n"
      ],
      "text/plain": [
       "     [,1]       [,2]         [,3]      \n",
       "[1,] -1.0371227 -0.432835210 -0.5784080\n",
       "[2,] -1.6782201 -1.931786701 -2.7031373\n",
       "[3,]  0.3900424  0.003307942  0.2383302"
      ]
     },
     "metadata": {},
     "output_type": "display_data"
    }
   ],
   "source": [
    "artmp"
   ]
  },
  {
   "cell_type": "code",
   "execution_count": null,
   "metadata": {},
   "outputs": [],
   "source": [
    "C <- (1-c1-cmu) * C + c1 * (pc*pc' + (1-hsig) * cc*(2-cc) * C) + cmu * artmp * diag(weights) * artmp'"
   ]
  }
 ],
 "metadata": {
  "kernelspec": {
   "display_name": "R",
   "language": "R",
   "name": "ir"
  },
  "language_info": {
   "codemirror_mode": "r",
   "file_extension": ".r",
   "mimetype": "text/x-r-source",
   "name": "R",
   "pygments_lexer": "r",
   "version": "3.6.3"
  }
 },
 "nbformat": 4,
 "nbformat_minor": 4
}
