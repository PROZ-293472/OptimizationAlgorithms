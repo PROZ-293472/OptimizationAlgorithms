{
 "cells": [
  {
   "cell_type": "code",
   "execution_count": 32,
   "metadata": {},
   "outputs": [
    {
     "data": {
      "text/html": [
       "<ol>\n",
       "\t<li><table>\n",
       "<caption>A data.frame: 4 × 3</caption>\n",
       "<thead>\n",
       "\t<tr><th scope=col>dupa</th><th scope=col>kupa</th><th scope=col>siku</th></tr>\n",
       "\t<tr><th scope=col>&lt;dbl&gt;</th><th scope=col>&lt;dbl&gt;</th><th scope=col>&lt;dbl&gt;</th></tr>\n",
       "</thead>\n",
       "<tbody>\n",
       "\t<tr><td>1</td><td> 2</td><td>1</td></tr>\n",
       "\t<tr><td>2</td><td>10</td><td>1</td></tr>\n",
       "\t<tr><td>3</td><td> 5</td><td>1</td></tr>\n",
       "\t<tr><td>4</td><td> 5</td><td>1</td></tr>\n",
       "</tbody>\n",
       "</table>\n",
       "</li>\n",
       "\t<li><table>\n",
       "<caption>A data.frame: 4 × 3</caption>\n",
       "<thead>\n",
       "\t<tr><th scope=col>dupa</th><th scope=col>kupa</th><th scope=col>siku</th></tr>\n",
       "\t<tr><th scope=col>&lt;dbl&gt;</th><th scope=col>&lt;dbl&gt;</th><th scope=col>&lt;dbl&gt;</th></tr>\n",
       "</thead>\n",
       "<tbody>\n",
       "\t<tr><td>1</td><td>8</td><td>1</td></tr>\n",
       "\t<tr><td>1</td><td>1</td><td>1</td></tr>\n",
       "\t<tr><td>1</td><td>9</td><td>1</td></tr>\n",
       "\t<tr><td>1</td><td>3</td><td>1</td></tr>\n",
       "</tbody>\n",
       "</table>\n",
       "</li>\n",
       "</ol>\n"
      ],
      "text/latex": [
       "\\begin{enumerate}\n",
       "\\item A data.frame: 4 × 3\n",
       "\\begin{tabular}{lll}\n",
       " dupa & kupa & siku\\\\\n",
       " <dbl> & <dbl> & <dbl>\\\\\n",
       "\\hline\n",
       "\t 1 &  2 & 1\\\\\n",
       "\t 2 & 10 & 1\\\\\n",
       "\t 3 &  5 & 1\\\\\n",
       "\t 4 &  5 & 1\\\\\n",
       "\\end{tabular}\n",
       "\n",
       "\\item A data.frame: 4 × 3\n",
       "\\begin{tabular}{lll}\n",
       " dupa & kupa & siku\\\\\n",
       " <dbl> & <dbl> & <dbl>\\\\\n",
       "\\hline\n",
       "\t 1 & 8 & 1\\\\\n",
       "\t 1 & 1 & 1\\\\\n",
       "\t 1 & 9 & 1\\\\\n",
       "\t 1 & 3 & 1\\\\\n",
       "\\end{tabular}\n",
       "\n",
       "\\end{enumerate}\n"
      ],
      "text/markdown": [
       "1. \n",
       "A data.frame: 4 × 3\n",
       "\n",
       "| dupa &lt;dbl&gt; | kupa &lt;dbl&gt; | siku &lt;dbl&gt; |\n",
       "|---|---|---|\n",
       "| 1 |  2 | 1 |\n",
       "| 2 | 10 | 1 |\n",
       "| 3 |  5 | 1 |\n",
       "| 4 |  5 | 1 |\n",
       "\n",
       "\n",
       "2. \n",
       "A data.frame: 4 × 3\n",
       "\n",
       "| dupa &lt;dbl&gt; | kupa &lt;dbl&gt; | siku &lt;dbl&gt; |\n",
       "|---|---|---|\n",
       "| 1 | 8 | 1 |\n",
       "| 1 | 1 | 1 |\n",
       "| 1 | 9 | 1 |\n",
       "| 1 | 3 | 1 |\n",
       "\n",
       "\n",
       "\n",
       "\n"
      ],
      "text/plain": [
       "[[1]]\n",
       "  dupa kupa siku\n",
       "1    1    2    1\n",
       "2    2   10    1\n",
       "3    3    5    1\n",
       "4    4    5    1\n",
       "\n",
       "[[2]]\n",
       "  dupa kupa siku\n",
       "1    1    8    1\n",
       "2    1    1    1\n",
       "3    1    9    1\n",
       "4    1    3    1\n"
      ]
     },
     "metadata": {},
     "output_type": "display_data"
    }
   ],
   "source": [
    "library('rlist')\n",
    "d = data.frame(dupa=c(1,2,3,4), kupa=c(2,10,5,5), siku=c(1,1,1,1))\n",
    "d1 = data.frame(dupa=c(1,1,1,1), kupa=c(8,1,9,3), siku=c(1,1,1,1))\n",
    "l = list(d)\n",
    "list.append(l,d1)"
   ]
  },
  {
   "cell_type": "code",
   "execution_count": 35,
   "metadata": {},
   "outputs": [
    {
     "data": {
      "image/png": "[encoded data removed]",
      "text/plain": [
       "plot without title"
      ]
     },
     "metadata": {
      "image/png": {
       "height": 420,
       "width": 420
      }
     },
     "output_type": "display_data"
    }
   ],
   "source": [
    "for(e in l){\n",
    "    plot(e[,names(e)!='siku'])\n",
    "    }"
   ]
  },
  {
   "cell_type": "code",
   "execution_count": 34,
   "metadata": {},
   "outputs": [
    {
     "data": {
      "image/png": "[encoded data removed]",
      "text/plain": [
       "plot without title"
      ]
     },
     "metadata": {
      "image/png": {
       "height": 420,
       "width": 420
      }
     },
     "output_type": "display_data"
    }
   ],
   "source": [
    "plot.new()\n",
    "\n",
    "plot.window(xlim=c(0,10), ylim=c(0,100))\n",
    "\n",
    "axis(1)\n",
    "\n",
    "axis(2)\n",
    "\n",
    "x = c(0.0, 0.5,1.0, 1.5, 2.0)\n",
    "\n",
    "y =  c(0.0, 2.0, 6.0, 8.2, 10. )\n",
    "\n",
    "points(x,y, lwd=2, col=\"blue\")\n",
    "\n",
    "title(xlab = \"X-axis value\")\n",
    "\n",
    "title(ylab = \"Y-axis value\")\n",
    "\n",
    "\n",
    "plot.window(xlim=c(0,2), ylim=c(0,10))\n",
    "box()\n",
    "\n",
    "# x2 = c(1,2,3,4,5,6)\n",
    "# y2 = c(6, 10, 18, 26, 38, 45)\n",
    "\n",
    "# points(x2,y2, lty=2, col=\"red\", lwd=2)\n"
   ]
  },
  {
   "cell_type": "code",
   "execution_count": null,
   "metadata": {},
   "outputs": [],
   "source": [
    "area <- c(-100,100)\n",
    "area[1]"
   ]
  },
  {
   "cell_type": "code",
   "execution_count": null,
   "metadata": {},
   "outputs": [],
   "source": [
    "setClass(\"Result\", slots=list(name=\"character\", age=\"numeric\", GPA=\"numeric\"))"
   ]
  },
  {
   "cell_type": "code",
   "execution_count": null,
   "metadata": {},
   "outputs": [],
   "source": [
    "new('Result',name='a',age=1,GPA=1)"
   ]
  },
  {
   "cell_type": "code",
   "execution_count": null,
   "metadata": {},
   "outputs": [],
   "source": [
    "source(\"Classes.R\")\n",
    "\n",
    "DEFAULT_CR <- 0.5\n",
    "DEFAULT_F <- 0.8\n",
    "\n",
    "is_empty <- function(x) return(length(x) ==0 )\n",
    "\n",
    "DifferentialEvolution <- setRefClass(\n",
    "    \"DifferentialEvolution\",\n",
    "    contains = \"Algorithm\",\n",
    "    fields = list(\n",
    "        cr = \"numeric\",\n",
    "        f = \"numeric\",\n",
    "        H = \"data.frame\" \n",
    "    ),\n",
    "    methods = list(\n",
    "        init_default_parameters = function(){\n",
    "            if(is_empty(f)){\n",
    "                f <<- DEFAULT_F\n",
    "            }\n",
    "            if(is_empty(cr)){\n",
    "                cr <<- DEFAULT_CR\n",
    "            }\n",
    "        },\n",
    "        crossover = function(x,y){\n",
    "            z <- c()\n",
    "            for (i in 1:length(x)){\n",
    "                a <- runif(1, 0, 1)\n",
    "                if (a < cr) \n",
    "                z <- append(z, y[i])\n",
    "                else \n",
    "                z <- append(z, x[i])\n",
    "            }\n",
    "            return(z)\n",
    "        },\n",
    "\n",
    "        tournanemt = function(x,y){\n",
    "#             print(x)\n",
    "#             print(y)\n",
    "            cond <- x['fitness'] > y['fitness']\n",
    "            if(cond) \n",
    "                return(y)\n",
    "            else\n",
    "                return(x)\n",
    "        },\n",
    "\n",
    "        run = function() {\n",
    "            init_default_parameters()\n",
    "            gen_random_population()\n",
    "            H <<- population\n",
    "            mi <- dim(population)[1]\n",
    "            iterations <<- 0\n",
    "            while(iterations < 200){\n",
    "                next_P <- population\n",
    "                for (i in 1:mi){\n",
    "                    indexes <- sample(1:mi, 3, replace=F)\n",
    "                    r <- as.matrix(population[indexes[1],-length(population)])\n",
    "                    d_e <- as.matrix(population[indexes[2:3],-length(population)])\n",
    "                    \n",
    "                    M <- r + f*(d_e[2,] - d_e[1,])\n",
    "                    cross <- crossover(r, M)\n",
    "#                     print(sprintf(\"d_e: %s\", d_e))\n",
    "#                     print(sprintf(\"M: %s\", M))\n",
    "#                     print(sprintf(\"r: %s\", r))\n",
    "#                     print(sprintf(\"cross: %s\", cross))\n",
    "#                     print('------------')\n",
    "#                     print(objective_fun$evaluate(cross))\n",
    "                    O <- data.frame(t(cross), fitness=objective_fun$evaluate(cross))\n",
    "                    append(H,O)\n",
    "                \n",
    "                    next_P[i,] <- tournanemt(population[i,], O)\n",
    "                }\n",
    "                population <<- next_P\n",
    "                print(sel_best())\n",
    "                print(objective_fun$evaluate(sel_best()))\n",
    "                iterations <<- iterations+1\n",
    "            }\n",
    "        }\n",
    "    )\n",
    ")"
   ]
  },
  {
   "cell_type": "code",
   "execution_count": null,
   "metadata": {},
   "outputs": [],
   "source": [
    "sum_of_squares<-function(point){\n",
    "  sum <- 0.0\n",
    "  for(p in point)\n",
    "  {\n",
    "    sum <- sum + p^2\n",
    "  }\n",
    "  return(sum)\n",
    "}\n",
    "\n",
    "of <- ObjectiveFunction$new(fun=sum_of_squares, dim=3)\n",
    "alg <- DifferentialEvolution$new(objective_fun=of, point_dim=of$dim)"
   ]
  },
  {
   "cell_type": "code",
   "execution_count": null,
   "metadata": {},
   "outputs": [],
   "source": [
    "alg$run()"
   ]
  },
  {
   "cell_type": "code",
   "execution_count": null,
   "metadata": {},
   "outputs": [],
   "source": [
    "class(as.matrix(alg$population[,-length(alg$population)]))"
   ]
  },
  {
   "cell_type": "code",
   "execution_count": null,
   "metadata": {},
   "outputs": [],
   "source": [
    "library(pracma)"
   ]
  },
  {
   "cell_type": "code",
   "execution_count": null,
   "metadata": {},
   "outputs": [],
   "source": [
    "P <- read.csv(\".\\\\temp.csv\", header = FALSE)\n",
    "population <- as.matrix(P)"
   ]
  },
  {
   "cell_type": "code",
   "execution_count": null,
   "metadata": {},
   "outputs": [],
   "source": [
    "population"
   ]
  },
  {
   "cell_type": "code",
   "execution_count": null,
   "metadata": {},
   "outputs": [],
   "source": [
    "sum_of_squares<-function(point){\n",
    "  sum <- 0.0\n",
    "  for(p in point)\n",
    "  {\n",
    "    sum <- sum + p^2\n",
    "  }\n",
    "  return(sum)\n",
    "}"
   ]
  },
  {
   "cell_type": "code",
   "execution_count": null,
   "metadata": {},
   "outputs": [],
   "source": [
    "# static parameters init\n",
    "counteval <- 200\n",
    "population_size <- dim(population)[1]\n",
    "point_dim <- dim(population)[2]\n",
    "m <- runif(point_dim)\n",
    "sigma <- 0.3 \n",
    "lambda <- 4 + floor(3*log(point_dim))\n",
    "mu <- lambda/2\n",
    "weights <- log(mu+1/2)-log(1:mu)\n",
    "mu <- floor(mu)\n",
    "weights <- weights/sum(weights)\n",
    "mueff <- sum(weights)^2/sum(weights^2)\n",
    "cc <-  (4+mueff/point_dim) / (point_dim+4 + 2*mueff/point_dim)\n",
    "cs <-  (mueff+2) / (point_dim+mueff+5)\n",
    "c1 <- 2 / ((point_dim+1.3)^2+mueff)\n",
    "cmu <- min(1-c1, 2 * (mueff-2+1/mueff) / ((point_dim+2)^2+mueff))\n",
    "damps <- 1 + 2*max(0, sqrt((mueff-1)/(point_dim+1))-1) + cs"
   ]
  },
  {
   "cell_type": "code",
   "execution_count": null,
   "metadata": {},
   "outputs": [],
   "source": [
    "# dynamic parameters init\n",
    "pc <- numeric(point_dim)\n",
    "ps <- numeric(point_dim)\n",
    "B <- eye(point_dim)                       \n",
    "D <- ones(point_dim , 1 ) \n",
    "# C <- B %*% diag(D^2) %*% t(B)           \n",
    "# invsqrtC <- B %*% diag(D^(-1)) %*% t(B)   \n",
    "C <- eye(point_dim)\n",
    "invsqrtC <- eye(point_dim)\n",
    "\n",
    "eigeneval <- 0                    \n",
    "chiN <- point_dim^0.5*(1-1/(4*point_dim)+1/(21*point_dim^2))"
   ]
  },
  {
   "cell_type": "code",
   "execution_count": null,
   "metadata": {},
   "outputs": [],
   "source": [
    "generated_pop = m + sigma * MASS::mvrnorm(population_size, mu = numeric(point_dim), Sigma = C)"
   ]
  },
  {
   "cell_type": "code",
   "execution_count": null,
   "metadata": {},
   "outputs": [],
   "source": [
    "fitnesses = c()\n",
    "for (i in 1:dim(generated_pop)[1]){\n",
    "    point <- generated_pop[i,]\n",
    "    fitness <- sum_of_squares(point)\n",
    "    fitnesses <- append(fitnesses, fitness)\n",
    "}\n",
    "fitnesses"
   ]
  },
  {
   "cell_type": "code",
   "execution_count": null,
   "metadata": {},
   "outputs": [],
   "source": [
    "generated_pop_sorted <- generated_pop[order(fitnesses, decreasing=FALSE),]"
   ]
  },
  {
   "cell_type": "code",
   "execution_count": null,
   "metadata": {},
   "outputs": [],
   "source": [
    "t(generated_pop_sorted)[,1:mu]"
   ]
  },
  {
   "cell_type": "code",
   "execution_count": null,
   "metadata": {},
   "outputs": [],
   "source": [
    "new_m <- t(generated_pop_sorted)[,1:mu] %*% weights\n",
    "new_m"
   ]
  },
  {
   "cell_type": "code",
   "execution_count": null,
   "metadata": {},
   "outputs": [],
   "source": [
    "ps <- (1-cs)*ps + sqrt(cs*(2-cs)*mueff) * invsqrtC %*% (new_m-m) / sigma;"
   ]
  },
  {
   "cell_type": "code",
   "execution_count": null,
   "metadata": {},
   "outputs": [],
   "source": [
    "ps"
   ]
  },
  {
   "cell_type": "code",
   "execution_count": null,
   "metadata": {},
   "outputs": [],
   "source": [
    "hsig = norm(ps)/sqrt(1-(1-cs)^(2*counteval/lambda))/chiN < 1.4 + 2/(point_dim+1)"
   ]
  },
  {
   "cell_type": "code",
   "execution_count": null,
   "metadata": {},
   "outputs": [],
   "source": [
    "pc <- (1-cc)*pc + hsig * sqrt(cc*(2-cc)*mueff) * (new_m-m) / sigma"
   ]
  },
  {
   "cell_type": "code",
   "execution_count": null,
   "metadata": {},
   "outputs": [],
   "source": [
    "pc"
   ]
  },
  {
   "cell_type": "code",
   "execution_count": null,
   "metadata": {},
   "outputs": [],
   "source": [
    "artmp <- (1/sigma) * (t(generated_pop_sorted)[,1:mu] - matrix(rep(m,mu), point_dim, mu))"
   ]
  },
  {
   "cell_type": "code",
   "execution_count": null,
   "metadata": {},
   "outputs": [],
   "source": [
    "t(generated_pop_sorted)[,1:mu]\n",
    "t(generated_pop_sorted)\n",
    "matrix(rep(m,mu), point_dim, mu)\n",
    "m"
   ]
  },
  {
   "cell_type": "code",
   "execution_count": null,
   "metadata": {},
   "outputs": [],
   "source": [
    "artmp"
   ]
  },
  {
   "cell_type": "code",
   "execution_count": null,
   "metadata": {},
   "outputs": [],
   "source": [
    "C <- (1-c1-cmu) * C + c1*(pc%*%t(pc) + (1-hsig)*cc*(2-cc)*C) + cmu * artmp %*% diag(weights) %*% t(artmp)"
   ]
  },
  {
   "cell_type": "code",
   "execution_count": null,
   "metadata": {},
   "outputs": [],
   "source": [
    "C"
   ]
  },
  {
   "cell_type": "code",
   "execution_count": null,
   "metadata": {},
   "outputs": [],
   "source": [
    "sigma <- sigma * exp((cs/damps)*(norm(ps)/chiN - 1))\n",
    "sigma"
   ]
  },
  {
   "cell_type": "markdown",
   "metadata": {},
   "source": [
    "# ----------------"
   ]
  },
  {
   "cell_type": "code",
   "execution_count": null,
   "metadata": {},
   "outputs": [],
   "source": [
    "library(pracma)\n",
    "\n",
    "P <- read.csv(\"C:\\\\Users\\\\Tata\\\\Desktop\\\\OptimizationAlgorithms\\\\R_shallow\\\\data.csv\", header = FALSE)\n",
    "population <- as.matrix(P)\n",
    "\n",
    "sum_of_squares<-function(point){\n",
    "  sum <- 0.0\n",
    "  for(p in point)\n",
    "  {\n",
    "    sum <- sum + p^2\n",
    "  }\n",
    "  return(sum)\n",
    "}\n",
    "\n",
    "# static parameters init\n",
    "counteval <- 200\n",
    "population_size <- dim(population)[1]\n",
    "point_dim <- dim(population)[2]\n",
    "m <- runif(point_dim)\n",
    "sigma <- 0.3 \n",
    "lambda <- 4 + floor(3*log(point_dim))\n",
    "mu <- lambda/2\n",
    "weights <- log(mu+1/2)-log(1:mu)\n",
    "mu <- floor(mu)\n",
    "weights <- weights/sum(weights)\n",
    "mueff <- sum(weights)^2/sum(weights^2)\n",
    "cc <-  (4+mueff/point_dim) / (point_dim+4 + 2*mueff/point_dim)\n",
    "cs <-  (mueff+2) / (point_dim+mueff+5)\n",
    "c1 <- 2 / ((point_dim+1.3)^2+mueff)\n",
    "cmu <- min(1-c1, 2 * (mueff-2+1/mueff) / ((point_dim+2)^2+mueff))\n",
    "damps <- 1 + 2*max(0, sqrt((mueff-1)/(point_dim+1))-1) + cs\n",
    "\n",
    "# dynamic parameters init\n",
    "pc <- numeric(point_dim)\n",
    "ps <- numeric(point_dim)\n",
    "B <- eye(point_dim)                       \n",
    "D <- ones(point_dim , 1 ) \n",
    "# C <- B %*% diag(D^2) %*% t(B)           \n",
    "# invsqrtC <- B %*% diag(D^(-1)) %*% t(B)   \n",
    "C <- eye(point_dim)\n",
    "invsqrtC <- eye(point_dim)\n",
    "\n",
    "eigeneval <- 0                    \n",
    "chiN <- point_dim^0.5*(1-1/(4*point_dim)+1/(21*point_dim^2))\n",
    "\n",
    "t <- 0\n",
    "while(t < 200){\n",
    "  t <- t+1\n",
    "  generated_pop <- m + sigma * MASS::mvrnorm(population_size, mu = numeric(point_dim), Sigma = C)\n",
    "\n",
    "  fitnesses <- c()\n",
    "  for (i in 1:dim(generated_pop)[1]){\n",
    "      point <- generated_pop[i,]\n",
    "      fitness <- sum_of_squares(point)\n",
    "      fitnesses <- append(fitnesses, fitness)\n",
    "  }\n",
    "\n",
    "  generated_pop_sorted <- generated_pop[order(fitnesses, decreasing=FALSE),]\n",
    "  new_m <- t(generated_pop_sorted)[,1:mu] %*% weights\n",
    "  ps <- (1-cs)*ps + sqrt(cs*(2-cs)*mueff) * invsqrtC %*% (new_m-m) / sigma\n",
    "  hsig <- norm(ps)/sqrt(1-(1-cs)^(2*counteval/lambda))/chiN < 1.4 + 2/(point_dim+1)\n",
    "  pc <- (1-cc)*pc + hsig * sqrt(cc*(2-cc)*mueff) * (new_m-m) / sigma\n",
    "  artmp <- (1/sigma) * (t(generated_pop_sorted)[,1:mu] - matrix(rep(m,mu), point_dim, mu))\n",
    "  C <- (1-c1-cmu) * C + c1*(pc%*%t(pc) + (1-hsig)*cc*(2-cc)*C) + cmu * artmp %*% diag(weights) * t(artmp)\n",
    "  sigma <- sigma * exp((cs/damps)*(norm(ps)/chiN - 1))\n",
    " \n",
    "  print(sum_of_squares(generated_pop_sorted[1,]))\n",
    "    \n",
    "C_upper <- C\n",
    "C_upper_diag <- C\n",
    "u <- lower.tri(C, diag = TRUE)\n",
    "u_d <-  lower.tri(C, diag = FALSE)\n",
    "C_upper[u] <- 0\n",
    "C_upper_diag[u_d] <- 0\n",
    "C <- C_upper_diag + t(C_upper)\n",
    "    eig <- eigen(C)\n",
    "D <- eig$values\n",
    "B <- eig$vectors\n",
    "    D <- sqrt(D)\n",
    "    invsqrtC <- B %*% diag(D^-1) %*% t(B)\n",
    "     m <- c(new_m)\n",
    "}"
   ]
  },
  {
   "cell_type": "code",
   "execution_count": null,
   "metadata": {},
   "outputs": [],
   "source": [
    "C[lower.tri(C)]"
   ]
  },
  {
   "cell_type": "code",
   "execution_count": null,
   "metadata": {},
   "outputs": [],
   "source": [
    "C"
   ]
  },
  {
   "cell_type": "code",
   "execution_count": null,
   "metadata": {},
   "outputs": [],
   "source": [
    "C_upper <- C\n",
    "C_upper_diag <- C\n",
    "u <- lower.tri(C, diag = TRUE)\n",
    "u_d <-  lower.tri(C, diag = FALSE)\n",
    "C_upper[u] <- 0\n",
    "C_upper_diag[u_d] <- 0\n",
    "C_upper\n",
    "C_upper_diag"
   ]
  },
  {
   "cell_type": "code",
   "execution_count": null,
   "metadata": {},
   "outputs": [],
   "source": [
    "new_C <- C_upper_diag + t(C_upper)"
   ]
  },
  {
   "cell_type": "code",
   "execution_count": null,
   "metadata": {},
   "outputs": [],
   "source": [
    "eigen(new_C)"
   ]
  },
  {
   "cell_type": "code",
   "execution_count": null,
   "metadata": {},
   "outputs": [],
   "source": [
    "eig <- eigen(new_C)\n",
    "D <- eig$values\n",
    "B <- eig$vectors"
   ]
  },
  {
   "cell_type": "code",
   "execution_count": null,
   "metadata": {},
   "outputs": [],
   "source": [
    "D <- sqrt(D)"
   ]
  },
  {
   "cell_type": "code",
   "execution_count": null,
   "metadata": {},
   "outputs": [],
   "source": [
    "invsqrtC <- B %*% diag(D^-1) %*% t(B)"
   ]
  },
  {
   "cell_type": "code",
   "execution_count": null,
   "metadata": {},
   "outputs": [],
   "source": [
    "t(generated_pop_sorted)[,1:mu] - matrix(rep(m,mu), point_dim, mu)"
   ]
  },
  {
   "cell_type": "markdown",
   "metadata": {},
   "source": [
    "# DES"
   ]
  },
  {
   "cell_type": "code",
   "execution_count": null,
   "metadata": {},
   "outputs": [],
   "source": [
    "source('Classes.R')\n",
    "sum_of_squares<-function(point){\n",
    "   sum <- 0.0        \n",
    "   for(p in point)\n",
    "   {\n",
    "     sum <- sum + p^2\n",
    "   }\n",
    "   return(sum)\n",
    "}\n",
    "\n",
    "sampleFromHistory <- function(history,historySample,lambda){\n",
    "  ret <- c()\n",
    "  for(i in 1:lambda)\n",
    "    ret <- c(ret,sample(1:ncol(history[[historySample[i]]]), 1))\n",
    "  return(ret)\n",
    "}"
   ]
  },
  {
   "cell_type": "code",
   "execution_count": null,
   "metadata": {},
   "outputs": [],
   "source": [
    "point_dim <- 3\n",
    "N <- point_dim\n",
    "lambda <- 50\n",
    "mu <- floor(lambda/2)\n",
    "cc <- mu/(mu+2)\n",
    "\n",
    "weights         <- log(mu+1) - log(1:mu)\n",
    "weights         <- weights/sum(weights)\n",
    "weightsPop      <- log(lambda+1) - log(1:lambda)\n",
    "weightsPop      <- weightsPop/sum(weightsPop)  \n",
    "\n",
    "iter        <- 0L\n",
    "\n",
    "initFt      <- 1\n",
    "Ft          <- initFt\n",
    "\n",
    "history     <- list() \n",
    "histHead    <- 0  \n",
    "histSize <- ceiling(6+ceiling(3*sqrt(N)))\n",
    "histHead  <- (histHead %% histSize) + 1\n",
    "histNorm  <- 1/sqrt(2)\n",
    "\n",
    "FtHistory   <- array(0, histSize)\n",
    "\n",
    "dMean       <- array(0, dim=c(N,histSize))\n",
    "pc       <- array(0, dim=c(point_dim,histSize))\n",
    "\n",
    "objective_fun <- ObjectiveFunction$new(fun=sum_of_squares, dim=point_dim)\n",
    "\n",
    "\n",
    "gen_random_population <- function(size=lambda, scaler=1){\n",
    "    coordinates <- scaler * replicate(size, runif(n = point_dim, min = -1, max = 1))\n",
    "    fitness <- c()\n",
    "    for(i in 1:dim(coordinates)[2]){\n",
    "        fitness[i]<-objective_fun$evaluate(coordinates[,i])\n",
    "    }\n",
    "    population <- data.frame(t(coordinates), fitness)\n",
    "    return(population)\n",
    "}"
   ]
  },
  {
   "cell_type": "code",
   "execution_count": null,
   "metadata": {},
   "outputs": [],
   "source": [
    "population <- gen_random_population()"
   ]
  },
  {
   "cell_type": "code",
   "execution_count": null,
   "metadata": {},
   "outputs": [],
   "source": [
    "matPopNoFitness <- t(data.matrix(population[,!(names(population)=='fitness')]))\n",
    "popMean <- drop(matPopNoFitness %*% weightsPop)"
   ]
  },
  {
   "cell_type": "code",
   "execution_count": null,
   "metadata": {},
   "outputs": [],
   "source": [
    "population <- population[order(population['fitness'], decreasing=FALSE),]\n",
    "selectedPoints <- population[1:mu, !(names(population) == 'fitness')]\n",
    "selectedPoints"
   ]
  },
  {
   "cell_type": "code",
   "execution_count": null,
   "metadata": {},
   "outputs": [],
   "source": [
    "histHead  <- (histHead %% histSize) + 1\n",
    "\n",
    "history[[histHead]] <- array(0,dim=c(N,mu))\n",
    "history[[histHead]] <- selectedPoints * histNorm/Ft"
   ]
  },
  {
   "cell_type": "code",
   "execution_count": null,
   "metadata": {},
   "outputs": [],
   "source": [
    "oldMean <- numeric(N)\n",
    "matSelectedPoints <- t(data.matrix(selectedPoints))\n",
    "newMean <- drop(matSelectedPoints %*% weights)\n",
    "newMean"
   ]
  },
  {
   "cell_type": "code",
   "execution_count": null,
   "metadata": {},
   "outputs": [],
   "source": [
    "FtHistory[histHead] = Ft\n",
    "oldFt <- Ft"
   ]
  },
  {
   "cell_type": "code",
   "execution_count": null,
   "metadata": {},
   "outputs": [],
   "source": [
    "muMean <- newMean\n",
    "dMean[,histHead] <- (muMean - popMean) / Ft\n",
    "dMean"
   ]
  },
  {
   "cell_type": "code",
   "execution_count": null,
   "metadata": {},
   "outputs": [],
   "source": [
    "step <- (newMean - oldMean) / Ft\n",
    "step"
   ]
  },
  {
   "cell_type": "code",
   "execution_count": null,
   "metadata": {},
   "outputs": [],
   "source": [
    "cp <- 1/sqrt(point_dim)\n",
    "pc[,histHead] = (1 - cp)* rep(0.0, N)/sqrt(N) + sqrt(mu * cp * (2-cp))* step\n",
    "pc"
   ]
  },
  {
   "cell_type": "code",
   "execution_count": null,
   "metadata": {},
   "outputs": [],
   "source": [
    "limit <- ifelse(iter < histSize, histHead, histSize)\n",
    "historySample <- sample(1:limit,lambda, T)\n",
    "historySample2 <- sample(1:limit,lambda, T)"
   ]
  },
  {
   "cell_type": "code",
   "execution_count": null,
   "metadata": {},
   "outputs": [],
   "source": [
    "history"
   ]
  },
  {
   "cell_type": "code",
   "execution_count": null,
   "metadata": {},
   "outputs": [],
   "source": [
    "x1sample <- sampleFromHistory(history,historySample,lambda)\n",
    "x2sample <- sampleFromHistory(history,historySample,lambda)"
   ]
  },
  {
   "cell_type": "code",
   "execution_count": null,
   "metadata": {},
   "outputs": [],
   "source": [
    "## Make diffs\n",
    "for (i in 1:lambda) {\n",
    "    print(i)\n",
    "    x1 <- history[[historySample[i]]][,x1sample[i]]\n",
    "    x2 <- history[[historySample[i]]][,x2sample[i]]\n",
    "\n",
    "    diffs[,i] <- sqrt(cc)*( (x1 - x2) + rnorm(1)*dMean[,historySample[i]] ) + sqrt(1-cc) * rnorm(1)*pc[,historySample2[i]]\n",
    "\n",
    "}"
   ]
  },
  {
   "cell_type": "code",
   "execution_count": null,
   "metadata": {},
   "outputs": [],
   "source": [
    "dMean"
   ]
  },
  {
   "cell_type": "code",
   "execution_count": null,
   "metadata": {},
   "outputs": [],
   "source": [
    "[historySample[1]]"
   ]
  },
  {
   "cell_type": "code",
   "execution_count": null,
   "metadata": {},
   "outputs": [],
   "source": [
    "history"
   ]
  },
  {
   "cell_type": "markdown",
   "metadata": {},
   "source": [
    "# DES - kopia"
   ]
  },
  {
   "cell_type": "code",
   "execution_count": 1,
   "metadata": {},
   "outputs": [],
   "source": [
    "# ARGS\n",
    "sum_of_squares<-function(point){\n",
    "   sum <- 0.0        \n",
    "   for(p in point)\n",
    "   {\n",
    "     sum <- sum + p^2\n",
    "   }\n",
    "   return(sum)\n",
    "}\n",
    "\n",
    "fn <- sum_of_squares\n",
    "N <- 3"
   ]
  },
  {
   "cell_type": "code",
   "execution_count": 2,
   "metadata": {},
   "outputs": [],
   "source": [
    "library(\"ringbuffer\")"
   ]
  },
  {
   "cell_type": "code",
   "execution_count": 23,
   "metadata": {},
   "outputs": [],
   "source": [
    "## Function to check the presence of options in the arguments specified by the user\n",
    "# @name - argument name\n",
    "# @default - default value of the argument\n",
    "# RETURN: value specified by user if the given argument name found, default value otherwise\n",
    "##\n",
    "controlParam <- function(name, default) {\n",
    "v <- control[[name]]\n",
    "if (is.null(v))\n",
    "  return (default)\n",
    "else\n",
    "  return (v)\n",
    "}\n",
    "                                                  ## Number of dimensions\n",
    "## Check if user specified box constraints values.\n",
    "## If not accept the default values.\n",
    "lower <- rep(-100, N)\n",
    "upper <- rep(100, N)\n",
    "\n",
    "\n",
    "bounceBackBoundary2 <- function(x){\n",
    "if(all(x >= cbind(lower)) && all(x <= cbind(upper)))\n",
    "  return (x)\n",
    "else if(any(x < cbind(lower)))\n",
    "  for(i in which(x < cbind(lower)) )\n",
    "    x[i] <- lower[i] + abs(lower[i] - x[i])%% (upper[i]- lower[i])\n",
    "  else if(any(x > cbind(upper)))\n",
    "    for(i in which(x > cbind(upper)) )\n",
    "      x[i] <- upper[i] - abs(upper[i] - x[i])%% (upper[i]- lower[i])\n",
    "    x <-deleteInfsNaNs(x)\n",
    "    return (bounceBackBoundary2(x))\n",
    "}\n",
    "\n",
    "sampleFromHistory <- function(history,historySample,lambda){\n",
    "  ret <- c()\n",
    "  for(i in 1:lambda)\n",
    "    ret <- c(ret,sample(1:ncol(history[[historySample[i]]]), 1))\n",
    "  return(ret)\n",
    "}\n",
    "\n",
    "deleteInfsNaNs <- function(x){\n",
    "  x[is.na(x)] <- .Machine$double.xmax\n",
    "  x[is.infinite(x)] <- .Machine$double.xmax\n",
    "  return(x)\n",
    "}"
   ]
  },
  {
   "cell_type": "code",
   "execution_count": 24,
   "metadata": {},
   "outputs": [],
   "source": [
    "Ft          <- 1                                ## Scaling factor of difference vectors (a variable!)\n",
    "initFt      <- 1\n",
    "stopfitness <-  -Inf                    ## Fitness value after which the convergence is reached\n",
    "## Strategy parameter setting:\n",
    "budget      <- 10000*N                     ## The maximum number of fitness function calls\n",
    "initlambda  <- 4*N       \t\t      ## Population starting size\n",
    "minlambda   <- 4*N                       ## Population ending size\n",
    "lambda      <- initlambda                                           ## Population size\n",
    "mu          <- floor(lambda/2)                  ## Selection size\n",
    "weights     <- log(mu+1) - log(1:mu)       ## Weights to calculate mean from selected individuals\n",
    "weights     <- weights/sum(weights)                                 ##    \\-> weights are normalized by the sum\n",
    "weightsSumS <- sum(weights^2)                                       ## weights sum square\n",
    "mueff       <- sum(weights)^2/sum(weights^2) ## Variance effectiveness factor\n",
    "cc          <- mu/(mu+2)                      ## Evolution Path decay factor\n",
    "pathLength  <- 6                       ## Size of evolution path\n",
    "cp          <- 1/sqrt(N)                        ## Evolution Path decay factor\n",
    "maxiter     <- floor(budget/(lambda+1))      ## Maximum number of iterations after which algorithm stops\n",
    "c_Ft        <- 0\n",
    "pathRatio   <- sqrt(pathLength)           ## Path Length Control reference value\n",
    "histSize    <- ceiling(6+ceiling(3*sqrt(N)))## Size of the window of history - the step length history\n",
    "Ft_scale    <- ((mueff+2)/(N+mueff+3))/(1 + 2*max(0, sqrt((mueff-1)/(N+1))-1) + (mueff+2)/(N+mueff+3))\n",
    "tol         <- 10^-6\n",
    "counteval   <- 0                                                    ## Number of function evaluations\n",
    "sqrt_N      <- sqrt(N)"
   ]
  },
  {
   "cell_type": "code",
   "execution_count": 25,
   "metadata": {},
   "outputs": [],
   "source": [
    "Lamarckism <- FALSE\n",
    "\n",
    "## Fitness function wrapper\n",
    "fn_ <- function(x){\n",
    "if(all(x >= cbind(lower)) && all(x <= cbind(upper))){\n",
    "  counteval <<- counteval + 1\n",
    "  return (fn(x))\n",
    "}\n",
    "else\n",
    "  return(.Machine$double.xmax)\n",
    "}\n",
    "\n",
    "## Fitness function wrapper for Lamarcian approach\n",
    "fn_l <- function(P){\n",
    "if(is.matrix(P)){\n",
    "  if(counteval + ncol(P) <= budget)\n",
    "    return ( apply(P, 2, fn_) )\n",
    "  else{\n",
    "    ret <- c()\n",
    "    budLeft <- budget-counteval\n",
    "    for (i in 1:budLeft ) {\n",
    "      ret <- c(ret,fn_(P[,i]))\n",
    "    }\n",
    "    return(c(ret,rep(.Machine$double.xmax,ncol(P)-budLeft)))\n",
    "  }\n",
    "}else{\n",
    "  if(counteval < budget)\n",
    "    return ( fn_(P) )\n",
    "  else\n",
    "    return(.Machine$double.xmax)\n",
    "}\n",
    "}\n",
    "\n",
    "## Fitness function wrapper for nonLamarckian approach\n",
    "fn_d <- function(P, P_repaired, fitness) {\n",
    "P <- deleteInfsNaNs(P)\n",
    "P_repaired <- deleteInfsNaNs(P_repaired)\n",
    "\n",
    "if(is.matrix(P) && is.matrix(P_repaired)){\n",
    "  repairedInd <- apply(P!=P_repaired,2,all)\n",
    "  P_fit <- fitness\n",
    "  vecDist <- colSums((P - P_repaired)^2)\n",
    "  P_fit[which(repairedInd)] <- worst.fit + vecDist[which(repairedInd)]\n",
    "  P_fit <- deleteInfsNaNs(P_fit)\n",
    "  return(P_fit)\n",
    "}else{\n",
    "  P_fit <- fitness\n",
    "  if (P!=P_repaired){\n",
    "    P_fit <- worst.fit + (sum(P-P_repaired)^2)\n",
    "    P_fit <- deleteInfsNaNs(P_fit)\n",
    "  }\n",
    "  return (P_fit)\n",
    "}\n",
    "\n",
    "}"
   ]
  },
  {
   "cell_type": "code",
   "execution_count": 26,
   "metadata": {},
   "outputs": [],
   "source": [
    "best.fit        <- Inf                  ## The best fitness found so far\n",
    "best.par        <- NULL                 ## The best solution found so far\n",
    "worst.fit       <- NULL                 ## The worst solution found so far:\n",
    "last.restart    <-0\n",
    "restart.length  <-0\n",
    "restart.number  <-0"
   ]
  },
  {
   "cell_type": "code",
   "execution_count": 27,
   "metadata": {},
   "outputs": [],
   "source": [
    "steps       <- ringbuffer(size = pathLength*N)                      ## Cyclical buffer containing last 'pathLength' steps of algorithm\n",
    "dMean       <- array(0, dim=c(N,histSize))\n",
    "FtHistory   <- array(0, histSize)                                   ## Array buffer containing 'histSize' last values of 'Ft'\n",
    "pc       <- array(0, dim=c(N,histSize))\n",
    "\n",
    "## Initialize internal strategy parameters\n",
    "msg             <- NULL                                             ## Reason for terminating\n",
    "restart.number  <- -1"
   ]
  },
  {
   "cell_type": "code",
   "execution_count": 28,
   "metadata": {},
   "outputs": [],
   "source": [
    "lambda          <- 50\n",
    "mu              <- floor(lambda/2)\n",
    "weights         <- log(mu+1) - log(1:mu)\n",
    "weights         <- weights/sum(weights)\n",
    "weightsPop      <- log(lambda+1) - log(1:lambda)\n",
    "weightsPop      <- weightsPop/sum(weightsPop)\n",
    "\n",
    "histHead    <- 0                                                      ## Pointer to the history buffer head\n",
    "iter        <- 0L                                                     ## Number of iterations\n",
    "history     <- list()                                                 ## List stores best 'mu'(variable) individuals for 'hsize' recent iterations\n",
    "Ft          <- initFt\n",
    "\n",
    "# Create fisrt population\n",
    "population <- replicate(lambda, runif(N,0.8*lower,0.8*upper))\n",
    "cumMean=(upper+lower)/2\n",
    "# populationRepaired <- apply(population,2,bounceBackBoundary2)\n",
    "\n",
    "# if(Lamarckism==TRUE){\n",
    "#   population <- populationRepaired\n",
    "# }\n",
    "\n",
    "selection       <- rep(0, mu)\n",
    "selectedPoints  <- matrix(0, nrow=N, ncol=mu)\n",
    "fitness         <- fn_l(population)\n",
    "oldMean         <- numeric(N)\n",
    "newMean         <- c(10,10,10)\n",
    "limit           <- 0\n",
    "worst.fit       <- max(fitness)\n",
    "\n",
    "# Store population and selection means\n",
    "popMean         <- drop(population %*% weightsPop)\n",
    "muMean          <- newMean\n",
    "\n",
    "## Matrices for creating diffs\n",
    "diffs     <- matrix(0, N, lambda)\n",
    "x1sample  <- numeric(lambda)\n",
    "x2sample  <- numeric(lambda)\n",
    "\n",
    "chiN      <- (sqrt(2)*gamma((N+1)/2)/gamma(N/2))\n",
    "histNorm  <- 1/sqrt(2)\n",
    "counterRepaired <- 0\n",
    "\n",
    "stoptol=F"
   ]
  },
  {
   "cell_type": "code",
   "execution_count": 29,
   "metadata": {},
   "outputs": [],
   "source": [
    "# WHILE starts"
   ]
  },
  {
   "cell_type": "code",
   "execution_count": 30,
   "metadata": {},
   "outputs": [
    {
     "data": {
      "text/html": [
       "<table>\n",
       "<caption>A matrix: 3 × 50 of type dbl</caption>\n",
       "<tbody>\n",
       "\t<tr><td>-13.17548</td><td>-53.10392</td><td> 76.27985</td><td>11.357417</td><td> -4.670647</td><td>-27.909800</td><td>  2.390076</td><td>-14.56116</td><td>-24.01764</td><td> 39.86708</td><td>...</td><td> 14.87888</td><td>19.30104</td><td>-14.404668</td><td>-68.72108</td><td> 30.699182</td><td> 54.18268</td><td> 10.69644</td><td>30.94558</td><td>-66.18250</td><td>  9.962519</td></tr>\n",
       "\t<tr><td> 62.94346</td><td>-43.31482</td><td> 40.37250</td><td>46.078297</td><td>-25.178938</td><td> -3.659226</td><td> 77.713198</td><td> 31.51500</td><td> 66.09670</td><td> 20.74519</td><td>...</td><td> 50.15714</td><td>76.09537</td><td>  7.581243</td><td> 70.44468</td><td>  7.404058</td><td>-65.52662</td><td>-78.31497</td><td>23.39124</td><td>-55.02284</td><td>-34.522131</td></tr>\n",
       "\t<tr><td>-69.18472</td><td> 18.34165</td><td>-22.74644</td><td>-6.133448</td><td> 38.207383</td><td>-51.931039</td><td>-52.539052</td><td>-18.19076</td><td> 41.08242</td><td>-68.10708</td><td>...</td><td>-22.72004</td><td>51.60320</td><td> 50.932125</td><td>-21.35658</td><td>-10.604431</td><td>-18.29960</td><td>-62.73741</td><td>57.13145</td><td>-52.05034</td><td>-69.256650</td></tr>\n",
       "</tbody>\n",
       "</table>\n"
      ],
      "text/latex": [
       "A matrix: 3 × 50 of type dbl\n",
       "\\begin{tabular}{lllllllllllllllllllll}\n",
       "\t -13.17548 & -53.10392 &  76.27985 & 11.357417 &  -4.670647 & -27.909800 &   2.390076 & -14.56116 & -24.01764 &  39.86708 & ... &  14.87888 & 19.30104 & -14.404668 & -68.72108 &  30.699182 &  54.18268 &  10.69644 & 30.94558 & -66.18250 &   9.962519\\\\\n",
       "\t  62.94346 & -43.31482 &  40.37250 & 46.078297 & -25.178938 &  -3.659226 &  77.713198 &  31.51500 &  66.09670 &  20.74519 & ... &  50.15714 & 76.09537 &   7.581243 &  70.44468 &   7.404058 & -65.52662 & -78.31497 & 23.39124 & -55.02284 & -34.522131\\\\\n",
       "\t -69.18472 &  18.34165 & -22.74644 & -6.133448 &  38.207383 & -51.931039 & -52.539052 & -18.19076 &  41.08242 & -68.10708 & ... & -22.72004 & 51.60320 &  50.932125 & -21.35658 & -10.604431 & -18.29960 & -62.73741 & 57.13145 & -52.05034 & -69.256650\\\\\n",
       "\\end{tabular}\n"
      ],
      "text/markdown": [
       "\n",
       "A matrix: 3 × 50 of type dbl\n",
       "\n",
       "| -13.17548 | -53.10392 |  76.27985 | 11.357417 |  -4.670647 | -27.909800 |   2.390076 | -14.56116 | -24.01764 |  39.86708 | ... |  14.87888 | 19.30104 | -14.404668 | -68.72108 |  30.699182 |  54.18268 |  10.69644 | 30.94558 | -66.18250 |   9.962519 |\n",
       "|  62.94346 | -43.31482 |  40.37250 | 46.078297 | -25.178938 |  -3.659226 |  77.713198 |  31.51500 |  66.09670 |  20.74519 | ... |  50.15714 | 76.09537 |   7.581243 |  70.44468 |   7.404058 | -65.52662 | -78.31497 | 23.39124 | -55.02284 | -34.522131 |\n",
       "| -69.18472 |  18.34165 | -22.74644 | -6.133448 |  38.207383 | -51.931039 | -52.539052 | -18.19076 |  41.08242 | -68.10708 | ... | -22.72004 | 51.60320 |  50.932125 | -21.35658 | -10.604431 | -18.29960 | -62.73741 | 57.13145 | -52.05034 | -69.256650 |\n",
       "\n"
      ],
      "text/plain": [
       "     [,1]      [,2]      [,3]      [,4]      [,5]       [,6]       [,7]      \n",
       "[1,] -13.17548 -53.10392  76.27985 11.357417  -4.670647 -27.909800   2.390076\n",
       "[2,]  62.94346 -43.31482  40.37250 46.078297 -25.178938  -3.659226  77.713198\n",
       "[3,] -69.18472  18.34165 -22.74644 -6.133448  38.207383 -51.931039 -52.539052\n",
       "     [,8]      [,9]      [,10]     [,11] [,12]     [,13]    [,14]     \n",
       "[1,] -14.56116 -24.01764  39.86708 ...    14.87888 19.30104 -14.404668\n",
       "[2,]  31.51500  66.09670  20.74519 ...    50.15714 76.09537   7.581243\n",
       "[3,] -18.19076  41.08242 -68.10708 ...   -22.72004 51.60320  50.932125\n",
       "     [,15]     [,16]      [,17]     [,18]     [,19]    [,20]     [,21]     \n",
       "[1,] -68.72108  30.699182  54.18268  10.69644 30.94558 -66.18250   9.962519\n",
       "[2,]  70.44468   7.404058 -65.52662 -78.31497 23.39124 -55.02284 -34.522131\n",
       "[3,] -21.35658 -10.604431 -18.29960 -62.73741 57.13145 -52.05034 -69.256650"
      ]
     },
     "metadata": {},
     "output_type": "display_data"
    }
   ],
   "source": [
    "population"
   ]
  },
  {
   "cell_type": "code",
   "execution_count": 31,
   "metadata": {},
   "outputs": [],
   "source": [
    "iter      <- iter + 1L\n",
    "histHead  <- (histHead %% histSize) + 1\n",
    "\n",
    "lambda <- lambda\n",
    "#lambda      <- round(((minlambda-initlambda)/budget)*counteval+initlambda)\n",
    "mu          <- floor(lambda/2)\n",
    "weights <- log(mu+1) - log(1:mu)\n",
    "weights <- weights/sum(weights)\n",
    "\n",
    "selection       <- order(fitness)[1:mu]\n",
    "selectedPoints  <- population[,selection]\n",
    "\n",
    "# Save selected population in the history buffer\n",
    "history[[histHead]] <- array(0,dim=c(N,mu))\n",
    "history[[histHead]] <- selectedPoints * histNorm/Ft\n",
    "\n",
    "## Calculate weighted mean of selected points\n",
    "oldMean <- newMean\n",
    "newMean <- drop(selectedPoints %*% weights)\n",
    "\n",
    "## Write to buffers\n",
    "muMean <- newMean\n",
    "dMean[,histHead] <- (muMean - popMean) / Ft\n",
    "\n",
    "step <- (newMean - oldMean) / Ft\n",
    "\n",
    "## Update Ft\n",
    "FtHistory[histHead] = Ft\n",
    "oldFt <- Ft"
   ]
  },
  {
   "cell_type": "code",
   "execution_count": 32,
   "metadata": {},
   "outputs": [],
   "source": [
    "if(histHead==1){\n",
    "pc[,histHead] = (1 - cp)* rep(0.0, N)/sqrt(N) + sqrt(mu * cp * (2-cp))* step\n",
    "}else{\n",
    "pc[,histHead] = (1 - cp)* pc[,histHead-1] + sqrt(mu * cp * (2-cp))* step\n",
    "}\n",
    "## Sample from history with uniform distribution\n",
    "limit <- ifelse(iter < histSize, histHead, histSize)\n",
    "historySample <- sample(1:limit,lambda, T)\n",
    "historySample2 <- sample(1:limit,lambda, T)\n",
    "\n",
    "x1sample <- sampleFromHistory(history,historySample,lambda)\n",
    "x2sample <- sampleFromHistory(history,historySample,lambda)\n",
    "\n",
    "## Make diffs\n",
    "for (i in 1:lambda) {\n",
    "x1 <- history[[historySample[i]]][,x1sample[i]]\n",
    "x2 <- history[[historySample[i]]][,x2sample[i]]\n",
    "\n",
    "diffs[,i] <- sqrt(cc)*( (x1 - x2) + rnorm(1)*dMean[,historySample[i]] ) + sqrt(1-cc) * rnorm(1)*pc[,historySample2[i]]\n",
    "\n",
    "}\n",
    "\n",
    "## New population\n",
    "population <- newMean + Ft * diffs + tol*rnorm(diffs)/chiN\n",
    "population <- deleteInfsNaNs(population)\n",
    "\n",
    "# Check constraints violations\n",
    "# Repair the individual if necessary\n",
    "populationTemp <- population\n",
    "populationRepaired <- apply(population,2,bounceBackBoundary2)\n",
    "\n",
    "counterRepaired=0\n",
    "for(tt in 1:ncol(populationTemp)){\n",
    "if(any(populationTemp[,tt] != populationRepaired[,tt]))\n",
    "  counterRepaired = counterRepaired + 1\n",
    "}\n",
    "\n",
    "if(Lamarckism==TRUE){\n",
    "population <- populationRepaired\n",
    "}\n",
    "\n",
    "popMean <- drop(population %*% weightsPop)\n",
    "\n",
    "## Evaluation\n",
    "fitness <- fn_l(population)\n",
    "if(Lamarckism==FALSE){\n",
    "fitnessNonLamarcian <- fn_d(population, populationRepaired, fitness)\n",
    "}\n",
    "\n",
    "## Break if fit :\n",
    "wb <- which.min(fitness)\n",
    "if (fitness[wb] < best.fit) {\n",
    "best.fit <- fitness[wb]\n",
    "if(Lamarckism==TRUE)\n",
    "  best.par <- population[,wb]\n",
    "else\n",
    "  best.par <- populationRepaired[,wb]\n",
    "}\n",
    "\n",
    "## Check worst fit:\n",
    "ww <- which.max(fitness)\n",
    "if (fitness[ww] > worst.fit){\n",
    "worst.fit <- fitness[ww]\n",
    "}\n",
    "\n",
    "## Fitness with penalty for nonLamarcian approach\n",
    "if(Lamarckism==FALSE){\n",
    "fitness <- fitnessNonLamarcian\n",
    "}\n",
    "\n",
    "\n",
    "## Check if the middle point is the best found so far\n",
    "cumMean <- 0.8*cumMean+0.2*newMean\n",
    "cumMeanRepaired <-bounceBackBoundary2(cumMean)\n",
    "\n",
    "fn_cum  <- fn_l(cumMeanRepaired)\n",
    "if (fn_cum < best.fit) {\n",
    "best.fit <- drop(fn_cum)\n",
    "best.par <- cumMeanRepaired\n",
    "}\n",
    "\n",
    "## Escape from flat-land:\n",
    "#if (min(fitness) == sort(fitness,partial=min(1+floor(lambda/2), 2+ceiling(lambda/4)))[min(1+floor(lambda/2), 2+ceiling(lambda/4))]) {\n",
    "#  Ft <- Ft * exp(0.2*Ft_scale);\n",
    "#}\n",
    "\n",
    "if (fitness[1] <= stopfitness) {\n",
    "msg <- \"Stop fitness reached.\"\n",
    "break\n",
    "}\n",
    "\n",
    "if(abs(range(fitness)[2] - range(fitness)[1]) < tol)\n",
    "{\n",
    "if (counteval < 0.8*budget)\n",
    "  stoptol=T\n",
    "}"
   ]
  },
  {
   "cell_type": "code",
   "execution_count": 34,
   "metadata": {},
   "outputs": [
    {
     "data": {
      "text/html": [
       "<table>\n",
       "<caption>A matrix: 3 × 50 of type dbl</caption>\n",
       "<tbody>\n",
       "\t<tr><td>17.51110</td><td>-28.998623</td><td> 29.097916</td><td>-14.08666</td><td>-56.75207</td><td>64.030123</td><td>-67.625241</td><td>39.45370</td><td>22.24808</td><td> 3.6319419</td><td>...</td><td>-19.807510</td><td> 47.06330</td><td>-39.80114</td><td> 26.3885760</td><td>-18.45710</td><td>-12.825907</td><td> 58.28964</td><td>-28.86170</td><td>-17.690594</td><td>-13.79157</td></tr>\n",
       "\t<tr><td>19.60804</td><td>  1.986796</td><td>-35.179922</td><td>-16.47040</td><td>-12.32426</td><td>33.620889</td><td> -2.635209</td><td>88.50919</td><td>16.72493</td><td>23.9157890</td><td>...</td><td> 79.458792</td><td> 13.88332</td><td>-49.90476</td><td> -0.8790023</td><td>-20.02077</td><td> -2.771494</td><td> 13.46975</td><td> -7.82110</td><td>-42.307188</td><td> 38.15609</td></tr>\n",
       "\t<tr><td>73.98926</td><td> 44.037662</td><td>  1.697442</td><td>-26.67918</td><td>-86.82457</td><td> 3.165437</td><td> 21.669500</td><td>78.75957</td><td>31.14066</td><td>-0.6469578</td><td>...</td><td>  6.600824</td><td>-14.99615</td><td> 18.85075</td><td>-34.1762635</td><td>-18.49580</td><td>-56.113205</td><td>-45.70738</td><td>-53.52491</td><td>  7.694993</td><td> 15.54533</td></tr>\n",
       "</tbody>\n",
       "</table>\n"
      ],
      "text/latex": [
       "A matrix: 3 × 50 of type dbl\n",
       "\\begin{tabular}{lllllllllllllllllllll}\n",
       "\t 17.51110 & -28.998623 &  29.097916 & -14.08666 & -56.75207 & 64.030123 & -67.625241 & 39.45370 & 22.24808 &  3.6319419 & ... & -19.807510 &  47.06330 & -39.80114 &  26.3885760 & -18.45710 & -12.825907 &  58.28964 & -28.86170 & -17.690594 & -13.79157\\\\\n",
       "\t 19.60804 &   1.986796 & -35.179922 & -16.47040 & -12.32426 & 33.620889 &  -2.635209 & 88.50919 & 16.72493 & 23.9157890 & ... &  79.458792 &  13.88332 & -49.90476 &  -0.8790023 & -20.02077 &  -2.771494 &  13.46975 &  -7.82110 & -42.307188 &  38.15609\\\\\n",
       "\t 73.98926 &  44.037662 &   1.697442 & -26.67918 & -86.82457 &  3.165437 &  21.669500 & 78.75957 & 31.14066 & -0.6469578 & ... &   6.600824 & -14.99615 &  18.85075 & -34.1762635 & -18.49580 & -56.113205 & -45.70738 & -53.52491 &   7.694993 &  15.54533\\\\\n",
       "\\end{tabular}\n"
      ],
      "text/markdown": [
       "\n",
       "A matrix: 3 × 50 of type dbl\n",
       "\n",
       "| 17.51110 | -28.998623 |  29.097916 | -14.08666 | -56.75207 | 64.030123 | -67.625241 | 39.45370 | 22.24808 |  3.6319419 | ... | -19.807510 |  47.06330 | -39.80114 |  26.3885760 | -18.45710 | -12.825907 |  58.28964 | -28.86170 | -17.690594 | -13.79157 |\n",
       "| 19.60804 |   1.986796 | -35.179922 | -16.47040 | -12.32426 | 33.620889 |  -2.635209 | 88.50919 | 16.72493 | 23.9157890 | ... |  79.458792 |  13.88332 | -49.90476 |  -0.8790023 | -20.02077 |  -2.771494 |  13.46975 |  -7.82110 | -42.307188 |  38.15609 |\n",
       "| 73.98926 |  44.037662 |   1.697442 | -26.67918 | -86.82457 |  3.165437 |  21.669500 | 78.75957 | 31.14066 | -0.6469578 | ... |   6.600824 | -14.99615 |  18.85075 | -34.1762635 | -18.49580 | -56.113205 | -45.70738 | -53.52491 |   7.694993 |  15.54533 |\n",
       "\n"
      ],
      "text/plain": [
       "     [,1]     [,2]       [,3]       [,4]      [,5]      [,6]      [,7]      \n",
       "[1,] 17.51110 -28.998623  29.097916 -14.08666 -56.75207 64.030123 -67.625241\n",
       "[2,] 19.60804   1.986796 -35.179922 -16.47040 -12.32426 33.620889  -2.635209\n",
       "[3,] 73.98926  44.037662   1.697442 -26.67918 -86.82457  3.165437  21.669500\n",
       "     [,8]     [,9]     [,10]      [,11] [,12]      [,13]     [,14]    \n",
       "[1,] 39.45370 22.24808  3.6319419 ...   -19.807510  47.06330 -39.80114\n",
       "[2,] 88.50919 16.72493 23.9157890 ...    79.458792  13.88332 -49.90476\n",
       "[3,] 78.75957 31.14066 -0.6469578 ...     6.600824 -14.99615  18.85075\n",
       "     [,15]       [,16]     [,17]      [,18]     [,19]     [,20]      [,21]    \n",
       "[1,]  26.3885760 -18.45710 -12.825907  58.28964 -28.86170 -17.690594 -13.79157\n",
       "[2,]  -0.8790023 -20.02077  -2.771494  13.46975  -7.82110 -42.307188  38.15609\n",
       "[3,] -34.1762635 -18.49580 -56.113205 -45.70738 -53.52491   7.694993  15.54533"
      ]
     },
     "metadata": {},
     "output_type": "display_data"
    }
   ],
   "source": [
    "population"
   ]
  },
  {
   "cell_type": "code",
   "execution_count": 33,
   "metadata": {},
   "outputs": [
    {
     "data": {
      "text/plain": [
       "$par\n",
       "[1] 0.33735182 0.14577276 0.04698772\n",
       "\n",
       "$value\n",
       "[1] 0.1372638\n",
       "\n",
       "$counts\n",
       "function \n",
       "     101 \n",
       "\n",
       "$resets\n",
       "[1] -1\n",
       "\n",
       "$convergence\n",
       "[1] 0\n",
       "\n",
       "$message\n",
       "NULL\n",
       "\n",
       "$diagnostic\n",
       "function (x, base = exp(1))  .Primitive(\"log\")\n",
       "\n",
       "attr(,\"class\")\n",
       "[1] \"cmade.result\""
      ]
     },
     "metadata": {},
     "output_type": "display_data"
    }
   ],
   "source": [
    "cnt <- c(`function`=as.integer(counteval))\n",
    "\n",
    "## Drop names from value object\n",
    "names(best.fit) <- NULL\n",
    "res <- list(par=best.par,\n",
    "          value=best.fit,\n",
    "          counts=cnt,\n",
    "          resets=restart.number,\n",
    "          convergence=ifelse(iter >= maxiter, 1L, 0L),\n",
    "          message=msg,\n",
    "          diagnostic=log\n",
    ")\n",
    "class(res) <- \"cmade.result\"\n",
    "\n",
    "return(res)"
   ]
  },
  {
   "cell_type": "code",
   "execution_count": null,
   "metadata": {},
   "outputs": [],
   "source": []
  }
 ],
 "metadata": {
  "kernelspec": {
   "display_name": "R",
   "language": "R",
   "name": "ir"
  },
  "language_info": {
   "codemirror_mode": "r",
   "file_extension": ".r",
   "mimetype": "text/x-r-source",
   "name": "R",
   "pygments_lexer": "r",
   "version": "3.6.3"
  }
 },
 "nbformat": 4,
 "nbformat_minor": 4
}
