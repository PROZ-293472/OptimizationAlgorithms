{
 "cells": [
  {
   "cell_type": "code",
   "execution_count": 14,
   "metadata": {},
   "outputs": [],
   "source": [
    "df <- data.frame(matrix(ncol = 3, nrow = 0)) \n",
    "colnames(df) <- c(\"name\", \"age\", \"gender\")"
   ]
  },
  {
   "cell_type": "code",
   "execution_count": 25,
   "metadata": {},
   "outputs": [
    {
     "data": {
      "text/html": [
       "<ol>\n",
       "\t<li><style>\n",
       ".list-inline {list-style: none; margin:0; padding: 0}\n",
       ".list-inline>li {display: inline-block}\n",
       ".list-inline>li:not(:last-child)::after {content: \"\\00b7\"; padding: 0 .5ex}\n",
       "</style>\n",
       "<ol class=list-inline><li>1</li><li>2</li></ol>\n",
       "</li>\n",
       "\t<li><style>\n",
       ".list-inline {list-style: none; margin:0; padding: 0}\n",
       ".list-inline>li {display: inline-block}\n",
       ".list-inline>li:not(:last-child)::after {content: \"\\00b7\"; padding: 0 .5ex}\n",
       "</style>\n",
       "<ol class=list-inline><li>1</li><li>2</li></ol>\n",
       "</li>\n",
       "\t<li><style>\n",
       ".list-inline {list-style: none; margin:0; padding: 0}\n",
       ".list-inline>li {display: inline-block}\n",
       ".list-inline>li:not(:last-child)::after {content: \"\\00b7\"; padding: 0 .5ex}\n",
       "</style>\n",
       "<ol class=list-inline><li>1</li><li>2</li></ol>\n",
       "</li>\n",
       "\t<li><style>\n",
       ".list-inline {list-style: none; margin:0; padding: 0}\n",
       ".list-inline>li {display: inline-block}\n",
       ".list-inline>li:not(:last-child)::after {content: \"\\00b7\"; padding: 0 .5ex}\n",
       "</style>\n",
       "<ol class=list-inline><li>1</li><li>2</li></ol>\n",
       "</li>\n",
       "</ol>\n"
      ],
      "text/latex": [
       "\\begin{enumerate}\n",
       "\\item \\begin{enumerate*}\n",
       "\\item 1\n",
       "\\item 2\n",
       "\\end{enumerate*}\n",
       "\n",
       "\\item \\begin{enumerate*}\n",
       "\\item 1\n",
       "\\item 2\n",
       "\\end{enumerate*}\n",
       "\n",
       "\\item \\begin{enumerate*}\n",
       "\\item 1\n",
       "\\item 2\n",
       "\\end{enumerate*}\n",
       "\n",
       "\\item \\begin{enumerate*}\n",
       "\\item 1\n",
       "\\item 2\n",
       "\\end{enumerate*}\n",
       "\n",
       "\\end{enumerate}\n"
      ],
      "text/markdown": [
       "1. 1. 1\n",
       "2. 2\n",
       "\n",
       "\n",
       "\n",
       "2. 1. 1\n",
       "2. 2\n",
       "\n",
       "\n",
       "\n",
       "3. 1. 1\n",
       "2. 2\n",
       "\n",
       "\n",
       "\n",
       "4. 1. 1\n",
       "2. 2\n",
       "\n",
       "\n",
       "\n",
       "\n",
       "\n"
      ],
      "text/plain": [
       "[[1]]\n",
       "[1] 1 2\n",
       "\n",
       "[[2]]\n",
       "[1] 1 2\n",
       "\n",
       "[[3]]\n",
       "[1] 1 2\n",
       "\n",
       "[[4]]\n",
       "[1] 1 2\n"
      ]
     },
     "metadata": {},
     "output_type": "display_data"
    }
   ],
   "source": [
    "x <- list(c(1,2))\n",
    "x1 <- rep(x, 4)\n",
    "\n",
    "x2 <- list(c(1,2), c(1,2), c(1,2), c(1,2))\n",
    "\n",
    "x1"
   ]
  },
  {
   "cell_type": "markdown",
   "metadata": {},
   "source": [
    "# DES"
   ]
  },
  {
   "cell_type": "code",
   "execution_count": null,
   "metadata": {},
   "outputs": [],
   "source": [
    "source('Classes.R')\n",
    "sum_of_squares<-function(point){\n",
    "   sum <- 0.0        \n",
    "   for(p in point)\n",
    "   {\n",
    "     sum <- sum + p^2\n",
    "   }\n",
    "   return(sum)\n",
    "}\n",
    "\n",
    "sampleFromHistory <- function(history,historySample,lambda){\n",
    "  ret <- c()\n",
    "  for(i in 1:lambda)\n",
    "    ret <- c(ret,sample(1:ncol(history[[historySample[i]]]), 1))\n",
    "  return(ret)\n",
    "}"
   ]
  },
  {
   "cell_type": "code",
   "execution_count": null,
   "metadata": {},
   "outputs": [],
   "source": [
    "point_dim <- 3\n",
    "N <- point_dim\n",
    "lambda <- 50\n",
    "mu <- floor(lambda/2)\n",
    "cc <- mu/(mu+2)\n",
    "\n",
    "weights         <- log(mu+1) - log(1:mu)\n",
    "weights         <- weights/sum(weights)\n",
    "weightsPop      <- log(lambda+1) - log(1:lambda)\n",
    "weightsPop      <- weightsPop/sum(weightsPop)  \n",
    "\n",
    "iter        <- 0L\n",
    "\n",
    "initFt      <- 1\n",
    "Ft          <- initFt\n",
    "\n",
    "history     <- list() \n",
    "histHead    <- 0  \n",
    "histSize <- ceiling(6+ceiling(3*sqrt(N)))\n",
    "histHead  <- (histHead %% histSize) + 1\n",
    "histNorm  <- 1/sqrt(2)\n",
    "\n",
    "FtHistory   <- array(0, histSize)\n",
    "\n",
    "dMean       <- array(0, dim=c(N,histSize))\n",
    "pc       <- array(0, dim=c(point_dim,histSize))\n",
    "\n",
    "objective_fun <- ObjectiveFunction$new(fun=sum_of_squares, dim=point_dim)\n",
    "\n",
    "\n",
    "gen_random_population <- function(size=lambda, scaler=1){\n",
    "    coordinates <- scaler * replicate(size, runif(n = point_dim, min = -1, max = 1))\n",
    "    fitness <- c()\n",
    "    for(i in 1:dim(coordinates)[2]){\n",
    "        fitness[i]<-objective_fun$evaluate(coordinates[,i])\n",
    "    }\n",
    "    population <- data.frame(t(coordinates), fitness)\n",
    "    return(population)\n",
    "}"
   ]
  },
  {
   "cell_type": "code",
   "execution_count": null,
   "metadata": {},
   "outputs": [],
   "source": [
    "population <- gen_random_population()"
   ]
  },
  {
   "cell_type": "code",
   "execution_count": null,
   "metadata": {},
   "outputs": [],
   "source": [
    "matPopNoFitness <- t(data.matrix(population[,!(names(population)=='fitness')]))\n",
    "popMean <- drop(matPopNoFitness %*% weightsPop)"
   ]
  },
  {
   "cell_type": "code",
   "execution_count": null,
   "metadata": {},
   "outputs": [],
   "source": [
    "population <- population[order(population['fitness'], decreasing=FALSE),]\n",
    "selectedPoints <- population[1:mu, !(names(population) == 'fitness')]\n",
    "selectedPoints"
   ]
  },
  {
   "cell_type": "code",
   "execution_count": null,
   "metadata": {},
   "outputs": [],
   "source": [
    "histHead  <- (histHead %% histSize) + 1\n",
    "\n",
    "history[[histHead]] <- array(0,dim=c(N,mu))\n",
    "history[[histHead]] <- selectedPoints * histNorm/Ft"
   ]
  },
  {
   "cell_type": "code",
   "execution_count": null,
   "metadata": {},
   "outputs": [],
   "source": [
    "oldMean <- numeric(N)\n",
    "matSelectedPoints <- t(data.matrix(selectedPoints))\n",
    "newMean <- drop(matSelectedPoints %*% weights)\n",
    "newMean"
   ]
  },
  {
   "cell_type": "code",
   "execution_count": null,
   "metadata": {},
   "outputs": [],
   "source": [
    "FtHistory[histHead] = Ft\n",
    "oldFt <- Ft"
   ]
  },
  {
   "cell_type": "code",
   "execution_count": null,
   "metadata": {},
   "outputs": [],
   "source": [
    "muMean <- newMean\n",
    "dMean[,histHead] <- (muMean - popMean) / Ft\n",
    "dMean"
   ]
  },
  {
   "cell_type": "code",
   "execution_count": null,
   "metadata": {},
   "outputs": [],
   "source": [
    "step <- (newMean - oldMean) / Ft\n",
    "step"
   ]
  },
  {
   "cell_type": "code",
   "execution_count": null,
   "metadata": {},
   "outputs": [],
   "source": [
    "cp <- 1/sqrt(point_dim)\n",
    "pc[,histHead] = (1 - cp)* rep(0.0, N)/sqrt(N) + sqrt(mu * cp * (2-cp))* step\n",
    "pc"
   ]
  },
  {
   "cell_type": "code",
   "execution_count": null,
   "metadata": {},
   "outputs": [],
   "source": [
    "limit <- ifelse(iter < histSize, histHead, histSize)\n",
    "historySample <- sample(1:limit,lambda, T)\n",
    "historySample2 <- sample(1:limit,lambda, T)"
   ]
  },
  {
   "cell_type": "code",
   "execution_count": null,
   "metadata": {},
   "outputs": [],
   "source": [
    "history"
   ]
  },
  {
   "cell_type": "code",
   "execution_count": null,
   "metadata": {},
   "outputs": [],
   "source": [
    "x1sample <- sampleFromHistory(history,historySample,lambda)\n",
    "x2sample <- sampleFromHistory(history,historySample,lambda)"
   ]
  },
  {
   "cell_type": "code",
   "execution_count": null,
   "metadata": {},
   "outputs": [],
   "source": [
    "## Make diffs\n",
    "for (i in 1:lambda) {\n",
    "    print(i)\n",
    "    x1 <- history[[historySample[i]]][,x1sample[i]]\n",
    "    x2 <- history[[historySample[i]]][,x2sample[i]]\n",
    "\n",
    "    diffs[,i] <- sqrt(cc)*( (x1 - x2) + rnorm(1)*dMean[,historySample[i]] ) + sqrt(1-cc) * rnorm(1)*pc[,historySample2[i]]\n",
    "\n",
    "}"
   ]
  },
  {
   "cell_type": "code",
   "execution_count": null,
   "metadata": {},
   "outputs": [],
   "source": [
    "dMean"
   ]
  },
  {
   "cell_type": "code",
   "execution_count": null,
   "metadata": {},
   "outputs": [],
   "source": [
    "[historySample[1]]"
   ]
  },
  {
   "cell_type": "code",
   "execution_count": null,
   "metadata": {},
   "outputs": [],
   "source": [
    "history"
   ]
  },
  {
   "cell_type": "markdown",
   "metadata": {},
   "source": [
    "# DES - kopia"
   ]
  },
  {
   "cell_type": "code",
   "execution_count": 1,
   "metadata": {},
   "outputs": [],
   "source": [
    "# ARGS\n",
    "sum_of_squares<-function(point){\n",
    "   sum <- 0.0        \n",
    "   for(p in point)\n",
    "   {\n",
    "     sum <- sum + p^2\n",
    "   }\n",
    "   return(sum)\n",
    "}\n",
    "\n",
    "fn <- sum_of_squares\n",
    "N <- 3"
   ]
  },
  {
   "cell_type": "code",
   "execution_count": 2,
   "metadata": {},
   "outputs": [],
   "source": [
    "library(\"ringbuffer\")"
   ]
  },
  {
   "cell_type": "code",
   "execution_count": 23,
   "metadata": {},
   "outputs": [],
   "source": [
    "## Function to check the presence of options in the arguments specified by the user\n",
    "# @name - argument name\n",
    "# @default - default value of the argument\n",
    "# RETURN: value specified by user if the given argument name found, default value otherwise\n",
    "##\n",
    "controlParam <- function(name, default) {\n",
    "v <- control[[name]]\n",
    "if (is.null(v))\n",
    "  return (default)\n",
    "else\n",
    "  return (v)\n",
    "}\n",
    "                                                  ## Number of dimensions\n",
    "## Check if user specified box constraints values.\n",
    "## If not accept the default values.\n",
    "lower <- rep(-100, N)\n",
    "upper <- rep(100, N)\n",
    "\n",
    "\n",
    "bounceBackBoundary2 <- function(x){\n",
    "if(all(x >= cbind(lower)) && all(x <= cbind(upper)))\n",
    "  return (x)\n",
    "else if(any(x < cbind(lower)))\n",
    "  for(i in which(x < cbind(lower)) )\n",
    "    x[i] <- lower[i] + abs(lower[i] - x[i])%% (upper[i]- lower[i])\n",
    "  else if(any(x > cbind(upper)))\n",
    "    for(i in which(x > cbind(upper)) )\n",
    "      x[i] <- upper[i] - abs(upper[i] - x[i])%% (upper[i]- lower[i])\n",
    "    x <-deleteInfsNaNs(x)\n",
    "    return (bounceBackBoundary2(x))\n",
    "}\n",
    "\n",
    "sampleFromHistory <- function(history,historySample,lambda){\n",
    "  ret <- c()\n",
    "  for(i in 1:lambda)\n",
    "    ret <- c(ret,sample(1:ncol(history[[historySample[i]]]), 1))\n",
    "  return(ret)\n",
    "}\n",
    "\n",
    "deleteInfsNaNs <- function(x){\n",
    "  x[is.na(x)] <- .Machine$double.xmax\n",
    "  x[is.infinite(x)] <- .Machine$double.xmax\n",
    "  return(x)\n",
    "}"
   ]
  },
  {
   "cell_type": "code",
   "execution_count": 24,
   "metadata": {},
   "outputs": [],
   "source": [
    "Ft          <- 1                                ## Scaling factor of difference vectors (a variable!)\n",
    "initFt      <- 1\n",
    "stopfitness <-  -Inf                    ## Fitness value after which the convergence is reached\n",
    "## Strategy parameter setting:\n",
    "budget      <- 10000*N                     ## The maximum number of fitness function calls\n",
    "initlambda  <- 4*N       \t\t      ## Population starting size\n",
    "minlambda   <- 4*N                       ## Population ending size\n",
    "lambda      <- initlambda                                           ## Population size\n",
    "mu          <- floor(lambda/2)                  ## Selection size\n",
    "weights     <- log(mu+1) - log(1:mu)       ## Weights to calculate mean from selected individuals\n",
    "weights     <- weights/sum(weights)                                 ##    \\-> weights are normalized by the sum\n",
    "weightsSumS <- sum(weights^2)                                       ## weights sum square\n",
    "mueff       <- sum(weights)^2/sum(weights^2) ## Variance effectiveness factor\n",
    "cc          <- mu/(mu+2)                      ## Evolution Path decay factor\n",
    "pathLength  <- 6                       ## Size of evolution path\n",
    "cp          <- 1/sqrt(N)                        ## Evolution Path decay factor\n",
    "maxiter     <- floor(budget/(lambda+1))      ## Maximum number of iterations after which algorithm stops\n",
    "c_Ft        <- 0\n",
    "pathRatio   <- sqrt(pathLength)           ## Path Length Control reference value\n",
    "histSize    <- ceiling(6+ceiling(3*sqrt(N)))## Size of the window of history - the step length history\n",
    "Ft_scale    <- ((mueff+2)/(N+mueff+3))/(1 + 2*max(0, sqrt((mueff-1)/(N+1))-1) + (mueff+2)/(N+mueff+3))\n",
    "tol         <- 10^-6\n",
    "counteval   <- 0                                                    ## Number of function evaluations\n",
    "sqrt_N      <- sqrt(N)"
   ]
  },
  {
   "cell_type": "code",
   "execution_count": 25,
   "metadata": {},
   "outputs": [],
   "source": [
    "Lamarckism <- FALSE\n",
    "\n",
    "## Fitness function wrapper\n",
    "fn_ <- function(x){\n",
    "if(all(x >= cbind(lower)) && all(x <= cbind(upper))){\n",
    "  counteval <<- counteval + 1\n",
    "  return (fn(x))\n",
    "}\n",
    "else\n",
    "  return(.Machine$double.xmax)\n",
    "}\n",
    "\n",
    "## Fitness function wrapper for Lamarcian approach\n",
    "fn_l <- function(P){\n",
    "if(is.matrix(P)){\n",
    "  if(counteval + ncol(P) <= budget)\n",
    "    return ( apply(P, 2, fn_) )\n",
    "  else{\n",
    "    ret <- c()\n",
    "    budLeft <- budget-counteval\n",
    "    for (i in 1:budLeft ) {\n",
    "      ret <- c(ret,fn_(P[,i]))\n",
    "    }\n",
    "    return(c(ret,rep(.Machine$double.xmax,ncol(P)-budLeft)))\n",
    "  }\n",
    "}else{\n",
    "  if(counteval < budget)\n",
    "    return ( fn_(P) )\n",
    "  else\n",
    "    return(.Machine$double.xmax)\n",
    "}\n",
    "}\n",
    "\n",
    "## Fitness function wrapper for nonLamarckian approach\n",
    "fn_d <- function(P, P_repaired, fitness) {\n",
    "P <- deleteInfsNaNs(P)\n",
    "P_repaired <- deleteInfsNaNs(P_repaired)\n",
    "\n",
    "if(is.matrix(P) && is.matrix(P_repaired)){\n",
    "  repairedInd <- apply(P!=P_repaired,2,all)\n",
    "  P_fit <- fitness\n",
    "  vecDist <- colSums((P - P_repaired)^2)\n",
    "  P_fit[which(repairedInd)] <- worst.fit + vecDist[which(repairedInd)]\n",
    "  P_fit <- deleteInfsNaNs(P_fit)\n",
    "  return(P_fit)\n",
    "}else{\n",
    "  P_fit <- fitness\n",
    "  if (P!=P_repaired){\n",
    "    P_fit <- worst.fit + (sum(P-P_repaired)^2)\n",
    "    P_fit <- deleteInfsNaNs(P_fit)\n",
    "  }\n",
    "  return (P_fit)\n",
    "}\n",
    "\n",
    "}"
   ]
  },
  {
   "cell_type": "code",
   "execution_count": 26,
   "metadata": {},
   "outputs": [],
   "source": [
    "best.fit        <- Inf                  ## The best fitness found so far\n",
    "best.par        <- NULL                 ## The best solution found so far\n",
    "worst.fit       <- NULL                 ## The worst solution found so far:\n",
    "last.restart    <-0\n",
    "restart.length  <-0\n",
    "restart.number  <-0"
   ]
  },
  {
   "cell_type": "code",
   "execution_count": 27,
   "metadata": {},
   "outputs": [],
   "source": [
    "steps       <- ringbuffer(size = pathLength*N)                      ## Cyclical buffer containing last 'pathLength' steps of algorithm\n",
    "dMean       <- array(0, dim=c(N,histSize))\n",
    "FtHistory   <- array(0, histSize)                                   ## Array buffer containing 'histSize' last values of 'Ft'\n",
    "pc       <- array(0, dim=c(N,histSize))\n",
    "\n",
    "## Initialize internal strategy parameters\n",
    "msg             <- NULL                                             ## Reason for terminating\n",
    "restart.number  <- -1"
   ]
  },
  {
   "cell_type": "code",
   "execution_count": 28,
   "metadata": {},
   "outputs": [],
   "source": [
    "lambda          <- 50\n",
    "mu              <- floor(lambda/2)\n",
    "weights         <- log(mu+1) - log(1:mu)\n",
    "weights         <- weights/sum(weights)\n",
    "weightsPop      <- log(lambda+1) - log(1:lambda)\n",
    "weightsPop      <- weightsPop/sum(weightsPop)\n",
    "\n",
    "histHead    <- 0                                                      ## Pointer to the history buffer head\n",
    "iter        <- 0L                                                     ## Number of iterations\n",
    "history     <- list()                                                 ## List stores best 'mu'(variable) individuals for 'hsize' recent iterations\n",
    "Ft          <- initFt\n",
    "\n",
    "# Create fisrt population\n",
    "population <- replicate(lambda, runif(N,0.8*lower,0.8*upper))\n",
    "cumMean=(upper+lower)/2\n",
    "# populationRepaired <- apply(population,2,bounceBackBoundary2)\n",
    "\n",
    "# if(Lamarckism==TRUE){\n",
    "#   population <- populationRepaired\n",
    "# }\n",
    "\n",
    "selection       <- rep(0, mu)\n",
    "selectedPoints  <- matrix(0, nrow=N, ncol=mu)\n",
    "fitness         <- fn_l(population)\n",
    "oldMean         <- numeric(N)\n",
    "newMean         <- c(10,10,10)\n",
    "limit           <- 0\n",
    "worst.fit       <- max(fitness)\n",
    "\n",
    "# Store population and selection means\n",
    "popMean         <- drop(population %*% weightsPop)\n",
    "muMean          <- newMean\n",
    "\n",
    "## Matrices for creating diffs\n",
    "diffs     <- matrix(0, N, lambda)\n",
    "x1sample  <- numeric(lambda)\n",
    "x2sample  <- numeric(lambda)\n",
    "\n",
    "chiN      <- (sqrt(2)*gamma((N+1)/2)/gamma(N/2))\n",
    "histNorm  <- 1/sqrt(2)\n",
    "counterRepaired <- 0\n",
    "\n",
    "stoptol=F"
   ]
  },
  {
   "cell_type": "code",
   "execution_count": 29,
   "metadata": {},
   "outputs": [],
   "source": [
    "# WHILE starts"
   ]
  },
  {
   "cell_type": "code",
   "execution_count": 30,
   "metadata": {},
   "outputs": [
    {
     "data": {
      "text/html": [
       "<table>\n",
       "<caption>A matrix: 3 × 50 of type dbl</caption>\n",
       "<tbody>\n",
       "\t<tr><td>-13.17548</td><td>-53.10392</td><td> 76.27985</td><td>11.357417</td><td> -4.670647</td><td>-27.909800</td><td>  2.390076</td><td>-14.56116</td><td>-24.01764</td><td> 39.86708</td><td>...</td><td> 14.87888</td><td>19.30104</td><td>-14.404668</td><td>-68.72108</td><td> 30.699182</td><td> 54.18268</td><td> 10.69644</td><td>30.94558</td><td>-66.18250</td><td>  9.962519</td></tr>\n",
       "\t<tr><td> 62.94346</td><td>-43.31482</td><td> 40.37250</td><td>46.078297</td><td>-25.178938</td><td> -3.659226</td><td> 77.713198</td><td> 31.51500</td><td> 66.09670</td><td> 20.74519</td><td>...</td><td> 50.15714</td><td>76.09537</td><td>  7.581243</td><td> 70.44468</td><td>  7.404058</td><td>-65.52662</td><td>-78.31497</td><td>23.39124</td><td>-55.02284</td><td>-34.522131</td></tr>\n",
       "\t<tr><td>-69.18472</td><td> 18.34165</td><td>-22.74644</td><td>-6.133448</td><td> 38.207383</td><td>-51.931039</td><td>-52.539052</td><td>-18.19076</td><td> 41.08242</td><td>-68.10708</td><td>...</td><td>-22.72004</td><td>51.60320</td><td> 50.932125</td><td>-21.35658</td><td>-10.604431</td><td>-18.29960</td><td>-62.73741</td><td>57.13145</td><td>-52.05034</td><td>-69.256650</td></tr>\n",
       "</tbody>\n",
       "</table>\n"
      ],
      "text/latex": [
       "A matrix: 3 × 50 of type dbl\n",
       "\\begin{tabular}{lllllllllllllllllllll}\n",
       "\t -13.17548 & -53.10392 &  76.27985 & 11.357417 &  -4.670647 & -27.909800 &   2.390076 & -14.56116 & -24.01764 &  39.86708 & ... &  14.87888 & 19.30104 & -14.404668 & -68.72108 &  30.699182 &  54.18268 &  10.69644 & 30.94558 & -66.18250 &   9.962519\\\\\n",
       "\t  62.94346 & -43.31482 &  40.37250 & 46.078297 & -25.178938 &  -3.659226 &  77.713198 &  31.51500 &  66.09670 &  20.74519 & ... &  50.15714 & 76.09537 &   7.581243 &  70.44468 &   7.404058 & -65.52662 & -78.31497 & 23.39124 & -55.02284 & -34.522131\\\\\n",
       "\t -69.18472 &  18.34165 & -22.74644 & -6.133448 &  38.207383 & -51.931039 & -52.539052 & -18.19076 &  41.08242 & -68.10708 & ... & -22.72004 & 51.60320 &  50.932125 & -21.35658 & -10.604431 & -18.29960 & -62.73741 & 57.13145 & -52.05034 & -69.256650\\\\\n",
       "\\end{tabular}\n"
      ],
      "text/markdown": [
       "\n",
       "A matrix: 3 × 50 of type dbl\n",
       "\n",
       "| -13.17548 | -53.10392 |  76.27985 | 11.357417 |  -4.670647 | -27.909800 |   2.390076 | -14.56116 | -24.01764 |  39.86708 | ... |  14.87888 | 19.30104 | -14.404668 | -68.72108 |  30.699182 |  54.18268 |  10.69644 | 30.94558 | -66.18250 |   9.962519 |\n",
       "|  62.94346 | -43.31482 |  40.37250 | 46.078297 | -25.178938 |  -3.659226 |  77.713198 |  31.51500 |  66.09670 |  20.74519 | ... |  50.15714 | 76.09537 |   7.581243 |  70.44468 |   7.404058 | -65.52662 | -78.31497 | 23.39124 | -55.02284 | -34.522131 |\n",
       "| -69.18472 |  18.34165 | -22.74644 | -6.133448 |  38.207383 | -51.931039 | -52.539052 | -18.19076 |  41.08242 | -68.10708 | ... | -22.72004 | 51.60320 |  50.932125 | -21.35658 | -10.604431 | -18.29960 | -62.73741 | 57.13145 | -52.05034 | -69.256650 |\n",
       "\n"
      ],
      "text/plain": [
       "     [,1]      [,2]      [,3]      [,4]      [,5]       [,6]       [,7]      \n",
       "[1,] -13.17548 -53.10392  76.27985 11.357417  -4.670647 -27.909800   2.390076\n",
       "[2,]  62.94346 -43.31482  40.37250 46.078297 -25.178938  -3.659226  77.713198\n",
       "[3,] -69.18472  18.34165 -22.74644 -6.133448  38.207383 -51.931039 -52.539052\n",
       "     [,8]      [,9]      [,10]     [,11] [,12]     [,13]    [,14]     \n",
       "[1,] -14.56116 -24.01764  39.86708 ...    14.87888 19.30104 -14.404668\n",
       "[2,]  31.51500  66.09670  20.74519 ...    50.15714 76.09537   7.581243\n",
       "[3,] -18.19076  41.08242 -68.10708 ...   -22.72004 51.60320  50.932125\n",
       "     [,15]     [,16]      [,17]     [,18]     [,19]    [,20]     [,21]     \n",
       "[1,] -68.72108  30.699182  54.18268  10.69644 30.94558 -66.18250   9.962519\n",
       "[2,]  70.44468   7.404058 -65.52662 -78.31497 23.39124 -55.02284 -34.522131\n",
       "[3,] -21.35658 -10.604431 -18.29960 -62.73741 57.13145 -52.05034 -69.256650"
      ]
     },
     "metadata": {},
     "output_type": "display_data"
    }
   ],
   "source": [
    "population"
   ]
  },
  {
   "cell_type": "code",
   "execution_count": 31,
   "metadata": {},
   "outputs": [],
   "source": [
    "iter      <- iter + 1L\n",
    "histHead  <- (histHead %% histSize) + 1\n",
    "\n",
    "lambda <- lambda\n",
    "#lambda      <- round(((minlambda-initlambda)/budget)*counteval+initlambda)\n",
    "mu          <- floor(lambda/2)\n",
    "weights <- log(mu+1) - log(1:mu)\n",
    "weights <- weights/sum(weights)\n",
    "\n",
    "selection       <- order(fitness)[1:mu]\n",
    "selectedPoints  <- population[,selection]\n",
    "\n",
    "# Save selected population in the history buffer\n",
    "history[[histHead]] <- array(0,dim=c(N,mu))\n",
    "history[[histHead]] <- selectedPoints * histNorm/Ft\n",
    "\n",
    "## Calculate weighted mean of selected points\n",
    "oldMean <- newMean\n",
    "newMean <- drop(selectedPoints %*% weights)\n",
    "\n",
    "## Write to buffers\n",
    "muMean <- newMean\n",
    "dMean[,histHead] <- (muMean - popMean) / Ft\n",
    "\n",
    "step <- (newMean - oldMean) / Ft\n",
    "\n",
    "## Update Ft\n",
    "FtHistory[histHead] = Ft\n",
    "oldFt <- Ft"
   ]
  },
  {
   "cell_type": "code",
   "execution_count": 32,
   "metadata": {},
   "outputs": [],
   "source": [
    "if(histHead==1){\n",
    "pc[,histHead] = (1 - cp)* rep(0.0, N)/sqrt(N) + sqrt(mu * cp * (2-cp))* step\n",
    "}else{\n",
    "pc[,histHead] = (1 - cp)* pc[,histHead-1] + sqrt(mu * cp * (2-cp))* step\n",
    "}\n",
    "## Sample from history with uniform distribution\n",
    "limit <- ifelse(iter < histSize, histHead, histSize)\n",
    "historySample <- sample(1:limit,lambda, T)\n",
    "historySample2 <- sample(1:limit,lambda, T)\n",
    "\n",
    "x1sample <- sampleFromHistory(history,historySample,lambda)\n",
    "x2sample <- sampleFromHistory(history,historySample,lambda)\n",
    "\n",
    "## Make diffs\n",
    "for (i in 1:lambda) {\n",
    "x1 <- history[[historySample[i]]][,x1sample[i]]\n",
    "x2 <- history[[historySample[i]]][,x2sample[i]]\n",
    "\n",
    "diffs[,i] <- sqrt(cc)*( (x1 - x2) + rnorm(1)*dMean[,historySample[i]] ) + sqrt(1-cc) * rnorm(1)*pc[,historySample2[i]]\n",
    "\n",
    "}\n",
    "\n",
    "## New population\n",
    "population <- newMean + Ft * diffs + tol*rnorm(diffs)/chiN\n",
    "population <- deleteInfsNaNs(population)\n",
    "\n",
    "# Check constraints violations\n",
    "# Repair the individual if necessary\n",
    "populationTemp <- population\n",
    "populationRepaired <- apply(population,2,bounceBackBoundary2)\n",
    "\n",
    "counterRepaired=0\n",
    "for(tt in 1:ncol(populationTemp)){\n",
    "if(any(populationTemp[,tt] != populationRepaired[,tt]))\n",
    "  counterRepaired = counterRepaired + 1\n",
    "}\n",
    "\n",
    "if(Lamarckism==TRUE){\n",
    "population <- populationRepaired\n",
    "}\n",
    "\n",
    "popMean <- drop(population %*% weightsPop)\n",
    "\n",
    "## Evaluation\n",
    "fitness <- fn_l(population)\n",
    "if(Lamarckism==FALSE){\n",
    "fitnessNonLamarcian <- fn_d(population, populationRepaired, fitness)\n",
    "}\n",
    "\n",
    "## Break if fit :\n",
    "wb <- which.min(fitness)\n",
    "if (fitness[wb] < best.fit) {\n",
    "best.fit <- fitness[wb]\n",
    "if(Lamarckism==TRUE)\n",
    "  best.par <- population[,wb]\n",
    "else\n",
    "  best.par <- populationRepaired[,wb]\n",
    "}\n",
    "\n",
    "## Check worst fit:\n",
    "ww <- which.max(fitness)\n",
    "if (fitness[ww] > worst.fit){\n",
    "worst.fit <- fitness[ww]\n",
    "}\n",
    "\n",
    "## Fitness with penalty for nonLamarcian approach\n",
    "if(Lamarckism==FALSE){\n",
    "fitness <- fitnessNonLamarcian\n",
    "}\n",
    "\n",
    "\n",
    "## Check if the middle point is the best found so far\n",
    "cumMean <- 0.8*cumMean+0.2*newMean\n",
    "cumMeanRepaired <-bounceBackBoundary2(cumMean)\n",
    "\n",
    "fn_cum  <- fn_l(cumMeanRepaired)\n",
    "if (fn_cum < best.fit) {\n",
    "best.fit <- drop(fn_cum)\n",
    "best.par <- cumMeanRepaired\n",
    "}\n",
    "\n",
    "## Escape from flat-land:\n",
    "#if (min(fitness) == sort(fitness,partial=min(1+floor(lambda/2), 2+ceiling(lambda/4)))[min(1+floor(lambda/2), 2+ceiling(lambda/4))]) {\n",
    "#  Ft <- Ft * exp(0.2*Ft_scale);\n",
    "#}\n",
    "\n",
    "if (fitness[1] <= stopfitness) {\n",
    "msg <- \"Stop fitness reached.\"\n",
    "break\n",
    "}\n",
    "\n",
    "if(abs(range(fitness)[2] - range(fitness)[1]) < tol)\n",
    "{\n",
    "if (counteval < 0.8*budget)\n",
    "  stoptol=T\n",
    "}"
   ]
  },
  {
   "cell_type": "code",
   "execution_count": 34,
   "metadata": {},
   "outputs": [
    {
     "data": {
      "text/html": [
       "<table>\n",
       "<caption>A matrix: 3 × 50 of type dbl</caption>\n",
       "<tbody>\n",
       "\t<tr><td>17.51110</td><td>-28.998623</td><td> 29.097916</td><td>-14.08666</td><td>-56.75207</td><td>64.030123</td><td>-67.625241</td><td>39.45370</td><td>22.24808</td><td> 3.6319419</td><td>...</td><td>-19.807510</td><td> 47.06330</td><td>-39.80114</td><td> 26.3885760</td><td>-18.45710</td><td>-12.825907</td><td> 58.28964</td><td>-28.86170</td><td>-17.690594</td><td>-13.79157</td></tr>\n",
       "\t<tr><td>19.60804</td><td>  1.986796</td><td>-35.179922</td><td>-16.47040</td><td>-12.32426</td><td>33.620889</td><td> -2.635209</td><td>88.50919</td><td>16.72493</td><td>23.9157890</td><td>...</td><td> 79.458792</td><td> 13.88332</td><td>-49.90476</td><td> -0.8790023</td><td>-20.02077</td><td> -2.771494</td><td> 13.46975</td><td> -7.82110</td><td>-42.307188</td><td> 38.15609</td></tr>\n",
       "\t<tr><td>73.98926</td><td> 44.037662</td><td>  1.697442</td><td>-26.67918</td><td>-86.82457</td><td> 3.165437</td><td> 21.669500</td><td>78.75957</td><td>31.14066</td><td>-0.6469578</td><td>...</td><td>  6.600824</td><td>-14.99615</td><td> 18.85075</td><td>-34.1762635</td><td>-18.49580</td><td>-56.113205</td><td>-45.70738</td><td>-53.52491</td><td>  7.694993</td><td> 15.54533</td></tr>\n",
       "</tbody>\n",
       "</table>\n"
      ],
      "text/latex": [
       "A matrix: 3 × 50 of type dbl\n",
       "\\begin{tabular}{lllllllllllllllllllll}\n",
       "\t 17.51110 & -28.998623 &  29.097916 & -14.08666 & -56.75207 & 64.030123 & -67.625241 & 39.45370 & 22.24808 &  3.6319419 & ... & -19.807510 &  47.06330 & -39.80114 &  26.3885760 & -18.45710 & -12.825907 &  58.28964 & -28.86170 & -17.690594 & -13.79157\\\\\n",
       "\t 19.60804 &   1.986796 & -35.179922 & -16.47040 & -12.32426 & 33.620889 &  -2.635209 & 88.50919 & 16.72493 & 23.9157890 & ... &  79.458792 &  13.88332 & -49.90476 &  -0.8790023 & -20.02077 &  -2.771494 &  13.46975 &  -7.82110 & -42.307188 &  38.15609\\\\\n",
       "\t 73.98926 &  44.037662 &   1.697442 & -26.67918 & -86.82457 &  3.165437 &  21.669500 & 78.75957 & 31.14066 & -0.6469578 & ... &   6.600824 & -14.99615 &  18.85075 & -34.1762635 & -18.49580 & -56.113205 & -45.70738 & -53.52491 &   7.694993 &  15.54533\\\\\n",
       "\\end{tabular}\n"
      ],
      "text/markdown": [
       "\n",
       "A matrix: 3 × 50 of type dbl\n",
       "\n",
       "| 17.51110 | -28.998623 |  29.097916 | -14.08666 | -56.75207 | 64.030123 | -67.625241 | 39.45370 | 22.24808 |  3.6319419 | ... | -19.807510 |  47.06330 | -39.80114 |  26.3885760 | -18.45710 | -12.825907 |  58.28964 | -28.86170 | -17.690594 | -13.79157 |\n",
       "| 19.60804 |   1.986796 | -35.179922 | -16.47040 | -12.32426 | 33.620889 |  -2.635209 | 88.50919 | 16.72493 | 23.9157890 | ... |  79.458792 |  13.88332 | -49.90476 |  -0.8790023 | -20.02077 |  -2.771494 |  13.46975 |  -7.82110 | -42.307188 |  38.15609 |\n",
       "| 73.98926 |  44.037662 |   1.697442 | -26.67918 | -86.82457 |  3.165437 |  21.669500 | 78.75957 | 31.14066 | -0.6469578 | ... |   6.600824 | -14.99615 |  18.85075 | -34.1762635 | -18.49580 | -56.113205 | -45.70738 | -53.52491 |   7.694993 |  15.54533 |\n",
       "\n"
      ],
      "text/plain": [
       "     [,1]     [,2]       [,3]       [,4]      [,5]      [,6]      [,7]      \n",
       "[1,] 17.51110 -28.998623  29.097916 -14.08666 -56.75207 64.030123 -67.625241\n",
       "[2,] 19.60804   1.986796 -35.179922 -16.47040 -12.32426 33.620889  -2.635209\n",
       "[3,] 73.98926  44.037662   1.697442 -26.67918 -86.82457  3.165437  21.669500\n",
       "     [,8]     [,9]     [,10]      [,11] [,12]      [,13]     [,14]    \n",
       "[1,] 39.45370 22.24808  3.6319419 ...   -19.807510  47.06330 -39.80114\n",
       "[2,] 88.50919 16.72493 23.9157890 ...    79.458792  13.88332 -49.90476\n",
       "[3,] 78.75957 31.14066 -0.6469578 ...     6.600824 -14.99615  18.85075\n",
       "     [,15]       [,16]     [,17]      [,18]     [,19]     [,20]      [,21]    \n",
       "[1,]  26.3885760 -18.45710 -12.825907  58.28964 -28.86170 -17.690594 -13.79157\n",
       "[2,]  -0.8790023 -20.02077  -2.771494  13.46975  -7.82110 -42.307188  38.15609\n",
       "[3,] -34.1762635 -18.49580 -56.113205 -45.70738 -53.52491   7.694993  15.54533"
      ]
     },
     "metadata": {},
     "output_type": "display_data"
    }
   ],
   "source": [
    "population"
   ]
  },
  {
   "cell_type": "code",
   "execution_count": 33,
   "metadata": {},
   "outputs": [
    {
     "data": {
      "text/plain": [
       "$par\n",
       "[1] 0.33735182 0.14577276 0.04698772\n",
       "\n",
       "$value\n",
       "[1] 0.1372638\n",
       "\n",
       "$counts\n",
       "function \n",
       "     101 \n",
       "\n",
       "$resets\n",
       "[1] -1\n",
       "\n",
       "$convergence\n",
       "[1] 0\n",
       "\n",
       "$message\n",
       "NULL\n",
       "\n",
       "$diagnostic\n",
       "function (x, base = exp(1))  .Primitive(\"log\")\n",
       "\n",
       "attr(,\"class\")\n",
       "[1] \"cmade.result\""
      ]
     },
     "metadata": {},
     "output_type": "display_data"
    }
   ],
   "source": [
    "cnt <- c(`function`=as.integer(counteval))\n",
    "\n",
    "## Drop names from value object\n",
    "names(best.fit) <- NULL\n",
    "res <- list(par=best.par,\n",
    "          value=best.fit,\n",
    "          counts=cnt,\n",
    "          resets=restart.number,\n",
    "          convergence=ifelse(iter >= maxiter, 1L, 0L),\n",
    "          message=msg,\n",
    "          diagnostic=log\n",
    ")\n",
    "class(res) <- \"cmade.result\"\n",
    "\n",
    "return(res)"
   ]
  },
  {
   "cell_type": "code",
   "execution_count": null,
   "metadata": {},
   "outputs": [],
   "source": []
  }
 ],
 "metadata": {
  "kernelspec": {
   "display_name": "R",
   "language": "R",
   "name": "ir"
  },
  "language_info": {
   "codemirror_mode": "r",
   "file_extension": ".r",
   "mimetype": "text/x-r-source",
   "name": "R",
   "pygments_lexer": "r",
   "version": "3.6.3"
  }
 },
 "nbformat": 4,
 "nbformat_minor": 4
}
