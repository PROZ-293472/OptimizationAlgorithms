{
 "cells": [
  {
   "cell_type": "code",
   "execution_count": 31,
   "metadata": {},
   "outputs": [
    {
     "data": {
      "text/html": [
       "<style>\n",
       ".list-inline {list-style: none; margin:0; padding: 0}\n",
       ".list-inline>li {display: inline-block}\n",
       ".list-inline>li:not(:last-child)::after {content: \"\\00b7\"; padding: 0 .5ex}\n",
       "</style>\n",
       "<ol class=list-inline><li>2.30258509299405</li><li>1.6094379124341</li><li>1.20397280432594</li><li>0.916290731874155</li><li>0.693147180559946</li><li>0.510825623765991</li><li>0.356674943938733</li><li>0.22314355131421</li><li>0.105360515657826</li><li>0</li></ol>\n"
      ],
      "text/latex": [
       "\\begin{enumerate*}\n",
       "\\item 2.30258509299405\n",
       "\\item 1.6094379124341\n",
       "\\item 1.20397280432594\n",
       "\\item 0.916290731874155\n",
       "\\item 0.693147180559946\n",
       "\\item 0.510825623765991\n",
       "\\item 0.356674943938733\n",
       "\\item 0.22314355131421\n",
       "\\item 0.105360515657826\n",
       "\\item 0\n",
       "\\end{enumerate*}\n"
      ],
      "text/markdown": [
       "1. 2.30258509299405\n",
       "2. 1.6094379124341\n",
       "3. 1.20397280432594\n",
       "4. 0.916290731874155\n",
       "5. 0.693147180559946\n",
       "6. 0.510825623765991\n",
       "7. 0.356674943938733\n",
       "8. 0.22314355131421\n",
       "9. 0.105360515657826\n",
       "10. 0\n",
       "\n",
       "\n"
      ],
      "text/plain": [
       " [1] 2.3025851 1.6094379 1.2039728 0.9162907 0.6931472 0.5108256 0.3566749\n",
       " [8] 0.2231436 0.1053605 0.0000000"
      ]
     },
     "metadata": {},
     "output_type": "display_data"
    }
   ],
   "source": [
    "mu <- 10\n",
    "log(mu) - log(1:mu)"
   ]
  },
  {
   "cell_type": "code",
   "execution_count": 5,
   "metadata": {},
   "outputs": [
    {
     "name": "stderr",
     "output_type": "stream",
     "text": [
      "hash-2.2.6.1 provided by Decision Patterns\n",
      "\n",
      "\n"
     ]
    }
   ],
   "source": [
    "source('Classes.R')"
   ]
  },
  {
   "cell_type": "code",
   "execution_count": 6,
   "metadata": {},
   "outputs": [],
   "source": [
    "gen_random_population <- function(size=lambda, scaler=1){\n",
    "    coordinates <- scaler * replicate(size, runif(n = point_dim, min = -1, max = 1))\n",
    "    fitness <- c()\n",
    "    for(i in 1:dim(coordinates)[2]){\n",
    "        fitness[i]<-objective_fun$evaluate(coordinates[,i])\n",
    "    }\n",
    "    population <- data.frame(t(coordinates), fitness)\n",
    "    return(population)\n",
    "}"
   ]
  },
  {
   "cell_type": "code",
   "execution_count": 7,
   "metadata": {},
   "outputs": [],
   "source": [
    "sum_of_squares<-function(point){\n",
    "   sum <- 0.0        \n",
    "   for(p in point)\n",
    "   {\n",
    "     sum <- sum + p^2\n",
    "   }\n",
    "   return(sum)\n",
    "}"
   ]
  },
  {
   "cell_type": "code",
   "execution_count": 9,
   "metadata": {},
   "outputs": [],
   "source": [
    "lambda <- 10\n",
    "point_dim <- 3\n",
    "objective_fun <- ObjectiveFunction$new(fun=sum_of_squares, dim=point_dim)\n",
    "pop <- gen_random_population()"
   ]
  },
  {
   "cell_type": "code",
   "execution_count": 10,
   "metadata": {},
   "outputs": [
    {
     "data": {
      "text/html": [
       "<table>\n",
       "<caption>A data.frame: 10 × 4</caption>\n",
       "<thead>\n",
       "\t<tr><th scope=col>X1</th><th scope=col>X2</th><th scope=col>X3</th><th scope=col>fitness</th></tr>\n",
       "\t<tr><th scope=col>&lt;dbl&gt;</th><th scope=col>&lt;dbl&gt;</th><th scope=col>&lt;dbl&gt;</th><th scope=col>&lt;dbl&gt;</th></tr>\n",
       "</thead>\n",
       "<tbody>\n",
       "\t<tr><td> 0.99834237</td><td> 0.79445473</td><td> 0.20331786</td><td>1.6691840</td></tr>\n",
       "\t<tr><td>-0.89924304</td><td>-0.18285012</td><td>-0.07443426</td><td>0.8476127</td></tr>\n",
       "\t<tr><td> 0.85710800</td><td> 0.05280463</td><td>-0.75742639</td><td>1.3111172</td></tr>\n",
       "\t<tr><td>-0.35359450</td><td>-0.50799305</td><td> 0.85691434</td><td>1.1173882</td></tr>\n",
       "\t<tr><td> 0.95877729</td><td>-0.66051286</td><td>-0.13057602</td><td>1.3725812</td></tr>\n",
       "\t<tr><td> 0.46261974</td><td> 0.16621689</td><td> 0.86368487</td><td>0.9875966</td></tr>\n",
       "\t<tr><td>-0.85960911</td><td>-0.48471807</td><td>-0.23052461</td><td>1.0270210</td></tr>\n",
       "\t<tr><td>-0.23578122</td><td>-0.30597524</td><td>-0.39677814</td><td>0.3066465</td></tr>\n",
       "\t<tr><td> 0.26536945</td><td> 0.98374946</td><td>-0.08639316</td><td>1.0456477</td></tr>\n",
       "\t<tr><td>-0.06536139</td><td>-0.50472676</td><td>-0.31049981</td><td>0.3554313</td></tr>\n",
       "</tbody>\n",
       "</table>\n"
      ],
      "text/latex": [
       "A data.frame: 10 × 4\n",
       "\\begin{tabular}{llll}\n",
       " X1 & X2 & X3 & fitness\\\\\n",
       " <dbl> & <dbl> & <dbl> & <dbl>\\\\\n",
       "\\hline\n",
       "\t  0.99834237 &  0.79445473 &  0.20331786 & 1.6691840\\\\\n",
       "\t -0.89924304 & -0.18285012 & -0.07443426 & 0.8476127\\\\\n",
       "\t  0.85710800 &  0.05280463 & -0.75742639 & 1.3111172\\\\\n",
       "\t -0.35359450 & -0.50799305 &  0.85691434 & 1.1173882\\\\\n",
       "\t  0.95877729 & -0.66051286 & -0.13057602 & 1.3725812\\\\\n",
       "\t  0.46261974 &  0.16621689 &  0.86368487 & 0.9875966\\\\\n",
       "\t -0.85960911 & -0.48471807 & -0.23052461 & 1.0270210\\\\\n",
       "\t -0.23578122 & -0.30597524 & -0.39677814 & 0.3066465\\\\\n",
       "\t  0.26536945 &  0.98374946 & -0.08639316 & 1.0456477\\\\\n",
       "\t -0.06536139 & -0.50472676 & -0.31049981 & 0.3554313\\\\\n",
       "\\end{tabular}\n"
      ],
      "text/markdown": [
       "\n",
       "A data.frame: 10 × 4\n",
       "\n",
       "| X1 &lt;dbl&gt; | X2 &lt;dbl&gt; | X3 &lt;dbl&gt; | fitness &lt;dbl&gt; |\n",
       "|---|---|---|---|\n",
       "|  0.99834237 |  0.79445473 |  0.20331786 | 1.6691840 |\n",
       "| -0.89924304 | -0.18285012 | -0.07443426 | 0.8476127 |\n",
       "|  0.85710800 |  0.05280463 | -0.75742639 | 1.3111172 |\n",
       "| -0.35359450 | -0.50799305 |  0.85691434 | 1.1173882 |\n",
       "|  0.95877729 | -0.66051286 | -0.13057602 | 1.3725812 |\n",
       "|  0.46261974 |  0.16621689 |  0.86368487 | 0.9875966 |\n",
       "| -0.85960911 | -0.48471807 | -0.23052461 | 1.0270210 |\n",
       "| -0.23578122 | -0.30597524 | -0.39677814 | 0.3066465 |\n",
       "|  0.26536945 |  0.98374946 | -0.08639316 | 1.0456477 |\n",
       "| -0.06536139 | -0.50472676 | -0.31049981 | 0.3554313 |\n",
       "\n"
      ],
      "text/plain": [
       "   X1          X2          X3          fitness  \n",
       "1   0.99834237  0.79445473  0.20331786 1.6691840\n",
       "2  -0.89924304 -0.18285012 -0.07443426 0.8476127\n",
       "3   0.85710800  0.05280463 -0.75742639 1.3111172\n",
       "4  -0.35359450 -0.50799305  0.85691434 1.1173882\n",
       "5   0.95877729 -0.66051286 -0.13057602 1.3725812\n",
       "6   0.46261974  0.16621689  0.86368487 0.9875966\n",
       "7  -0.85960911 -0.48471807 -0.23052461 1.0270210\n",
       "8  -0.23578122 -0.30597524 -0.39677814 0.3066465\n",
       "9   0.26536945  0.98374946 -0.08639316 1.0456477\n",
       "10 -0.06536139 -0.50472676 -0.31049981 0.3554313"
      ]
     },
     "metadata": {},
     "output_type": "display_data"
    }
   ],
   "source": [
    "pop"
   ]
  },
  {
   "cell_type": "code",
   "execution_count": 14,
   "metadata": {},
   "outputs": [
    {
     "data": {
      "text/html": [
       "1.66918396253377"
      ],
      "text/latex": [
       "1.66918396253377"
      ],
      "text/markdown": [
       "1.66918396253377"
      ],
      "text/plain": [
       "[1] 1.669184"
      ]
     },
     "metadata": {},
     "output_type": "display_data"
    }
   ],
   "source": [
    "max(pop$fitness)"
   ]
  },
  {
   "cell_type": "code",
   "execution_count": 17,
   "metadata": {},
   "outputs": [],
   "source": [
    "population_2_matrix <- function(df){\n",
    "    return(t(data.matrix(df[,!(names(df)=='fitness')])))\n",
    "}"
   ]
  },
  {
   "cell_type": "code",
   "execution_count": 19,
   "metadata": {},
   "outputs": [],
   "source": [
    "pop_mat <- population_2_matrix(pop)"
   ]
  },
  {
   "cell_type": "code",
   "execution_count": 21,
   "metadata": {},
   "outputs": [
    {
     "data": {
      "text/html": [
       "<style>\n",
       ".list-inline {list-style: none; margin:0; padding: 0}\n",
       ".list-inline>li {display: inline-block}\n",
       ".list-inline>li:not(:last-child)::after {content: \"\\00b7\"; padding: 0 .5ex}\n",
       "</style>\n",
       "<ol class=list-inline><li>10</li><li>3</li></ol>\n"
      ],
      "text/latex": [
       "\\begin{enumerate*}\n",
       "\\item 10\n",
       "\\item 3\n",
       "\\end{enumerate*}\n"
      ],
      "text/markdown": [
       "1. 10\n",
       "2. 3\n",
       "\n",
       "\n"
      ],
      "text/plain": [
       "[1] 10  3"
      ]
     },
     "metadata": {},
     "output_type": "display_data"
    }
   ],
   "source": [
    "pop_df <- data.frame(t(pop_mat))\n",
    "dim(pop_df)"
   ]
  },
  {
   "cell_type": "code",
   "execution_count": 28,
   "metadata": {},
   "outputs": [
    {
     "data": {
      "text/html": [
       "<style>\n",
       ".list-inline {list-style: none; margin:0; padding: 0}\n",
       ".list-inline>li {display: inline-block}\n",
       ".list-inline>li:not(:last-child)::after {content: \"\\00b7\"; padding: 0 .5ex}\n",
       "</style>\n",
       "<ol class=list-inline><li>1.66918396253377</li><li>0.84761267447142</li><li>1.31111717811103</li><li>1.11738819317455</li><li>1.37258123289527</li><li>0.987596643215548</li><li>1.0270210290184</li><li>0.306646526630296</li><li>1.04564771791395</li><li>0.355431343902669</li></ol>\n"
      ],
      "text/latex": [
       "\\begin{enumerate*}\n",
       "\\item 1.66918396253377\n",
       "\\item 0.84761267447142\n",
       "\\item 1.31111717811103\n",
       "\\item 1.11738819317455\n",
       "\\item 1.37258123289527\n",
       "\\item 0.987596643215548\n",
       "\\item 1.0270210290184\n",
       "\\item 0.306646526630296\n",
       "\\item 1.04564771791395\n",
       "\\item 0.355431343902669\n",
       "\\end{enumerate*}\n"
      ],
      "text/markdown": [
       "1. 1.66918396253377\n",
       "2. 0.84761267447142\n",
       "3. 1.31111717811103\n",
       "4. 1.11738819317455\n",
       "5. 1.37258123289527\n",
       "6. 0.987596643215548\n",
       "7. 1.0270210290184\n",
       "8. 0.306646526630296\n",
       "9. 1.04564771791395\n",
       "10. 0.355431343902669\n",
       "\n",
       "\n"
      ],
      "text/plain": [
       " [1] 1.6691840 0.8476127 1.3111172 1.1173882 1.3725812 0.9875966 1.0270210\n",
       " [8] 0.3066465 1.0456477 0.3554313"
      ]
     },
     "metadata": {},
     "output_type": "display_data"
    }
   ],
   "source": [
    "fitness <- c()\n",
    "for(i in 1:dim(pop_mat)[2]){\n",
    "    fitness[i]<-objective_fun$evaluate(pop_mat[,i])\n",
    "}\n",
    "fitness"
   ]
  },
  {
   "cell_type": "code",
   "execution_count": 29,
   "metadata": {},
   "outputs": [
    {
     "data": {
      "text/html": [
       "<table>\n",
       "<caption>A data.frame: 10 × 4</caption>\n",
       "<thead>\n",
       "\t<tr><th scope=col>X1</th><th scope=col>X2</th><th scope=col>X3</th><th scope=col>fitness</th></tr>\n",
       "\t<tr><th scope=col>&lt;dbl&gt;</th><th scope=col>&lt;dbl&gt;</th><th scope=col>&lt;dbl&gt;</th><th scope=col>&lt;dbl&gt;</th></tr>\n",
       "</thead>\n",
       "<tbody>\n",
       "\t<tr><td> 0.99834237</td><td> 0.79445473</td><td> 0.20331786</td><td>1.6691840</td></tr>\n",
       "\t<tr><td>-0.89924304</td><td>-0.18285012</td><td>-0.07443426</td><td>0.8476127</td></tr>\n",
       "\t<tr><td> 0.85710800</td><td> 0.05280463</td><td>-0.75742639</td><td>1.3111172</td></tr>\n",
       "\t<tr><td>-0.35359450</td><td>-0.50799305</td><td> 0.85691434</td><td>1.1173882</td></tr>\n",
       "\t<tr><td> 0.95877729</td><td>-0.66051286</td><td>-0.13057602</td><td>1.3725812</td></tr>\n",
       "\t<tr><td> 0.46261974</td><td> 0.16621689</td><td> 0.86368487</td><td>0.9875966</td></tr>\n",
       "\t<tr><td>-0.85960911</td><td>-0.48471807</td><td>-0.23052461</td><td>1.0270210</td></tr>\n",
       "\t<tr><td>-0.23578122</td><td>-0.30597524</td><td>-0.39677814</td><td>0.3066465</td></tr>\n",
       "\t<tr><td> 0.26536945</td><td> 0.98374946</td><td>-0.08639316</td><td>1.0456477</td></tr>\n",
       "\t<tr><td>-0.06536139</td><td>-0.50472676</td><td>-0.31049981</td><td>0.3554313</td></tr>\n",
       "</tbody>\n",
       "</table>\n"
      ],
      "text/latex": [
       "A data.frame: 10 × 4\n",
       "\\begin{tabular}{llll}\n",
       " X1 & X2 & X3 & fitness\\\\\n",
       " <dbl> & <dbl> & <dbl> & <dbl>\\\\\n",
       "\\hline\n",
       "\t  0.99834237 &  0.79445473 &  0.20331786 & 1.6691840\\\\\n",
       "\t -0.89924304 & -0.18285012 & -0.07443426 & 0.8476127\\\\\n",
       "\t  0.85710800 &  0.05280463 & -0.75742639 & 1.3111172\\\\\n",
       "\t -0.35359450 & -0.50799305 &  0.85691434 & 1.1173882\\\\\n",
       "\t  0.95877729 & -0.66051286 & -0.13057602 & 1.3725812\\\\\n",
       "\t  0.46261974 &  0.16621689 &  0.86368487 & 0.9875966\\\\\n",
       "\t -0.85960911 & -0.48471807 & -0.23052461 & 1.0270210\\\\\n",
       "\t -0.23578122 & -0.30597524 & -0.39677814 & 0.3066465\\\\\n",
       "\t  0.26536945 &  0.98374946 & -0.08639316 & 1.0456477\\\\\n",
       "\t -0.06536139 & -0.50472676 & -0.31049981 & 0.3554313\\\\\n",
       "\\end{tabular}\n"
      ],
      "text/markdown": [
       "\n",
       "A data.frame: 10 × 4\n",
       "\n",
       "| X1 &lt;dbl&gt; | X2 &lt;dbl&gt; | X3 &lt;dbl&gt; | fitness &lt;dbl&gt; |\n",
       "|---|---|---|---|\n",
       "|  0.99834237 |  0.79445473 |  0.20331786 | 1.6691840 |\n",
       "| -0.89924304 | -0.18285012 | -0.07443426 | 0.8476127 |\n",
       "|  0.85710800 |  0.05280463 | -0.75742639 | 1.3111172 |\n",
       "| -0.35359450 | -0.50799305 |  0.85691434 | 1.1173882 |\n",
       "|  0.95877729 | -0.66051286 | -0.13057602 | 1.3725812 |\n",
       "|  0.46261974 |  0.16621689 |  0.86368487 | 0.9875966 |\n",
       "| -0.85960911 | -0.48471807 | -0.23052461 | 1.0270210 |\n",
       "| -0.23578122 | -0.30597524 | -0.39677814 | 0.3066465 |\n",
       "|  0.26536945 |  0.98374946 | -0.08639316 | 1.0456477 |\n",
       "| -0.06536139 | -0.50472676 | -0.31049981 | 0.3554313 |\n",
       "\n"
      ],
      "text/plain": [
       "   X1          X2          X3          fitness  \n",
       "1   0.99834237  0.79445473  0.20331786 1.6691840\n",
       "2  -0.89924304 -0.18285012 -0.07443426 0.8476127\n",
       "3   0.85710800  0.05280463 -0.75742639 1.3111172\n",
       "4  -0.35359450 -0.50799305  0.85691434 1.1173882\n",
       "5   0.95877729 -0.66051286 -0.13057602 1.3725812\n",
       "6   0.46261974  0.16621689  0.86368487 0.9875966\n",
       "7  -0.85960911 -0.48471807 -0.23052461 1.0270210\n",
       "8  -0.23578122 -0.30597524 -0.39677814 0.3066465\n",
       "9   0.26536945  0.98374946 -0.08639316 1.0456477\n",
       "10 -0.06536139 -0.50472676 -0.31049981 0.3554313"
      ]
     },
     "metadata": {},
     "output_type": "display_data"
    }
   ],
   "source": [
    "pop_df <- data.frame(t(pop_mat), fitness)\n",
    "pop_df"
   ]
  },
  {
   "cell_type": "code",
   "execution_count": null,
   "metadata": {},
   "outputs": [],
   "source": []
  }
 ],
 "metadata": {
  "kernelspec": {
   "display_name": "R",
   "language": "R",
   "name": "ir"
  },
  "language_info": {
   "codemirror_mode": "r",
   "file_extension": ".r",
   "mimetype": "text/x-r-source",
   "name": "R",
   "pygments_lexer": "r",
   "version": "3.6.3"
  }
 },
 "nbformat": 4,
 "nbformat_minor": 4
}
