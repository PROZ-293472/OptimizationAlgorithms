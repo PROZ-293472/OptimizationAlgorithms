{
 "cells": [
  {
   "cell_type": "code",
   "execution_count": 2,
   "metadata": {},
   "outputs": [],
   "source": [
    "rm(list = ls())\n",
    "source(\"Main.R\")"
   ]
  },
  {
   "cell_type": "code",
   "execution_count": null,
   "metadata": {},
   "outputs": [
    {
     "name": "stdout",
     "output_type": "stream",
     "text": [
      "[1] \"here\"\n",
      "[1] \"here\"\n",
      "[1] \"here\"\n"
     ]
    }
   ],
   "source": [
    "print('here')\n",
    "objective_function <- sum_of_squares\n",
    "print('here')\n",
    "problem_dimension <- 70\n",
    "print('here')\n",
    "algorithm <- 'de'\n",
    "\n",
    "reps <- 30\n",
    "res_list <- list()\n",
    "for(i in 1:reps){\n",
    "    print(i)\n",
    "    res <- optimize(objective_function, problem_dimension, constraints=c(), algorithm, repair_method=repair_method, tolerance=1e-100, max_iter=100)\n",
    "    res_list <- list.append(res_list,res)\n",
    "}\n"
   ]
  },
  {
   "cell_type": "code",
   "execution_count": null,
   "metadata": {},
   "outputs": [],
   "source": [
    "i <- 0\n",
    "for(r in res_list){\n",
    "    if(i==0){\n",
    "        out <- r@times_list\n",
    "    }else{\n",
    "        out <- out + r@times_list\n",
    "    }\n",
    "}\n",
    "out <- out/reps"
   ]
  },
  {
   "cell_type": "code",
   "execution_count": 3,
   "metadata": {},
   "outputs": [
    {
     "data": {
      "text/html": [
       "10"
      ],
      "text/latex": [
       "10"
      ],
      "text/markdown": [
       "10"
      ],
      "text/plain": [
       "[1] 10"
      ]
     },
     "metadata": {},
     "output_type": "display_data"
    }
   ],
   "source": [
    "c(1)*10"
   ]
  },
  {
   "cell_type": "code",
   "execution_count": null,
   "metadata": {},
   "outputs": [],
   "source": []
  }
 ],
 "metadata": {
  "kernelspec": {
   "display_name": "R",
   "language": "R",
   "name": "ir"
  },
  "language_info": {
   "codemirror_mode": "r",
   "file_extension": ".r",
   "mimetype": "text/x-r-source",
   "name": "R",
   "pygments_lexer": "r",
   "version": "3.6.3"
  }
 },
 "nbformat": 4,
 "nbformat_minor": 4
}
